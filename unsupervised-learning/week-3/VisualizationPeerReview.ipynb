{
 "cells": [
  {
   "cell_type": "markdown",
   "metadata": {},
   "source": [
    "# Визуализация данных\n",
    "## Peer Review"
   ]
  },
  {
   "cell_type": "markdown",
   "metadata": {},
   "source": [
    "Визуализация данных - первый шаг в решении практически любой задачи анализа данных, в частности, при участии в соревновании. Визуализация помогает решить, какую предобработку данных нужно провести, какие методы лучше использовать для предсказания, какие признаки добавить. В этом Peer Review мы будем работать с данными [kaggle-соревнования](https://www.kaggle.com/c/prudential-life-insurance-assessment), завершившегося зимой 2016 года. \n",
    "\n",
    "__Задача соревнования:__ по характеристикам человека и его заявки на медицинскую страховку предсказать степень риска, характерную для данной страховки.\n",
    "\n",
    "__Чем будем заниматься мы:__\n",
    "* рассматривать данные;\n",
    "* пробовать разные методы визуализации;\n",
    "* анализировать графики и пытаться сделать выводы, полезные для следующих этапов решения задачи.\n",
    "\n",
    "Целевой признак (степень риска) в задаче номинальный: целые числа от 1 до 8, а метрика качества, предложенная организаторами соревнования, оценивает степень согласованности двух рейтингов. Поэтому задачу можно решать и методами классификации, и методами регрессии (в последнем случае придется округлять предсказания). Это стоит учитывать при анализе результатов визуализации.\n",
    "\n",
    "Мы будем визуализировать только обучающую выборку. Часто при решении конкурсов полезно визуализировать также тестовую выборку (на которой нужно сделать предсказание), чтобы убедиться, что данные идентичны.\n",
    "\n",
    "Часть кода, необходимого для построения графиков, уже написана; для другой части даны инструкции, по которым вам нужно написать скрипт; такие ячейки помечены # Код X, X - число. Кроме того, вам необходимо проанализировать графики, ответив на вопросы.\n",
    "\n",
    "<font color=\"red\"> Внимание! </font> Мы будем заниматься именно визуализацией - построение изображением. Пожалуйста, отвечайте на вопросы именно __по изображениям__. Если вы считаете, что картинка слишком маленькая, и пытаетесь найти ответ на вопрос другими способами, сопоставляйте его с изображением, потому что в рекомендациях к проверке именно такие ответы. Если вы считаете, что вопрос не корректен, пишите об этом в _специальном_ треде __\"Peer Review по визуализации: формулировки вопросов.\"__ на форуме. Если вы (после проверки других работ) считаете, что рекомендация к проверке не корректна, пишите об этом __в обратной связи к заданию__. \n",
    "\n",
    "Визуализацию в python часто делают с помощью библиотеки seaborn. Установить ее можно командой pip install seaborn. Если вы по каким-то причинам не можете установить библиотеку, вам придется строить некоторые графики самостоятельно или использовать их аналоги в pyplot. Pandas также использует seaborn, чтобы строить графики."
   ]
  },
  {
   "cell_type": "code",
   "execution_count": null,
   "metadata": {},
   "outputs": [],
   "source": [
    "import numpy as np\n",
    "import pandas\n",
    "from matplotlib import pyplot as plt\n",
    "import seaborn\n",
    "%matplotlib inline"
   ]
  },
  {
   "cell_type": "markdown",
   "metadata": {},
   "source": [
    "Считываем данные:"
   ]
  },
  {
   "cell_type": "code",
   "execution_count": 2,
   "metadata": {},
   "outputs": [],
   "source": [
    "data = pandas.read_csv(\"train.csv\", na_values=\"NaN\")"
   ]
  },
  {
   "cell_type": "code",
   "execution_count": 3,
   "metadata": {},
   "outputs": [
    {
     "data": {
      "text/html": [
       "<div>\n",
       "<style scoped>\n",
       "    .dataframe tbody tr th:only-of-type {\n",
       "        vertical-align: middle;\n",
       "    }\n",
       "\n",
       "    .dataframe tbody tr th {\n",
       "        vertical-align: top;\n",
       "    }\n",
       "\n",
       "    .dataframe thead th {\n",
       "        text-align: right;\n",
       "    }\n",
       "</style>\n",
       "<table border=\"1\" class=\"dataframe\">\n",
       "  <thead>\n",
       "    <tr style=\"text-align: right;\">\n",
       "      <th></th>\n",
       "      <th>Id</th>\n",
       "      <th>Product_Info_1</th>\n",
       "      <th>Product_Info_2</th>\n",
       "      <th>Product_Info_3</th>\n",
       "      <th>Product_Info_4</th>\n",
       "      <th>Product_Info_5</th>\n",
       "      <th>Product_Info_6</th>\n",
       "      <th>Product_Info_7</th>\n",
       "      <th>Ins_Age</th>\n",
       "      <th>Ht</th>\n",
       "      <th>...</th>\n",
       "      <th>Medical_Keyword_40</th>\n",
       "      <th>Medical_Keyword_41</th>\n",
       "      <th>Medical_Keyword_42</th>\n",
       "      <th>Medical_Keyword_43</th>\n",
       "      <th>Medical_Keyword_44</th>\n",
       "      <th>Medical_Keyword_45</th>\n",
       "      <th>Medical_Keyword_46</th>\n",
       "      <th>Medical_Keyword_47</th>\n",
       "      <th>Medical_Keyword_48</th>\n",
       "      <th>Response</th>\n",
       "    </tr>\n",
       "  </thead>\n",
       "  <tbody>\n",
       "    <tr>\n",
       "      <th>0</th>\n",
       "      <td>2</td>\n",
       "      <td>1</td>\n",
       "      <td>D3</td>\n",
       "      <td>10</td>\n",
       "      <td>0.076923</td>\n",
       "      <td>2</td>\n",
       "      <td>1</td>\n",
       "      <td>1</td>\n",
       "      <td>0.641791</td>\n",
       "      <td>0.581818</td>\n",
       "      <td>...</td>\n",
       "      <td>0</td>\n",
       "      <td>0</td>\n",
       "      <td>0</td>\n",
       "      <td>0</td>\n",
       "      <td>0</td>\n",
       "      <td>0</td>\n",
       "      <td>0</td>\n",
       "      <td>0</td>\n",
       "      <td>0</td>\n",
       "      <td>8</td>\n",
       "    </tr>\n",
       "    <tr>\n",
       "      <th>1</th>\n",
       "      <td>5</td>\n",
       "      <td>1</td>\n",
       "      <td>A1</td>\n",
       "      <td>26</td>\n",
       "      <td>0.076923</td>\n",
       "      <td>2</td>\n",
       "      <td>3</td>\n",
       "      <td>1</td>\n",
       "      <td>0.059701</td>\n",
       "      <td>0.600000</td>\n",
       "      <td>...</td>\n",
       "      <td>0</td>\n",
       "      <td>0</td>\n",
       "      <td>0</td>\n",
       "      <td>0</td>\n",
       "      <td>0</td>\n",
       "      <td>0</td>\n",
       "      <td>0</td>\n",
       "      <td>0</td>\n",
       "      <td>0</td>\n",
       "      <td>4</td>\n",
       "    </tr>\n",
       "    <tr>\n",
       "      <th>2</th>\n",
       "      <td>6</td>\n",
       "      <td>1</td>\n",
       "      <td>E1</td>\n",
       "      <td>26</td>\n",
       "      <td>0.076923</td>\n",
       "      <td>2</td>\n",
       "      <td>3</td>\n",
       "      <td>1</td>\n",
       "      <td>0.029851</td>\n",
       "      <td>0.745455</td>\n",
       "      <td>...</td>\n",
       "      <td>0</td>\n",
       "      <td>0</td>\n",
       "      <td>0</td>\n",
       "      <td>0</td>\n",
       "      <td>0</td>\n",
       "      <td>0</td>\n",
       "      <td>0</td>\n",
       "      <td>0</td>\n",
       "      <td>0</td>\n",
       "      <td>8</td>\n",
       "    </tr>\n",
       "    <tr>\n",
       "      <th>3</th>\n",
       "      <td>7</td>\n",
       "      <td>1</td>\n",
       "      <td>D4</td>\n",
       "      <td>10</td>\n",
       "      <td>0.487179</td>\n",
       "      <td>2</td>\n",
       "      <td>3</td>\n",
       "      <td>1</td>\n",
       "      <td>0.164179</td>\n",
       "      <td>0.672727</td>\n",
       "      <td>...</td>\n",
       "      <td>0</td>\n",
       "      <td>0</td>\n",
       "      <td>0</td>\n",
       "      <td>0</td>\n",
       "      <td>0</td>\n",
       "      <td>0</td>\n",
       "      <td>0</td>\n",
       "      <td>0</td>\n",
       "      <td>0</td>\n",
       "      <td>8</td>\n",
       "    </tr>\n",
       "    <tr>\n",
       "      <th>4</th>\n",
       "      <td>8</td>\n",
       "      <td>1</td>\n",
       "      <td>D2</td>\n",
       "      <td>26</td>\n",
       "      <td>0.230769</td>\n",
       "      <td>2</td>\n",
       "      <td>3</td>\n",
       "      <td>1</td>\n",
       "      <td>0.417910</td>\n",
       "      <td>0.654545</td>\n",
       "      <td>...</td>\n",
       "      <td>0</td>\n",
       "      <td>0</td>\n",
       "      <td>0</td>\n",
       "      <td>0</td>\n",
       "      <td>0</td>\n",
       "      <td>0</td>\n",
       "      <td>0</td>\n",
       "      <td>0</td>\n",
       "      <td>0</td>\n",
       "      <td>8</td>\n",
       "    </tr>\n",
       "  </tbody>\n",
       "</table>\n",
       "<p>5 rows × 128 columns</p>\n",
       "</div>"
      ],
      "text/plain": [
       "   Id  Product_Info_1 Product_Info_2  Product_Info_3  Product_Info_4  \\\n",
       "0   2               1             D3              10        0.076923   \n",
       "1   5               1             A1              26        0.076923   \n",
       "2   6               1             E1              26        0.076923   \n",
       "3   7               1             D4              10        0.487179   \n",
       "4   8               1             D2              26        0.230769   \n",
       "\n",
       "   Product_Info_5  Product_Info_6  Product_Info_7   Ins_Age        Ht  \\\n",
       "0               2               1               1  0.641791  0.581818   \n",
       "1               2               3               1  0.059701  0.600000   \n",
       "2               2               3               1  0.029851  0.745455   \n",
       "3               2               3               1  0.164179  0.672727   \n",
       "4               2               3               1  0.417910  0.654545   \n",
       "\n",
       "     ...     Medical_Keyword_40  Medical_Keyword_41  Medical_Keyword_42  \\\n",
       "0    ...                      0                   0                   0   \n",
       "1    ...                      0                   0                   0   \n",
       "2    ...                      0                   0                   0   \n",
       "3    ...                      0                   0                   0   \n",
       "4    ...                      0                   0                   0   \n",
       "\n",
       "   Medical_Keyword_43  Medical_Keyword_44  Medical_Keyword_45  \\\n",
       "0                   0                   0                   0   \n",
       "1                   0                   0                   0   \n",
       "2                   0                   0                   0   \n",
       "3                   0                   0                   0   \n",
       "4                   0                   0                   0   \n",
       "\n",
       "   Medical_Keyword_46  Medical_Keyword_47  Medical_Keyword_48  Response  \n",
       "0                   0                   0                   0         8  \n",
       "1                   0                   0                   0         4  \n",
       "2                   0                   0                   0         8  \n",
       "3                   0                   0                   0         8  \n",
       "4                   0                   0                   0         8  \n",
       "\n",
       "[5 rows x 128 columns]"
      ]
     },
     "execution_count": 3,
     "metadata": {},
     "output_type": "execute_result"
    }
   ],
   "source": [
    "data.head()"
   ]
  },
  {
   "cell_type": "markdown",
   "metadata": {},
   "source": [
    "Часто в соревнованиях смысл признаков не известен, в нашем соревновании это не совсем так. Вы можете посмотреть описание признаков на [странице с данными](https://www.kaggle.com/c/prudential-life-insurance-assessment/data). Резюме: значение известно только для нескольких признаков, для остальных известна только группа, к которой этот признак принадлежит (например, медицинские данные) и тип признака: вещественный, целочисленный или категориальный. При этом неясно, можно ли считать категориальные признаки упорядоченными.\n",
    "\n",
    "Создадим три списка признаков, соответствующие их группам: вещественные, целочисленные и категориальные (эти списки даны на странице соревнования). Уберем признак Id, так как он не несет смысловой нагрузки. \n",
    "\n",
    "Если бы типы признаков были не даны, нам бы пришлось вручную просматривать все 128 признаков, чтобы понять, какие значения они принимают. "
   ]
  },
  {
   "cell_type": "code",
   "execution_count": 4,
   "metadata": {},
   "outputs": [],
   "source": [
    "real_features = [\"Product_Info_4\", \"Ins_Age\", \"Ht\", \"Wt\", \"BMI\", \"Employment_Info_1\", \"Employment_Info_4\", \"Employment_Info_6\",\n",
    "                 \"Insurance_History_5\", \"Family_Hist_2\", \"Family_Hist_3\", \"Family_Hist_4\", \"Family_Hist_5\"]\n",
    "discrete_features = [\"Medical_History_1\", \"Medical_History_10\", \"Medical_History_15\", \"Medical_History_24\", \"Medical_History_32\"]\n",
    "cat_features = data.columns.drop(real_features).drop(discrete_features).drop([\"Id\", \"Response\"]).tolist()"
   ]
  },
  {
   "cell_type": "markdown",
   "metadata": {},
   "source": [
    "### Первичный анализ"
   ]
  },
  {
   "cell_type": "markdown",
   "metadata": {},
   "source": [
    "Есть набор стандартных приемов визуализации, которые нужно попробовать, когда вы начинаете работу с набором данных; к ним относятся построение гистограмм признаков (histogram, density estimation), л статистик, оценка зависимости целевого признака от остальных (boxplot, scatterplot, violinplot), визуализация пар признаков (как правило, scatterplot). Конкретный вид графика, который вам подходит, зависит от типа признаков, хороший обзор приведен в разделе Plotting functions [туториала seaborn](https://stanford.edu/~mwaskom/software/seaborn/tutorial.html).\n",
    "\n",
    "Сначала рассмотрим числовые признаки, затем - категориальные.\n",
    "\n",
    "##### Выведем статистики вещественных и целочисленных признаков:"
   ]
  },
  {
   "cell_type": "code",
   "execution_count": 5,
   "metadata": {},
   "outputs": [
    {
     "data": {
      "text/html": [
       "<div>\n",
       "<style scoped>\n",
       "    .dataframe tbody tr th:only-of-type {\n",
       "        vertical-align: middle;\n",
       "    }\n",
       "\n",
       "    .dataframe tbody tr th {\n",
       "        vertical-align: top;\n",
       "    }\n",
       "\n",
       "    .dataframe thead th {\n",
       "        text-align: right;\n",
       "    }\n",
       "</style>\n",
       "<table border=\"1\" class=\"dataframe\">\n",
       "  <thead>\n",
       "    <tr style=\"text-align: right;\">\n",
       "      <th></th>\n",
       "      <th>Product_Info_4</th>\n",
       "      <th>Ins_Age</th>\n",
       "      <th>Ht</th>\n",
       "      <th>Wt</th>\n",
       "      <th>BMI</th>\n",
       "      <th>Employment_Info_1</th>\n",
       "      <th>Employment_Info_4</th>\n",
       "      <th>Employment_Info_6</th>\n",
       "      <th>Insurance_History_5</th>\n",
       "      <th>Family_Hist_2</th>\n",
       "      <th>Family_Hist_3</th>\n",
       "      <th>Family_Hist_4</th>\n",
       "      <th>Family_Hist_5</th>\n",
       "    </tr>\n",
       "  </thead>\n",
       "  <tbody>\n",
       "    <tr>\n",
       "      <th>count</th>\n",
       "      <td>59381.000000</td>\n",
       "      <td>59381.000000</td>\n",
       "      <td>59381.000000</td>\n",
       "      <td>59381.000000</td>\n",
       "      <td>59381.000000</td>\n",
       "      <td>59362.000000</td>\n",
       "      <td>52602.000000</td>\n",
       "      <td>48527.000000</td>\n",
       "      <td>33985.000000</td>\n",
       "      <td>30725.000000</td>\n",
       "      <td>25140.000000</td>\n",
       "      <td>40197.000000</td>\n",
       "      <td>17570.000000</td>\n",
       "    </tr>\n",
       "    <tr>\n",
       "      <th>mean</th>\n",
       "      <td>0.328952</td>\n",
       "      <td>0.405567</td>\n",
       "      <td>0.707283</td>\n",
       "      <td>0.292587</td>\n",
       "      <td>0.469462</td>\n",
       "      <td>0.077582</td>\n",
       "      <td>0.006283</td>\n",
       "      <td>0.361469</td>\n",
       "      <td>0.001733</td>\n",
       "      <td>0.474550</td>\n",
       "      <td>0.497737</td>\n",
       "      <td>0.444890</td>\n",
       "      <td>0.484635</td>\n",
       "    </tr>\n",
       "    <tr>\n",
       "      <th>std</th>\n",
       "      <td>0.282562</td>\n",
       "      <td>0.197190</td>\n",
       "      <td>0.074239</td>\n",
       "      <td>0.089037</td>\n",
       "      <td>0.122213</td>\n",
       "      <td>0.082347</td>\n",
       "      <td>0.032816</td>\n",
       "      <td>0.349551</td>\n",
       "      <td>0.007338</td>\n",
       "      <td>0.154959</td>\n",
       "      <td>0.140187</td>\n",
       "      <td>0.163012</td>\n",
       "      <td>0.129200</td>\n",
       "    </tr>\n",
       "    <tr>\n",
       "      <th>min</th>\n",
       "      <td>0.000000</td>\n",
       "      <td>0.000000</td>\n",
       "      <td>0.000000</td>\n",
       "      <td>0.000000</td>\n",
       "      <td>0.000000</td>\n",
       "      <td>0.000000</td>\n",
       "      <td>0.000000</td>\n",
       "      <td>0.000000</td>\n",
       "      <td>0.000000</td>\n",
       "      <td>0.000000</td>\n",
       "      <td>0.000000</td>\n",
       "      <td>0.000000</td>\n",
       "      <td>0.000000</td>\n",
       "    </tr>\n",
       "    <tr>\n",
       "      <th>25%</th>\n",
       "      <td>0.076923</td>\n",
       "      <td>0.238806</td>\n",
       "      <td>0.654545</td>\n",
       "      <td>0.225941</td>\n",
       "      <td>0.385517</td>\n",
       "      <td>0.035000</td>\n",
       "      <td>0.000000</td>\n",
       "      <td>0.060000</td>\n",
       "      <td>0.000400</td>\n",
       "      <td>0.362319</td>\n",
       "      <td>0.401961</td>\n",
       "      <td>0.323944</td>\n",
       "      <td>0.401786</td>\n",
       "    </tr>\n",
       "    <tr>\n",
       "      <th>50%</th>\n",
       "      <td>0.230769</td>\n",
       "      <td>0.402985</td>\n",
       "      <td>0.709091</td>\n",
       "      <td>0.288703</td>\n",
       "      <td>0.451349</td>\n",
       "      <td>0.060000</td>\n",
       "      <td>0.000000</td>\n",
       "      <td>0.250000</td>\n",
       "      <td>0.000973</td>\n",
       "      <td>0.463768</td>\n",
       "      <td>0.519608</td>\n",
       "      <td>0.422535</td>\n",
       "      <td>0.508929</td>\n",
       "    </tr>\n",
       "    <tr>\n",
       "      <th>75%</th>\n",
       "      <td>0.487179</td>\n",
       "      <td>0.567164</td>\n",
       "      <td>0.763636</td>\n",
       "      <td>0.345188</td>\n",
       "      <td>0.532858</td>\n",
       "      <td>0.100000</td>\n",
       "      <td>0.000000</td>\n",
       "      <td>0.550000</td>\n",
       "      <td>0.002000</td>\n",
       "      <td>0.579710</td>\n",
       "      <td>0.598039</td>\n",
       "      <td>0.563380</td>\n",
       "      <td>0.580357</td>\n",
       "    </tr>\n",
       "    <tr>\n",
       "      <th>max</th>\n",
       "      <td>1.000000</td>\n",
       "      <td>1.000000</td>\n",
       "      <td>1.000000</td>\n",
       "      <td>1.000000</td>\n",
       "      <td>1.000000</td>\n",
       "      <td>1.000000</td>\n",
       "      <td>1.000000</td>\n",
       "      <td>1.000000</td>\n",
       "      <td>1.000000</td>\n",
       "      <td>1.000000</td>\n",
       "      <td>1.000000</td>\n",
       "      <td>0.943662</td>\n",
       "      <td>1.000000</td>\n",
       "    </tr>\n",
       "  </tbody>\n",
       "</table>\n",
       "</div>"
      ],
      "text/plain": [
       "       Product_Info_4       Ins_Age            Ht            Wt           BMI  \\\n",
       "count    59381.000000  59381.000000  59381.000000  59381.000000  59381.000000   \n",
       "mean         0.328952      0.405567      0.707283      0.292587      0.469462   \n",
       "std          0.282562      0.197190      0.074239      0.089037      0.122213   \n",
       "min          0.000000      0.000000      0.000000      0.000000      0.000000   \n",
       "25%          0.076923      0.238806      0.654545      0.225941      0.385517   \n",
       "50%          0.230769      0.402985      0.709091      0.288703      0.451349   \n",
       "75%          0.487179      0.567164      0.763636      0.345188      0.532858   \n",
       "max          1.000000      1.000000      1.000000      1.000000      1.000000   \n",
       "\n",
       "       Employment_Info_1  Employment_Info_4  Employment_Info_6  \\\n",
       "count       59362.000000       52602.000000       48527.000000   \n",
       "mean            0.077582           0.006283           0.361469   \n",
       "std             0.082347           0.032816           0.349551   \n",
       "min             0.000000           0.000000           0.000000   \n",
       "25%             0.035000           0.000000           0.060000   \n",
       "50%             0.060000           0.000000           0.250000   \n",
       "75%             0.100000           0.000000           0.550000   \n",
       "max             1.000000           1.000000           1.000000   \n",
       "\n",
       "       Insurance_History_5  Family_Hist_2  Family_Hist_3  Family_Hist_4  \\\n",
       "count         33985.000000   30725.000000   25140.000000   40197.000000   \n",
       "mean              0.001733       0.474550       0.497737       0.444890   \n",
       "std               0.007338       0.154959       0.140187       0.163012   \n",
       "min               0.000000       0.000000       0.000000       0.000000   \n",
       "25%               0.000400       0.362319       0.401961       0.323944   \n",
       "50%               0.000973       0.463768       0.519608       0.422535   \n",
       "75%               0.002000       0.579710       0.598039       0.563380   \n",
       "max               1.000000       1.000000       1.000000       0.943662   \n",
       "\n",
       "       Family_Hist_5  \n",
       "count   17570.000000  \n",
       "mean        0.484635  \n",
       "std         0.129200  \n",
       "min         0.000000  \n",
       "25%         0.401786  \n",
       "50%         0.508929  \n",
       "75%         0.580357  \n",
       "max         1.000000  "
      ]
     },
     "execution_count": 5,
     "metadata": {},
     "output_type": "execute_result"
    }
   ],
   "source": [
    "data[real_features].describe()"
   ]
  },
  {
   "cell_type": "code",
   "execution_count": 6,
   "metadata": {},
   "outputs": [
    {
     "data": {
      "text/html": [
       "<div>\n",
       "<style scoped>\n",
       "    .dataframe tbody tr th:only-of-type {\n",
       "        vertical-align: middle;\n",
       "    }\n",
       "\n",
       "    .dataframe tbody tr th {\n",
       "        vertical-align: top;\n",
       "    }\n",
       "\n",
       "    .dataframe thead th {\n",
       "        text-align: right;\n",
       "    }\n",
       "</style>\n",
       "<table border=\"1\" class=\"dataframe\">\n",
       "  <thead>\n",
       "    <tr style=\"text-align: right;\">\n",
       "      <th></th>\n",
       "      <th>Medical_History_1</th>\n",
       "      <th>Medical_History_10</th>\n",
       "      <th>Medical_History_15</th>\n",
       "      <th>Medical_History_24</th>\n",
       "      <th>Medical_History_32</th>\n",
       "    </tr>\n",
       "  </thead>\n",
       "  <tbody>\n",
       "    <tr>\n",
       "      <th>count</th>\n",
       "      <td>50492.000000</td>\n",
       "      <td>557.000000</td>\n",
       "      <td>14785.000000</td>\n",
       "      <td>3801.000000</td>\n",
       "      <td>1107.000000</td>\n",
       "    </tr>\n",
       "    <tr>\n",
       "      <th>mean</th>\n",
       "      <td>7.962172</td>\n",
       "      <td>141.118492</td>\n",
       "      <td>123.760974</td>\n",
       "      <td>50.635622</td>\n",
       "      <td>11.965673</td>\n",
       "    </tr>\n",
       "    <tr>\n",
       "      <th>std</th>\n",
       "      <td>13.027697</td>\n",
       "      <td>107.759559</td>\n",
       "      <td>98.516206</td>\n",
       "      <td>78.149069</td>\n",
       "      <td>38.718774</td>\n",
       "    </tr>\n",
       "    <tr>\n",
       "      <th>min</th>\n",
       "      <td>0.000000</td>\n",
       "      <td>0.000000</td>\n",
       "      <td>0.000000</td>\n",
       "      <td>0.000000</td>\n",
       "      <td>0.000000</td>\n",
       "    </tr>\n",
       "    <tr>\n",
       "      <th>25%</th>\n",
       "      <td>2.000000</td>\n",
       "      <td>8.000000</td>\n",
       "      <td>17.000000</td>\n",
       "      <td>1.000000</td>\n",
       "      <td>0.000000</td>\n",
       "    </tr>\n",
       "    <tr>\n",
       "      <th>50%</th>\n",
       "      <td>4.000000</td>\n",
       "      <td>229.000000</td>\n",
       "      <td>117.000000</td>\n",
       "      <td>8.000000</td>\n",
       "      <td>0.000000</td>\n",
       "    </tr>\n",
       "    <tr>\n",
       "      <th>75%</th>\n",
       "      <td>9.000000</td>\n",
       "      <td>240.000000</td>\n",
       "      <td>240.000000</td>\n",
       "      <td>64.000000</td>\n",
       "      <td>2.000000</td>\n",
       "    </tr>\n",
       "    <tr>\n",
       "      <th>max</th>\n",
       "      <td>240.000000</td>\n",
       "      <td>240.000000</td>\n",
       "      <td>240.000000</td>\n",
       "      <td>240.000000</td>\n",
       "      <td>240.000000</td>\n",
       "    </tr>\n",
       "  </tbody>\n",
       "</table>\n",
       "</div>"
      ],
      "text/plain": [
       "       Medical_History_1  Medical_History_10  Medical_History_15  \\\n",
       "count       50492.000000          557.000000        14785.000000   \n",
       "mean            7.962172          141.118492          123.760974   \n",
       "std            13.027697          107.759559           98.516206   \n",
       "min             0.000000            0.000000            0.000000   \n",
       "25%             2.000000            8.000000           17.000000   \n",
       "50%             4.000000          229.000000          117.000000   \n",
       "75%             9.000000          240.000000          240.000000   \n",
       "max           240.000000          240.000000          240.000000   \n",
       "\n",
       "       Medical_History_24  Medical_History_32  \n",
       "count         3801.000000         1107.000000  \n",
       "mean            50.635622           11.965673  \n",
       "std             78.149069           38.718774  \n",
       "min              0.000000            0.000000  \n",
       "25%              1.000000            0.000000  \n",
       "50%              8.000000            0.000000  \n",
       "75%             64.000000            2.000000  \n",
       "max            240.000000          240.000000  "
      ]
     },
     "execution_count": 6,
     "metadata": {},
     "output_type": "execute_result"
    }
   ],
   "source": [
    "data[discrete_features].describe()"
   ]
  },
  {
   "cell_type": "code",
   "execution_count": 7,
   "metadata": {},
   "outputs": [
    {
     "data": {
      "text/plain": [
       "(59381, 128)"
      ]
     },
     "execution_count": 7,
     "metadata": {},
     "output_type": "execute_result"
    }
   ],
   "source": [
    "data.shape"
   ]
  },
  {
   "cell_type": "code",
   "execution_count": 8,
   "metadata": {},
   "outputs": [
    {
     "data": {
      "text/plain": [
       "['Medical_History_10',\n",
       " 'Medical_History_15',\n",
       " 'Medical_History_24',\n",
       " 'Medical_History_32']"
      ]
     },
     "execution_count": 8,
     "metadata": {},
     "output_type": "execute_result"
    }
   ],
   "source": [
    "list(data[discrete_features].describe().iloc[0, :].index[np.where(data[discrete_features].describe().iloc[0, :].values<59381./2.)])"
   ]
  },
  {
   "cell_type": "code",
   "execution_count": 9,
   "metadata": {},
   "outputs": [
    {
     "data": {
      "text/plain": [
       "['Family_Hist_3', 'Family_Hist_5']"
      ]
     },
     "execution_count": 9,
     "metadata": {},
     "output_type": "execute_result"
    }
   ],
   "source": [
    "list(data[real_features].describe().iloc[0, :].index[np.where(data[real_features].describe().iloc[0, :].values<59381./2.)])"
   ]
  },
  {
   "cell_type": "markdown",
   "metadata": {},
   "source": [
    "__Ответьте на вопросы (Блок 1):__\n",
    "* Есть ли пропуски в данных? Перечислите вещественные и целочисленные признаки, которые известны для всех объектов.\n",
    "   * Ответ: **'Product_Info_4', 'Ins_Age', 'Ht', 'Wt', 'BMI'**\n",
    "* Перечислите вещественные и целочисленные признаки, значение которых известно менее, чем для половины объектов.\n",
    "   * Ответ: **'Family_Hist_3', 'Family_Hist_5'** & **'Medical_History_10', 'Medical_History_15', 'Medical_History_24', 'Medical_History_32'**\n",
    "* Одинаков ли масштаб вещественных признаков? Масштаб целочисленных признаков? $^*$\n",
    "    * Ответ: **Масштаб вещественных признаков одинаков. Масштаб целочисленных признаков одинаков**\n",
    "\n",
    "$^*$ Будем считать, что масштаб двух признаков одинаков, если их минимумы отличаются не более, чем в 2 раза, и аналогично с максимумами."
   ]
  },
  {
   "cell_type": "markdown",
   "metadata": {},
   "source": [
    "Мы видим, что в датасете есть признаки, которые не известны почти для всех объектов. Кроме того, легко проверить, что в выборке нет объектов, для которых известны все признаки, даже если рассматривать только вещественные. Значит, при решении задачи нужно было бы использовать более сложные методы обработки пропусков, чем удаление объектов."
   ]
  },
  {
   "cell_type": "markdown",
   "metadata": {},
   "source": [
    "##### Постройте гистограммы вещественных и целочисленных признаков.\n",
    "Вместо того, чтобы в цикле по признакам строить отдельно каждую гистограмму, стоит воспользоваться методом hist датафрейма. Рекомендуется отдельно вывести гистограммы вещественных и целочисленных признаков. Установите размер изображения (20, 20) для первой группы признаков и  (10, 10) для второй, bins=100."
   ]
  },
  {
   "cell_type": "code",
   "execution_count": 10,
   "metadata": {},
   "outputs": [
    {
     "data": {
      "image/png": "[encoded data removed]",
      "text/plain": [
       "<Figure size 1440x1440 with 16 Axes>"
      ]
     },
     "metadata": {
      "needs_background": "light"
     },
     "output_type": "display_data"
    }
   ],
   "source": [
    "data[real_features].hist(bins=100, figsize=(20, 20));"
   ]
  },
  {
   "cell_type": "code",
   "execution_count": 11,
   "metadata": {},
   "outputs": [
    {
     "data": {
      "image/png": "[encoded data removed]",
      "text/plain": [
       "<Figure size 720x720 with 6 Axes>"
      ]
     },
     "metadata": {
      "needs_background": "light"
     },
     "output_type": "display_data"
    }
   ],
   "source": [
    "data[discrete_features].hist(bins=100, figsize=(10, 10));"
   ]
  },
  {
   "cell_type": "markdown",
   "metadata": {},
   "source": [
    "__Ответьте на вопросы (Блок 2):__\n",
    "* Есть ли константные признаки среди вещественных и целочисленных? Признак является константным, если множество его значений состоит из единственного элемента.\n",
    "    * Ответ: **Есть. Признак `Insurance_history_5`**\n",
    "* Предположим, что мы составили выборку, в которую вошли все и только вещественные признаки. Можно ли ее описать многомерным нормальным распределением? $^*$\n",
    "    * Ответ: **Исходя из определения ниже - нет, нельзя.**\n",
    "    \n",
    "$^*$ \n",
    "Плотность многомерного нормального распределения во всех проекциях на отдельные переменные должна быть симметрична, куполообразна, а значит, унимодальна."
   ]
  },
  {
   "cell_type": "markdown",
   "metadata": {},
   "source": [
    "Среди вещественных есть признаки с очень большим перекосом в сторону какого-то одного значения (например, Employmennt_Info_4), возможно, их стоило бы прологарифмировать при решении задачи. Кроме того, есть признаки со сложной структурой гистограммы. \n",
    "Распределения целочисленных признаков (относящихся к группе медицинских) имеют схожую структуру. \n",
    "\n",
    "В целом данные разнородны, и описать их одним вероятностным распределением непросто. "
   ]
  },
  {
   "cell_type": "markdown",
   "metadata": {},
   "source": [
    "##### Теперь визуализируем признаки попарно. \n",
    "Построим scatterplot для пар вещественных признаков. Для этого в seaborn есть функция pairplot. Исключим признаки, распределение которых не похоже на колокол (хотя бы скошенный и неровный), тем самым мы уменьшим размер таблицы пар. На диагоналях таблицы будут стоять оценки распределений признаков (гистограммы или восстановленные плотности, diag_kind=\"hist\" или \"kde\"). Если указать параметр hue = дискретный целевой признак, то разные его значения будут отображаться разными цветами."
   ]
  },
  {
   "cell_type": "code",
   "execution_count": null,
   "metadata": {},
   "outputs": [],
   "source": [
    "seaborn.pairplot(data[real_features+[\"Response\"]].drop(\n",
    "        [\"Employment_Info_4\", \"Employment_Info_6\", \"Insurance_History_5\", \"Product_Info_4\"], axis=1), \n",
    "        hue=\"Response\", diag_kind=\"kde\", dropna=False)"
   ]
  },
  {
   "cell_type": "markdown",
   "metadata": {},
   "source": [
    "Классы накрывают друг друга, и графики не очень информативны. Но они позволяют ответить на некоторые вопросы о взаимоотношениях признаков и соотношений признаков и классов."
   ]
  },
  {
   "cell_type": "markdown",
   "metadata": {},
   "source": [
    "__Ответьте на вопросы (Блок 3):__\n",
    "* Есть ли пары признаков, у которых облака точек разных классов отличаются? Иными словами, есть ли графики, на которых видны облака разных классов, а не только последнего нарисованного?\n",
    "    * Ответ: **Да, есть.**\n",
    "* Есть ли объекты-выбросы, то есть такие точки, которые стоят далеко от общего облака точек?\n",
    "    * Ответ: **Да, есть.**"
   ]
  },
  {
   "cell_type": "markdown",
   "metadata": {},
   "source": [
    "В целом облака точек выглядят достаточно компактно (в неформальном понимании этого слова), их можно приблизить искривленным кругом."
   ]
  },
  {
   "cell_type": "markdown",
   "metadata": {},
   "source": [
    "Теперь постройте такие же графики для целочисленных признаков (никакие признаки удалять не нужно, потому что таких признаков и так немного)."
   ]
  },
  {
   "cell_type": "code",
   "execution_count": null,
   "metadata": {},
   "outputs": [],
   "source": [
    "# Код 2. Постройте pairplot для целочисленных признаков\n",
    "seaborn.pairplot(data[discrete_features], diag_kind=\"kde\", dropna=True)"
   ]
  },
  {
   "cell_type": "markdown",
   "metadata": {},
   "source": [
    "Графики выглядят еще менее информативно. Заметна тенденция, что пары признаков сконцентрированы либо на сторона квадрата [0, 240] x [0, 240], либо на его диагонали, то есть признаки как-то связаны."
   ]
  },
  {
   "cell_type": "markdown",
   "metadata": {},
   "source": [
    "##### Посмотрим на корреляции признаков, чтобы узнать, не нужно ли удалять какие-то признаки перед (гипотетическим) построением модели. \n",
    "\n",
    "Для визуализации матрицы попарных корреляций удобно использовать функцию seaborn.heatmap, она автоматически подпишет признаки на осях и покажет colorbar. Мы вычисляем корреляции только между вещественными признаками, для целочисленных признаков корреляции вычисляется по другим формулам."
   ]
  },
  {
   "cell_type": "code",
   "execution_count": 20,
   "metadata": {},
   "outputs": [
    {
     "data": {
      "image/png": "[encoded data removed]",
      "text/plain": [
       "<Figure size 432x288 with 2 Axes>"
      ]
     },
     "metadata": {
      "needs_background": "light"
     },
     "output_type": "display_data"
    }
   ],
   "source": [
    "seaborn.heatmap(data[real_features].corr(), square=True);"
   ]
  },
  {
   "cell_type": "code",
   "execution_count": 21,
   "metadata": {},
   "outputs": [
    {
     "data": {
      "text/html": [
       "<div>\n",
       "<style scoped>\n",
       "    .dataframe tbody tr th:only-of-type {\n",
       "        vertical-align: middle;\n",
       "    }\n",
       "\n",
       "    .dataframe tbody tr th {\n",
       "        vertical-align: top;\n",
       "    }\n",
       "\n",
       "    .dataframe thead th {\n",
       "        text-align: right;\n",
       "    }\n",
       "</style>\n",
       "<table border=\"1\" class=\"dataframe\">\n",
       "  <thead>\n",
       "    <tr style=\"text-align: right;\">\n",
       "      <th></th>\n",
       "      <th>Product_Info_4</th>\n",
       "      <th>Ins_Age</th>\n",
       "      <th>Ht</th>\n",
       "      <th>Wt</th>\n",
       "      <th>BMI</th>\n",
       "      <th>Employment_Info_1</th>\n",
       "      <th>Employment_Info_4</th>\n",
       "      <th>Employment_Info_6</th>\n",
       "      <th>Insurance_History_5</th>\n",
       "      <th>Family_Hist_2</th>\n",
       "      <th>Family_Hist_3</th>\n",
       "      <th>Family_Hist_4</th>\n",
       "      <th>Family_Hist_5</th>\n",
       "    </tr>\n",
       "  </thead>\n",
       "  <tbody>\n",
       "    <tr>\n",
       "      <th>Product_Info_4</th>\n",
       "      <td>1.000000</td>\n",
       "      <td>-0.261356</td>\n",
       "      <td>0.141780</td>\n",
       "      <td>-0.028041</td>\n",
       "      <td>-0.129369</td>\n",
       "      <td>0.350974</td>\n",
       "      <td>0.048123</td>\n",
       "      <td>0.224500</td>\n",
       "      <td>0.140846</td>\n",
       "      <td>-0.043063</td>\n",
       "      <td>-0.089872</td>\n",
       "      <td>-0.107532</td>\n",
       "      <td>-0.113389</td>\n",
       "    </tr>\n",
       "    <tr>\n",
       "      <th>Ins_Age</th>\n",
       "      <td>-0.261356</td>\n",
       "      <td>1.000000</td>\n",
       "      <td>0.008419</td>\n",
       "      <td>0.110366</td>\n",
       "      <td>0.137076</td>\n",
       "      <td>0.096003</td>\n",
       "      <td>0.137615</td>\n",
       "      <td>0.386254</td>\n",
       "      <td>-0.013685</td>\n",
       "      <td>0.855715</td>\n",
       "      <td>0.356716</td>\n",
       "      <td>0.895261</td>\n",
       "      <td>0.474544</td>\n",
       "    </tr>\n",
       "    <tr>\n",
       "      <th>Ht</th>\n",
       "      <td>0.141780</td>\n",
       "      <td>0.008419</td>\n",
       "      <td>1.000000</td>\n",
       "      <td>0.610425</td>\n",
       "      <td>0.123125</td>\n",
       "      <td>0.200506</td>\n",
       "      <td>0.017609</td>\n",
       "      <td>0.084342</td>\n",
       "      <td>0.038076</td>\n",
       "      <td>0.032100</td>\n",
       "      <td>-0.003242</td>\n",
       "      <td>0.040475</td>\n",
       "      <td>0.007595</td>\n",
       "    </tr>\n",
       "    <tr>\n",
       "      <th>Wt</th>\n",
       "      <td>-0.028041</td>\n",
       "      <td>0.110366</td>\n",
       "      <td>0.610425</td>\n",
       "      <td>1.000000</td>\n",
       "      <td>0.854083</td>\n",
       "      <td>0.097917</td>\n",
       "      <td>0.008092</td>\n",
       "      <td>0.015391</td>\n",
       "      <td>0.004212</td>\n",
       "      <td>0.072561</td>\n",
       "      <td>-0.024526</td>\n",
       "      <td>0.088926</td>\n",
       "      <td>-0.026430</td>\n",
       "    </tr>\n",
       "    <tr>\n",
       "      <th>BMI</th>\n",
       "      <td>-0.129369</td>\n",
       "      <td>0.137076</td>\n",
       "      <td>0.123125</td>\n",
       "      <td>0.854083</td>\n",
       "      <td>1.000000</td>\n",
       "      <td>-0.005346</td>\n",
       "      <td>-0.002261</td>\n",
       "      <td>-0.035975</td>\n",
       "      <td>-0.018575</td>\n",
       "      <td>0.072697</td>\n",
       "      <td>-0.028252</td>\n",
       "      <td>0.088586</td>\n",
       "      <td>-0.038690</td>\n",
       "    </tr>\n",
       "    <tr>\n",
       "      <th>Employment_Info_1</th>\n",
       "      <td>0.350974</td>\n",
       "      <td>0.096003</td>\n",
       "      <td>0.200506</td>\n",
       "      <td>0.097917</td>\n",
       "      <td>-0.005346</td>\n",
       "      <td>1.000000</td>\n",
       "      <td>0.040864</td>\n",
       "      <td>0.383565</td>\n",
       "      <td>0.132868</td>\n",
       "      <td>0.208442</td>\n",
       "      <td>0.023507</td>\n",
       "      <td>0.183302</td>\n",
       "      <td>0.024456</td>\n",
       "    </tr>\n",
       "    <tr>\n",
       "      <th>Employment_Info_4</th>\n",
       "      <td>0.048123</td>\n",
       "      <td>0.137615</td>\n",
       "      <td>0.017609</td>\n",
       "      <td>0.008092</td>\n",
       "      <td>-0.002261</td>\n",
       "      <td>0.040864</td>\n",
       "      <td>1.000000</td>\n",
       "      <td>0.184595</td>\n",
       "      <td>0.042781</td>\n",
       "      <td>0.070683</td>\n",
       "      <td>0.061335</td>\n",
       "      <td>0.091788</td>\n",
       "      <td>0.062506</td>\n",
       "    </tr>\n",
       "    <tr>\n",
       "      <th>Employment_Info_6</th>\n",
       "      <td>0.224500</td>\n",
       "      <td>0.386254</td>\n",
       "      <td>0.084342</td>\n",
       "      <td>0.015391</td>\n",
       "      <td>-0.035975</td>\n",
       "      <td>0.383565</td>\n",
       "      <td>0.184595</td>\n",
       "      <td>1.000000</td>\n",
       "      <td>0.086256</td>\n",
       "      <td>0.391236</td>\n",
       "      <td>0.137494</td>\n",
       "      <td>0.394053</td>\n",
       "      <td>0.156341</td>\n",
       "    </tr>\n",
       "    <tr>\n",
       "      <th>Insurance_History_5</th>\n",
       "      <td>0.140846</td>\n",
       "      <td>-0.013685</td>\n",
       "      <td>0.038076</td>\n",
       "      <td>0.004212</td>\n",
       "      <td>-0.018575</td>\n",
       "      <td>0.132868</td>\n",
       "      <td>0.042781</td>\n",
       "      <td>0.086256</td>\n",
       "      <td>1.000000</td>\n",
       "      <td>0.022079</td>\n",
       "      <td>0.000236</td>\n",
       "      <td>0.015425</td>\n",
       "      <td>0.003921</td>\n",
       "    </tr>\n",
       "    <tr>\n",
       "      <th>Family_Hist_2</th>\n",
       "      <td>-0.043063</td>\n",
       "      <td>0.855715</td>\n",
       "      <td>0.032100</td>\n",
       "      <td>0.072561</td>\n",
       "      <td>0.072697</td>\n",
       "      <td>0.208442</td>\n",
       "      <td>0.070683</td>\n",
       "      <td>0.391236</td>\n",
       "      <td>0.022079</td>\n",
       "      <td>1.000000</td>\n",
       "      <td>NaN</td>\n",
       "      <td>0.934615</td>\n",
       "      <td>0.630797</td>\n",
       "    </tr>\n",
       "    <tr>\n",
       "      <th>Family_Hist_3</th>\n",
       "      <td>-0.089872</td>\n",
       "      <td>0.356716</td>\n",
       "      <td>-0.003242</td>\n",
       "      <td>-0.024526</td>\n",
       "      <td>-0.028252</td>\n",
       "      <td>0.023507</td>\n",
       "      <td>0.061335</td>\n",
       "      <td>0.137494</td>\n",
       "      <td>0.000236</td>\n",
       "      <td>NaN</td>\n",
       "      <td>1.000000</td>\n",
       "      <td>0.511904</td>\n",
       "      <td>0.206240</td>\n",
       "    </tr>\n",
       "    <tr>\n",
       "      <th>Family_Hist_4</th>\n",
       "      <td>-0.107532</td>\n",
       "      <td>0.895261</td>\n",
       "      <td>0.040475</td>\n",
       "      <td>0.088926</td>\n",
       "      <td>0.088586</td>\n",
       "      <td>0.183302</td>\n",
       "      <td>0.091788</td>\n",
       "      <td>0.394053</td>\n",
       "      <td>0.015425</td>\n",
       "      <td>0.934615</td>\n",
       "      <td>0.511904</td>\n",
       "      <td>1.000000</td>\n",
       "      <td>NaN</td>\n",
       "    </tr>\n",
       "    <tr>\n",
       "      <th>Family_Hist_5</th>\n",
       "      <td>-0.113389</td>\n",
       "      <td>0.474544</td>\n",
       "      <td>0.007595</td>\n",
       "      <td>-0.026430</td>\n",
       "      <td>-0.038690</td>\n",
       "      <td>0.024456</td>\n",
       "      <td>0.062506</td>\n",
       "      <td>0.156341</td>\n",
       "      <td>0.003921</td>\n",
       "      <td>0.630797</td>\n",
       "      <td>0.206240</td>\n",
       "      <td>NaN</td>\n",
       "      <td>1.000000</td>\n",
       "    </tr>\n",
       "  </tbody>\n",
       "</table>\n",
       "</div>"
      ],
      "text/plain": [
       "                     Product_Info_4   Ins_Age        Ht        Wt       BMI  \\\n",
       "Product_Info_4             1.000000 -0.261356  0.141780 -0.028041 -0.129369   \n",
       "Ins_Age                   -0.261356  1.000000  0.008419  0.110366  0.137076   \n",
       "Ht                         0.141780  0.008419  1.000000  0.610425  0.123125   \n",
       "Wt                        -0.028041  0.110366  0.610425  1.000000  0.854083   \n",
       "BMI                       -0.129369  0.137076  0.123125  0.854083  1.000000   \n",
       "Employment_Info_1          0.350974  0.096003  0.200506  0.097917 -0.005346   \n",
       "Employment_Info_4          0.048123  0.137615  0.017609  0.008092 -0.002261   \n",
       "Employment_Info_6          0.224500  0.386254  0.084342  0.015391 -0.035975   \n",
       "Insurance_History_5        0.140846 -0.013685  0.038076  0.004212 -0.018575   \n",
       "Family_Hist_2             -0.043063  0.855715  0.032100  0.072561  0.072697   \n",
       "Family_Hist_3             -0.089872  0.356716 -0.003242 -0.024526 -0.028252   \n",
       "Family_Hist_4             -0.107532  0.895261  0.040475  0.088926  0.088586   \n",
       "Family_Hist_5             -0.113389  0.474544  0.007595 -0.026430 -0.038690   \n",
       "\n",
       "                     Employment_Info_1  Employment_Info_4  Employment_Info_6  \\\n",
       "Product_Info_4                0.350974           0.048123           0.224500   \n",
       "Ins_Age                       0.096003           0.137615           0.386254   \n",
       "Ht                            0.200506           0.017609           0.084342   \n",
       "Wt                            0.097917           0.008092           0.015391   \n",
       "BMI                          -0.005346          -0.002261          -0.035975   \n",
       "Employment_Info_1             1.000000           0.040864           0.383565   \n",
       "Employment_Info_4             0.040864           1.000000           0.184595   \n",
       "Employment_Info_6             0.383565           0.184595           1.000000   \n",
       "Insurance_History_5           0.132868           0.042781           0.086256   \n",
       "Family_Hist_2                 0.208442           0.070683           0.391236   \n",
       "Family_Hist_3                 0.023507           0.061335           0.137494   \n",
       "Family_Hist_4                 0.183302           0.091788           0.394053   \n",
       "Family_Hist_5                 0.024456           0.062506           0.156341   \n",
       "\n",
       "                     Insurance_History_5  Family_Hist_2  Family_Hist_3  \\\n",
       "Product_Info_4                  0.140846      -0.043063      -0.089872   \n",
       "Ins_Age                        -0.013685       0.855715       0.356716   \n",
       "Ht                              0.038076       0.032100      -0.003242   \n",
       "Wt                              0.004212       0.072561      -0.024526   \n",
       "BMI                            -0.018575       0.072697      -0.028252   \n",
       "Employment_Info_1               0.132868       0.208442       0.023507   \n",
       "Employment_Info_4               0.042781       0.070683       0.061335   \n",
       "Employment_Info_6               0.086256       0.391236       0.137494   \n",
       "Insurance_History_5             1.000000       0.022079       0.000236   \n",
       "Family_Hist_2                   0.022079       1.000000            NaN   \n",
       "Family_Hist_3                   0.000236            NaN       1.000000   \n",
       "Family_Hist_4                   0.015425       0.934615       0.511904   \n",
       "Family_Hist_5                   0.003921       0.630797       0.206240   \n",
       "\n",
       "                     Family_Hist_4  Family_Hist_5  \n",
       "Product_Info_4           -0.107532      -0.113389  \n",
       "Ins_Age                   0.895261       0.474544  \n",
       "Ht                        0.040475       0.007595  \n",
       "Wt                        0.088926      -0.026430  \n",
       "BMI                       0.088586      -0.038690  \n",
       "Employment_Info_1         0.183302       0.024456  \n",
       "Employment_Info_4         0.091788       0.062506  \n",
       "Employment_Info_6         0.394053       0.156341  \n",
       "Insurance_History_5       0.015425       0.003921  \n",
       "Family_Hist_2             0.934615       0.630797  \n",
       "Family_Hist_3             0.511904       0.206240  \n",
       "Family_Hist_4             1.000000            NaN  \n",
       "Family_Hist_5                  NaN       1.000000  "
      ]
     },
     "execution_count": 21,
     "metadata": {},
     "output_type": "execute_result"
    }
   ],
   "source": [
    "data[real_features].corr()"
   ]
  },
  {
   "cell_type": "markdown",
   "metadata": {},
   "source": [
    "__Ответьте на вопрос (Блок 4)__:\n",
    "* Есть ли пара (несовпадающих) признаков, корреляция между которыми больше 0.9 (можно проверить программно)? Если есть, то выпишите эту пару. Напоминаем, что матрица корреляций симметрична, и дважды выписывать одну пару признаков не нужно.\n",
    "    * Ответ: **Такая пара есть: `Family_Hist_4` и `Family_Hist_2`**"
   ]
  },
  {
   "cell_type": "markdown",
   "metadata": {},
   "source": [
    "Перейдем к визуализации категориальных признаков.\n",
    "\n",
    "##### Посчитаем количество значений для каждого признака.\n",
    "Строим много графиков вручную (а не с помощью готовой функции, как с hist или pairplot). Для этого создаем новую pyplot-фигуру, указываем, сколько графиков на ней будет, задаем размер; параметр sharey говорит не подписывать все оси отдельно, а подписать их только один раз слева; здесь это уместно, потому что масштабы всех счетчиков одни и те же. \n",
    "\n",
    "В цикле по всем категориальным признакам строим countplot признака с помощью seaborn. Указываем параметр data, какой признак визуализировать, а также передаем ссылку на конкретную ячейку таблицы, в которой нужно изобразить график. Признаков всего 108, поэтому последние две ячейки таблицы графиков размером 11 x 10 останутся пустыми."
   ]
  },
  {
   "cell_type": "code",
   "execution_count": 30,
   "metadata": {},
   "outputs": [
    {
     "data": {
      "image/png": "[encoded data removed]",
      "text/plain": [
       "<Figure size 1440x1440 with 110 Axes>"
      ]
     },
     "metadata": {
      "needs_background": "light"
     },
     "output_type": "display_data"
    }
   ],
   "source": [
    "fig, axes = plt.subplots(11, 10, figsize=(20, 20), sharey=True)\n",
    "for i in range(len(cat_features)):\n",
    "    seaborn.countplot(x=cat_features[i], data=data, ax=axes[i // 10, i % 10])\n",
    "plt.tight_layout()"
   ]
  },
  {
   "cell_type": "markdown",
   "metadata": {},
   "source": [
    "__Ответьте на вопросы (Блок 5)__:\n",
    "* Есть ли среди категориальных признаков константные?\n",
    "    * Ответ: **Да, есть.**\n",
    "* Есть ли признаки с количеством возможных категорий (число значений признака) больше 5?\n",
    "    * Ответ: **Да, есть.**"
   ]
  },
  {
   "cell_type": "markdown",
   "metadata": {
    "collapsed": true
   },
   "source": [
    "У нас есть много признаков с сильными перекосами в сторону отдельного признака. Учитывая, что среди категориальных признаков много медицинских показателей, можно предположить, что именно эти признаки сильно влияют на увеличение риска (целевой признак). Проверить это предположение можно, построив такие же countplot с разбивкой каждого значения дополнительно по классам (то есть у нас будет несколько групп столбиков, и в каждой группе их будет 8). Это можно сделать, указав параметр hue в этой функции аналогично тому, как мы это делали выше.\n",
    "\n",
    "Постройте графики countplot для признаков 'Medical_Keyword_23', 'Medical_Keyword_39', 'Medical_Keyword_45' (признаки выбраны случайно) с разбивкой по классам."
   ]
  },
  {
   "cell_type": "code",
   "execution_count": null,
   "metadata": {},
   "outputs": [],
   "source": [
    "# Код 3. Постройте countplot"
   ]
  },
  {
   "cell_type": "markdown",
   "metadata": {},
   "source": [
    "__Ответьте на вопрос (Блок 6)__:\n",
    "* Наличие каких из этих трех факторов сильно повышает риск? Будем считать, что наличие признака сильно повышает риск, если количество человек, имеющих этот признак (то есть он для них равен 1) и отнесенных к категории риска 8, больше, чем такая же величина для любой другой категории риска."
   ]
  },
  {
   "cell_type": "markdown",
   "metadata": {},
   "source": [
    "##### Наконец, посмотрим на распределение целевого признака, чтобы узнать, сбалансированы ли классы:"
   ]
  },
  {
   "cell_type": "code",
   "execution_count": null,
   "metadata": {},
   "outputs": [],
   "source": [
    "seaborn.countplot(data.Response)"
   ]
  },
  {
   "cell_type": "markdown",
   "metadata": {},
   "source": [
    "В категорию 8 люди попадают чаще, чем в другие категории."
   ]
  },
  {
   "cell_type": "markdown",
   "metadata": {
    "collapsed": true
   },
   "source": [
    "### Визуализация с помощью понижения размерности"
   ]
  },
  {
   "cell_type": "markdown",
   "metadata": {},
   "source": [
    "Далее можно воспользоваться средствами понижения размерности. Для задачи с дискретным целевым признаком это позволит понять, какие классы хорошо разделяются, а какие - нет.\n",
    "\n",
    "Такие методы строят матрицу попарных расстояний между объектами, которая в случае, когда объектов много, будет занимать много памяти. Кроме того, отображать много точек на scatter plot (а именно его используют для визуализации результата понижения размерности) неудобно. Поэтому мы перемешаем выборку (и далее будем использовать ее) и выберем првые 1000 объектов для понижения размерности. Вы можете попробовать взять больше объектов."
   ]
  },
  {
   "cell_type": "code",
   "execution_count": null,
   "metadata": {},
   "outputs": [],
   "source": [
    "from sklearn.utils import shuffle\n",
    "from sklearn.preprocessing import scale"
   ]
  },
  {
   "cell_type": "code",
   "execution_count": null,
   "metadata": {},
   "outputs": [],
   "source": [
    "sdata = shuffle(data, random_state=321)\n",
    "# del data   # удалите неперемешанные данные, если не хватает оперативной памяти"
   ]
  },
  {
   "cell_type": "markdown",
   "metadata": {},
   "source": [
    "Методы sklearn не принимают матрицы с пропусками (nan). Чтобы избежать этой проблемы, не будем рассматривать признаки, которые имеют много пропусков (последние четыре в списке вещественных признаков). Кроме того, ограничимся рассмотрением вещественных признаков.\n",
    "\n",
    "В следующей ячейке мы отбираем нужные признаки, затем находим объекты, у которых все признаки известны (нет пропусков в выбранных признаках), а затем создаем отдельно матрицу объекты-признаки для работы методов понижения размерности и отдельно вектор правильных ответов на этих объектах: data_subset и response_subset. Кроме того, мы дополнительно стандартизуем нашу маленькую выборку, потому что методы понижения размерности очень чувствительны к разномасштабным данным (это отдельно указано в [туториале](http://scikit-learn.org/stable/modules/manifold.html#multidimensional-scaling) в sklearn)"
   ]
  },
  {
   "cell_type": "code",
   "execution_count": null,
   "metadata": {},
   "outputs": [],
   "source": [
    "subset_l  = 1000\n",
    "selected_features = real_features[:-4]\n",
    "objects_with_nan = sdata.index[np.any(np.isnan(sdata[selected_features].values), axis=1)]   \n",
    "data_subset = scale(sdata[selected_features].drop(objects_with_nan, axis=0)[:subset_l])\n",
    "response_subset = sdata[\"Response\"].drop(objects_with_nan, axis=0)[:subset_l]"
   ]
  },
  {
   "cell_type": "markdown",
   "metadata": {},
   "source": [
    "Будем строить визуализацию методами, разобранными на лекции: t-SNE и MDS."
   ]
  },
  {
   "cell_type": "code",
   "execution_count": null,
   "metadata": {},
   "outputs": [],
   "source": [
    "from sklearn.manifold import TSNE\n",
    "import matplotlib.cm as cm # импортируем цветовые схемы, чтобы рисовать графики."
   ]
  },
  {
   "cell_type": "markdown",
   "metadata": {},
   "source": [
    "Методы понижения размерности имеют такой же интерфейс, как классификаторы и регрессоры. Для построения визуализации t-SNE нужно создать объект класса и вызвать его метод fit_transform, который вернет матрицу размера число объектов x новая размерность; по умолчанию новая размерность равна 2. Выполните эти действия и запишите результат работы метода в переменную tsne_representation. Рекомендуем ознакомиться с параметрами метода на [странице документации TSNE](http://scikit-learn.org/stable/modules/generated/sklearn.manifold.TSNE.html#sklearn.manifold.TSNE). <font color=\"red\"> Зафиксируйте случайное приближение random_state=321, чтобы результат визуализации у всех был одинаковый. </font> "
   ]
  },
  {
   "cell_type": "code",
   "execution_count": null,
   "metadata": {},
   "outputs": [],
   "source": [
    "# Код 4. Присвойте переменной tsne_representation результат понижения размерности методом tSNE с параметрами по умолчанию"
   ]
  },
  {
   "cell_type": "markdown",
   "metadata": {},
   "source": [
    "Визуализируем полученное представление. Для этого создадим набор цветов по количеству классов, а затем в цикле по классам будем отображать представления точек, относящихся к этому классу. Будем указывать параметр alpha=0.5, чтобы сделать точки полупрозрачными, это лучше в ситуации, когда точки накладываются."
   ]
  },
  {
   "cell_type": "code",
   "execution_count": null,
   "metadata": {},
   "outputs": [],
   "source": [
    "colors = cm.rainbow(np.linspace(0, 1, len(set(response_subset))))\n",
    "for y, c in zip(set(data.Response), colors):\n",
    "    plt.scatter(tsne_representation[response_subset.values==y, 0], \n",
    "                tsne_representation[response_subset.values==y, 1], c=c, alpha=0.5, label=str(y))\n",
    "plt.legend()"
   ]
  },
  {
   "cell_type": "markdown",
   "metadata": {},
   "source": [
    "Теперь сделаем то же с MDS."
   ]
  },
  {
   "cell_type": "code",
   "execution_count": null,
   "metadata": {},
   "outputs": [],
   "source": [
    "from sklearn.manifold import MDS\n",
    "from sklearn.metrics.pairwise import pairwise_distances"
   ]
  },
  {
   "cell_type": "code",
   "execution_count": null,
   "metadata": {},
   "outputs": [],
   "source": [
    "# Код 5. Присвойте переменной MDS_transformed результат понижения размерности методом MDS с параметрами по умолчанию\n",
    "# Не забудьте зафиксировать random_state=321"
   ]
  },
  {
   "cell_type": "code",
   "execution_count": null,
   "metadata": {},
   "outputs": [],
   "source": [
    "colors = cm.rainbow(np.linspace(0, 1, len(set(response_subset))))\n",
    "for y, c in zip(set(response_subset), colors):\n",
    "    plt.scatter(MDS_transformed[response_subset.values==y, 0], \n",
    "                MDS_transformed[response_subset.values==y, 1], \n",
    "                c=c, alpha=0.5, label=str(y))\n",
    "plt.legend()\n",
    "#plt.xlim(-5, 5)   # масса точек концентрируется в этом масштабе\n",
    "#plt.ylim(-5, 5)   # рекомендуем сначала отобразить визуализацию целиком, а затем раскомментировать эти строки."
   ]
  },
  {
   "cell_type": "markdown",
   "metadata": {},
   "source": [
    "Для построения представления можно пробовать разные метрики, их список доступен в [документации scipy](http://docs.scipy.org/doc/scipy-0.14.0/reference/generated/scipy.spatial.distance.pdist.html) (потому что sklearn использует метрики scipy). Вы можете попробовать использовать разные метрики в t-SNE и MDS и смотреть получающиеся визуализации, по мнению автора задания наиболее информативной выглядит визуализация MDS c косинусной метрикой (\"cosine\"). \n",
    "\n",
    "В t_SNE метрику можно указать при создании объекта класса TSNE, в MDS это реализуется несколько сложнее. Нужно указать dissimilarity=\"precomputed\", а в fit_transform подать не матрицу объектов, а матрицу попарных расстояний между объектами. Создать ее можно с помощью функции pairwise_distances с параметрами: матрица объектов, метрика."
   ]
  },
  {
   "cell_type": "code",
   "execution_count": null,
   "metadata": {},
   "outputs": [],
   "source": [
    "# Код 6. Присвойте переменной MDS_transformed_cos результат понижения размерности методом MDS с косинусной метрикой"
   ]
  },
  {
   "cell_type": "code",
   "execution_count": null,
   "metadata": {},
   "outputs": [],
   "source": [
    "colors = cm.rainbow(np.linspace(0, 1, len(set(response_subset))))\n",
    "for y, c in zip(set(response_subset), colors):\n",
    "    plt.scatter(MDS_transformed_cos[response_subset.values[:subset_l]==y, 0], \n",
    "                MDS_transformed_cos[response_subset.values[:subset_l]==y, 1], \n",
    "                c=c, alpha=0.5, label=str(y))\n",
    "plt.legend()"
   ]
  },
  {
   "cell_type": "markdown",
   "metadata": {},
   "source": [
    "__Ответьте на вопросы (Блок 7):__ Будем нумеровать визуализации от 1 до 3: tSNE, MDS по умолчанию, MDS с косинусной метрикой.\n",
    "* Есть ли визуализация, на которой классы хорошо разделяются? Классы хорошо разделяются, если между облаками точек разных классов можно проводить границы. Если есть, укажите хотя бы одну такую визуализацию.\n",
    "    * Ответ:\n",
    "* Есть ли визуализации, по которым видно, что объекты с наименьшим риском (1 и 2) отличаются от объектов с высоким риском (7 и 8)? Будем считать, что объекты классов A и B отличаются, если можно выделить область плоскости, в которой в целом больше точек класса A, и можно выделить область, в которой больше точек класса B. Если есть, укажите хотя бы одну такую визуализацию.\n",
    "    * Ответ:\n",
    "* Есть ли визуализации, на которым видны отдельно стоящие (от общего облака) точки? Если есть, укажите хотя бы одну такую визуализацию.\n",
    "    * Ответ:"
   ]
  },
  {
   "cell_type": "markdown",
   "metadata": {},
   "source": [
    "Визуализации разными методами достаточно сильно отличаются, но на каждой можно условно выделить направление, вдоль которого происходит увеличение риска от 1 до 8 (то есть точки постепенно меняют цвет). Если бы это не выполнялось, можно было бы предположить, что задача не решаема."
   ]
  },
  {
   "cell_type": "markdown",
   "metadata": {
    "collapsed": true
   },
   "source": [
    "### Поиск аномалий"
   ]
  },
  {
   "cell_type": "markdown",
   "metadata": {},
   "source": [
    "Воспользуемся методами поиска аномалий, рассмотренными в лекции."
   ]
  },
  {
   "cell_type": "markdown",
   "metadata": {},
   "source": [
    "##### One class SVM\n",
    "Для простоты выберем вещественные признаки, которые известны для всех объектов: Product_Info_4, Ins_Age, Ht, Wt, BMI. Оставим только те, которые относятся к человеку, то есть не будем рассматривать Product_Info_4. Получится, что мы отбираем нестандартных по комбинации вес/рост/возраст людей."
   ]
  },
  {
   "cell_type": "code",
   "execution_count": null,
   "metadata": {},
   "outputs": [],
   "source": [
    "from sklearn import svm"
   ]
  },
  {
   "cell_type": "code",
   "execution_count": null,
   "metadata": {},
   "outputs": [],
   "source": [
    "person_features = [\"Ins_Age\", \"Ht\", \"Wt\", \"BMI\"]"
   ]
  },
  {
   "cell_type": "markdown",
   "metadata": {},
   "source": [
    "Два ключевых параметра OC_SVM - gamma и nu. Первый влияет на то, как хорошо граница будет приближать данные, второй - сколько точек нужно относить к выбросам. Вы можете попробовать разные значения, в том числе, значения по умолчанию, и убедиться, что при них алгоритм работает не очень адекватно. Запустите следующую ячейку, на ее выполнение может понадобиться некоторое время."
   ]
  },
  {
   "cell_type": "code",
   "execution_count": null,
   "metadata": {},
   "outputs": [],
   "source": [
    "svm_ = svm.OneClassSVM(gamma=10, nu=0.01) \n",
    "svm_.fit(sdata[person_features])"
   ]
  },
  {
   "cell_type": "code",
   "execution_count": null,
   "metadata": {},
   "outputs": [],
   "source": [
    "labels = svm_.predict(sdata[person_features])"
   ]
  },
  {
   "cell_type": "code",
   "execution_count": null,
   "metadata": {},
   "outputs": [],
   "source": [
    "(labels==1).mean()"
   ]
  },
  {
   "cell_type": "markdown",
   "metadata": {},
   "source": [
    "У вас должно получиться, что около 98% объектов не признаются выбросами. \n",
    "\n",
    "Попытаемся визуализировать, какие объекты отнесены к шумовым. Для этого нужно построить scatter-графики для каждой пары признаков в person_features (всего 6 графиков). На каждом графике нужно отдельно отобразить точки с labels==1 и labels==-1. \n",
    "\n",
    "Создайте pyplot-фигуру с 6 графиками: 2 x 3, укажите размер фигуры (12, 8). Затем в цикле по __парам признаков__ из person_features отобразите scatter-графики точек (сделайте точки с разными labels разных цветов: синие, c=\"blue\", - обычные точки, у которых labels==1, красные, c=\"red\",  - шумовые, у которых labels==-1.) Для построения графика можно пользоваться командой axes[...].scatter(...), вместо ... - ваш код. Функция scatter принимает две вектора одинаковой длины, абсциссы и ординаты точек, и дополнительные параметры, например, цвет c и коэффициент прозрачности точек alpha. Подпишите оси названиями признаков, это можно сделать с помощью команды axes[...].set_xlabel(...) или axes[...].ylabel(...)."
   ]
  },
  {
   "cell_type": "code",
   "execution_count": null,
   "metadata": {},
   "outputs": [],
   "source": [
    "# Код 7. Постройте 6 графиков"
   ]
  },
  {
   "cell_type": "markdown",
   "metadata": {
    "collapsed": true
   },
   "source": [
    "Вы должны увидеть, что, во-первых, облака синие точки заполняют почти все облако точек, а во-вторых, красные точки находятся на границе или далеко от облака (интуитивно понятно, что это аномальные объекты). "
   ]
  },
  {
   "cell_type": "markdown",
   "metadata": {},
   "source": [
    "##### Непараметрическое восстановление плотности.\n",
    "Искать аномалии можно, анализируя непараметрически восстановленную плотность одномерного распределения. Так можно заметить, что какие-то объекты выбиваются из общей тенденции. \n",
    "\n",
    "В seaborn это удобно делать с помощью метода distplot. Посмотрев на гистограммы в начале ноутбука, выберем для ближайшего рассмотрения признаки BMI, Employment_Info_1, Medical_History_32. \n",
    "\n",
    "Примените метод distplot к этим трем признакам, указав bins=50. Рекомендуется удалять значения nan с помощью метода датафрейма .dropna()."
   ]
  },
  {
   "cell_type": "code",
   "execution_count": null,
   "metadata": {},
   "outputs": [],
   "source": [
    "# Код 8. Восстановите плотности трех для трех указанных признаков"
   ]
  },
  {
   "cell_type": "markdown",
   "metadata": {
    "collapsed": true
   },
   "source": [
    "На трех графиках видно, что в конце множества значений признака есть скачок, и это явление очень похоже на аномалию."
   ]
  },
  {
   "cell_type": "markdown",
   "metadata": {
    "collapsed": true
   },
   "source": [
    "### Заключение\n",
    "Мы познакомились с методами визуализации и отбора шумовых объектов и посмотрели на примере, с чего стоит начинать работу с новым датасетом. Как и в других методах анализа данных, в методах визуализации приходится подбирать параметры, но здесь эта задача осложняется отсутствием автоматически вычисляемого критерия качества визуализации, и подбирать параметры приходится вручную."
   ]
  }
 ],
 "metadata": {
  "kernelspec": {
   "display_name": "Python 3",
   "language": "python",
   "name": "python3"
  }
 },
 "nbformat": 4,
 "nbformat_minor": 1
}
