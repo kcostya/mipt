{
 "cells": [
  {
   "cell_type": "code",
   "execution_count": 109,
   "metadata": {
    "collapsed": true
   },
   "outputs": [],
   "source": [
    "import numpy as np\n",
    "\n",
    "from sklearn import datasets\n",
    "from sklearn.cross_validation import cross_val_score\n",
    "from sklearn.tree import DecisionTreeClassifier\n",
    "from sklearn.ensemble import BaggingClassifier, RandomForestClassifier\n",
    "\n",
    "from matplotlib import pyplot as plt\n",
    "%matplotlib inline"
   ]
  },
  {
   "cell_type": "code",
   "execution_count": 2,
   "metadata": {
    "collapsed": true
   },
   "outputs": [],
   "source": [
    "digits = datasets.load_digits()"
   ]
  },
  {
   "cell_type": "code",
   "execution_count": 3,
   "metadata": {
    "collapsed": true
   },
   "outputs": [],
   "source": [
    "X = digits.data\n",
    "y = digits.target"
   ]
  },
  {
   "cell_type": "code",
   "execution_count": 4,
   "metadata": {},
   "outputs": [
    {
     "data": {
      "text/plain": [
       "((1797, 64), (1797,))"
      ]
     },
     "execution_count": 4,
     "metadata": {},
     "output_type": "execute_result"
    }
   ],
   "source": [
    "X.shape, y.shape"
   ]
  },
  {
   "cell_type": "markdown",
   "metadata": {},
   "source": [
    "### Задание 1\n",
    "Создайте DecisionTreeClassifier с настройками по умолчанию и измерьте качество его работы с помощью cross_val_score. Эта величина и будет ответом в пункте 1."
   ]
  },
  {
   "cell_type": "code",
   "execution_count": 5,
   "metadata": {
    "collapsed": true
   },
   "outputs": [],
   "source": [
    "tree = DecisionTreeClassifier()"
   ]
  },
  {
   "cell_type": "code",
   "execution_count": 6,
   "metadata": {},
   "outputs": [
    {
     "name": "stdout",
     "output_type": "stream",
     "text": [
      "0.8297478814676188\n"
     ]
    }
   ],
   "source": [
    "score = np.mean(cross_val_score(tree, X, y, cv=10))\n",
    "print(score)"
   ]
  },
  {
   "cell_type": "code",
   "execution_count": 7,
   "metadata": {
    "collapsed": true
   },
   "outputs": [],
   "source": [
    "with open(\"ans1.txt\", \"w\") as fout:\n",
    "    fout.write(str(score))"
   ]
  },
  {
   "cell_type": "markdown",
   "metadata": {},
   "source": [
    "### Задание 2\n",
    "Воспользуйтесь BaggingClassifier из sklearn.ensemble, чтобы обучить бэггинг над DecisionTreeClassifier. Используйте в BaggingClassifier параметры по умолчанию, задав только количество деревьев равным 100.\n",
    "\n",
    "Качество классификации новой модели - ответ в пункте 2. Обратите внимание, как соотносится качество работы композиции решающих деревьев с качеством работы одного решающего дерева."
   ]
  },
  {
   "cell_type": "code",
   "execution_count": 8,
   "metadata": {
    "collapsed": true
   },
   "outputs": [],
   "source": [
    "bag = BaggingClassifier(n_estimators=100)"
   ]
  },
  {
   "cell_type": "code",
   "execution_count": 9,
   "metadata": {},
   "outputs": [
    {
     "name": "stdout",
     "output_type": "stream",
     "text": [
      "0.9221338800070613\n"
     ]
    }
   ],
   "source": [
    "score = np.mean(cross_val_score(bag, X, y, cv=10))\n",
    "print(score)"
   ]
  },
  {
   "cell_type": "code",
   "execution_count": 10,
   "metadata": {
    "collapsed": true
   },
   "outputs": [],
   "source": [
    "with open(\"ans2.txt\", \"w\") as fout:\n",
    "    fout.write(str(score))"
   ]
  },
  {
   "cell_type": "markdown",
   "metadata": {},
   "source": [
    "### Задание 3\n",
    "Теперь изучите параметры BaggingClassifier и выберите их такими, чтобы каждый базовый алгоритм обучался не на всех d признаках, а на $\\sqrt{d}$ случайных признаков.<br>\n",
    "Качество работы получившегося классификатора - ответ в пункте 3. <br>\n",
    "Корень из числа признаков - часто используемая эвристика в задачах классификации, в задачах регрессии же часто берут число признаков, деленное на три. Но в общем случае ничто не мешает вам выбирать любое другое число случайных признаков."
   ]
  },
  {
   "cell_type": "code",
   "execution_count": 30,
   "metadata": {
    "collapsed": true
   },
   "outputs": [],
   "source": [
    "max_features = int(np.sqrt(X.shape[1]))\n",
    "bag = BaggingClassifier(n_estimators=100, max_features=int(max_features))"
   ]
  },
  {
   "cell_type": "code",
   "execution_count": 31,
   "metadata": {},
   "outputs": [
    {
     "name": "stdout",
     "output_type": "stream",
     "text": [
      "0.9299818819483836\n"
     ]
    }
   ],
   "source": [
    "score = np.mean(cross_val_score(bag, X, y, cv=10))\n",
    "print(score)"
   ]
  },
  {
   "cell_type": "code",
   "execution_count": 32,
   "metadata": {
    "collapsed": true
   },
   "outputs": [],
   "source": [
    "with open(\"ans3.txt\", \"w\") as fout:\n",
    "    fout.write(str(score))"
   ]
  },
  {
   "cell_type": "markdown",
   "metadata": {},
   "source": [
    "### Задание 4\n",
    "Наконец, давайте попробуем выбирать случайные признаки не один раз на все дерево, а при построении каждой вершины дерева. Сделать это несложно: нужно убрать выбор случайного подмножества признаков в BaggingClassifier и добавить его в DecisionTreeClassifier. Какой параметр за это отвечает, можно понять из документации sklearn, либо просто попробовать угадать (скорее всего, у вас сразу получится). Попробуйте выбирать опять же $\\sqrt{d}$ признаков. Качество полученного классификатора на контрольной выборке и будет ответом в пункте 4."
   ]
  },
  {
   "cell_type": "code",
   "execution_count": 83,
   "metadata": {
    "collapsed": true
   },
   "outputs": [],
   "source": [
    "tree = DecisionTreeClassifier(max_features=max_features)\n",
    "bag = BaggingClassifier(base_estimator=tree, bootstrap=False)"
   ]
  },
  {
   "cell_type": "code",
   "execution_count": 84,
   "metadata": {},
   "outputs": [
    {
     "name": "stdout",
     "output_type": "stream",
     "text": [
      "0.9421705799827647\n"
     ]
    }
   ],
   "source": [
    "score = np.mean(cross_val_score(bag, X, y, cv=10))\n",
    "print(score)"
   ]
  },
  {
   "cell_type": "code",
   "execution_count": 85,
   "metadata": {
    "collapsed": true
   },
   "outputs": [],
   "source": [
    "with open(\"ans4.txt\", \"w\") as fout:\n",
    "    fout.write(str(score))"
   ]
  },
  {
   "cell_type": "markdown",
   "metadata": {},
   "source": [
    "### Задание 5\n",
    "Полученный в пункте 4 классификатор - бэггинг на рандомизированных деревьях (в которых при построении каждой вершины выбирается случайное подмножество признаков и разбиение ищется только по ним). Это в точности соответствует алгоритму Random Forest, поэтому почему бы не сравнить качество работы классификатора с RandomForestClassifier из sklearn.ensemble. Сделайте это, а затем изучите, как качество классификации на данном датасете зависит от количества деревьев, количества признаков, выбираемых при построении каждой вершины дерева, а также ограничений на глубину дерева. Для наглядности лучше построить графики зависимости качества от значений параметров, но для сдачи задания это делать не обязательно.\n",
    "\n",
    "На основе наблюдений выпишите через пробел номера правильных утверждений из приведенных ниже в порядке возрастания номера (это будет ответ в п.5)\n",
    "\n",
    "1) Случайный лес сильно переобучается с ростом количества деревьев\n",
    "\n",
    "2) **При очень маленьком числе деревьев (5, 10, 15), случайный лес работает хуже, чем при большем числе деревьев**\n",
    "\n",
    "3) **С ростом количества деревьев в случайном лесе, в какой-то момент деревьев становится достаточно для высокого качества классификации, а затем качество существенно не меняется.**\n",
    "\n",
    "4) **При большом количестве признаков (для данного датасета - 40, 50) качество классификации становится хуже, чем при малом количестве признаков (5, 10). Это связано с тем, что чем меньше признаков выбирается в каждом узле, тем более различными получаются деревья (ведь деревья сильно неустойчивы к изменениям в обучающей выборке), и тем лучше работает их композиция.**\n",
    "\n",
    "5) При большом количестве признаков (40, 50, 60) качество классификации лучше, чем при малом количестве признаков (5, 10). Это связано с тем, что чем больше признаков - тем больше информации об объектах, а значит алгоритм может делать прогнозы более точно.\n",
    "\n",
    "6) При небольшой максимальной глубине деревьев (5-6) качество работы случайного леса намного лучше, чем без ограничения глубины, т.к. деревья получаются не переобученными. С ростом глубины деревьев качество ухудшается.\n",
    "\n",
    "7) **При небольшой максимальной глубине деревьев (5-6) качество работы случайного леса заметно хуже, чем без ограничений, т.к. деревья получаются недообученными. С ростом глубины качество сначала улучшается, а затем не меняется существенно, т.к. из-за усреднения прогнозов и различий деревьев их переобученность в бэггинге не сказывается на итоговом качестве (все деревья преобучены по-разному, и при усреднении они компенсируют переобученность друг-друга).**"
   ]
  },
  {
   "cell_type": "code",
   "execution_count": 104,
   "metadata": {
    "collapsed": true
   },
   "outputs": [],
   "source": [
    "rf = RandomForestClassifier(max_features=max_features, bootstrap=False)"
   ]
  },
  {
   "cell_type": "code",
   "execution_count": 105,
   "metadata": {},
   "outputs": [
    {
     "name": "stdout",
     "output_type": "stream",
     "text": [
      "0.9260314068676673\n"
     ]
    }
   ],
   "source": [
    "score = np.mean(cross_val_score(rf, X, y, cv=10))\n",
    "print(score)"
   ]
  },
  {
   "cell_type": "code",
   "execution_count": 114,
   "metadata": {},
   "outputs": [
    {
     "name": "stdout",
     "output_type": "stream",
     "text": [
      "n_estimators: 5\tscore: 0.8943993385457969 \n",
      "n_estimators: 10\tscore: 0.9272331881214319 \n",
      "n_estimators: 15\tscore: 0.9351584232497284 \n",
      "n_estimators: 20\tscore: 0.9516790274774521 \n",
      "n_estimators: 25\tscore: 0.9500424972452635 \n",
      "n_estimators: 30\tscore: 0.9505369666514994 \n",
      "n_estimators: 35\tscore: 0.95276517524235 \n",
      "n_estimators: 40\tscore: 0.9550534342126664 \n",
      "n_estimators: 45\tscore: 0.9550033366513064 \n",
      "n_estimators: 50\tscore: 0.9523006580976782 \n",
      "n_estimators: 55\tscore: 0.9556435509284688 \n",
      "n_estimators: 60\tscore: 0.9555712313284243 \n",
      "n_estimators: 65\tscore: 0.9589010291319541 \n",
      "n_estimators: 70\tscore: 0.9566522129435586 \n",
      "n_estimators: 75\tscore: 0.9572161763942841 \n",
      "n_estimators: 80\tscore: 0.9550153514658326 \n",
      "n_estimators: 85\tscore: 0.9555090476449853 \n",
      "n_estimators: 90\tscore: 0.9545148596492978 \n",
      "n_estimators: 95\tscore: 0.9549897666548339 \n"
     ]
    }
   ],
   "source": [
    "scores = []\n",
    "n_estimators = list(range(5, 100, 5))\n",
    "for i in n_estimators:\n",
    "    rf = RandomForestClassifier(max_features=max_features, n_estimators = i, bootstrap=False)\n",
    "    score = np.mean(cross_val_score(rf, X, y, cv=10))\n",
    "    scores.append(score)\n",
    "    print('n_estimators: {}\\tscore: {} '.format(i, score))"
   ]
  },
  {
   "cell_type": "code",
   "execution_count": null,
   "metadata": {
    "collapsed": true
   },
   "outputs": [],
   "source": [
    "plt.plot(n_estimators, scores)\n",
    "plt.xlabel('trees');"
   ]
  },
  {
   "cell_type": "code",
   "execution_count": 116,
   "metadata": {},
   "outputs": [
    {
     "name": "stdout",
     "output_type": "stream",
     "text": [
      "max_features: 5\tscore: 0.9561930375203198 \n",
      "max_features: 10\tscore: 0.9527897477433422 \n",
      "max_features: 15\tscore: 0.952258386202763 \n",
      "max_features: 20\tscore: 0.952255072700656 \n",
      "max_features: 25\tscore: 0.9516387249645343 \n",
      "max_features: 30\tscore: 0.944414398192355 \n",
      "max_features: 35\tscore: 0.9438920016472856 \n",
      "max_features: 40\tscore: 0.9354616154754625 \n",
      "max_features: 45\tscore: 0.9254746753358866 \n",
      "max_features: 50\tscore: 0.9048809245194775 \n",
      "max_features: 55\tscore: 0.8775750714875056 \n"
     ]
    }
   ],
   "source": [
    "scores = []\n",
    "max_features = list(range(5, 60, 5))\n",
    "for i in max_features:\n",
    "    rf = RandomForestClassifier(max_features=i, n_estimators = 100, bootstrap=False)\n",
    "    score = np.mean(cross_val_score(rf, X, y, cv=10))\n",
    "    scores.append(score)\n",
    "    print('max_features: {}\\tscore: {} '.format(i, score))"
   ]
  },
  {
   "cell_type": "code",
   "execution_count": 117,
   "metadata": {},
   "outputs": [
    {
     "data": {
      "image/png": "[encoded data removed]",
      "text/plain": [
       "<Figure size 432x288 with 1 Axes>"
      ]
     },
     "metadata": {},
     "output_type": "display_data"
    }
   ],
   "source": [
    "plt.plot(max_features, scores)\n",
    "plt.xlabel('trees')\n",
    "plt.ylabel('score');"
   ]
  },
  {
   "cell_type": "code",
   "execution_count": 119,
   "metadata": {},
   "outputs": [
    {
     "data": {
      "text/plain": [
       "0.8954349917492616"
      ]
     },
     "execution_count": 119,
     "metadata": {},
     "output_type": "execute_result"
    }
   ],
   "source": [
    "rf = RandomForestClassifier(max_depth=6, max_features=8, bootstrap=False)\n",
    "np.mean(cross_val_score(rf, X, y, cv=10))"
   ]
  },
  {
   "cell_type": "code",
   "execution_count": 122,
   "metadata": {},
   "outputs": [
    {
     "data": {
      "text/plain": [
       "0.9332649788248574"
      ]
     },
     "execution_count": 122,
     "metadata": {},
     "output_type": "execute_result"
    }
   ],
   "source": [
    "rf = RandomForestClassifier(max_depth=None, max_features=8, bootstrap=False)\n",
    "np.mean(cross_val_score(rf, X, y, cv=10))"
   ]
  },
  {
   "cell_type": "code",
   "execution_count": 123,
   "metadata": {
    "collapsed": true
   },
   "outputs": [],
   "source": [
    "with open(\"ans5.txt\", \"w\") as fout:\n",
    "    fout.write('2 3 4 7')"
   ]
  },
  {
   "cell_type": "code",
   "execution_count": null,
   "metadata": {
    "collapsed": true
   },
   "outputs": [],
   "source": []
  }
 ],
 "metadata": {
  "kernelspec": {
   "display_name": "Python 3",
   "language": "python",
   "name": "python3"
  },
  "language_info": {
   "codemirror_mode": {
    "name": "ipython",
    "version": 3
   },
   "file_extension": ".py",
   "mimetype": "text/x-python",
   "name": "python",
   "nbconvert_exporter": "python",
   "pygments_lexer": "ipython3",
   "version": "3.6.3"
  }
 },
 "nbformat": 4,
 "nbformat_minor": 2
}
