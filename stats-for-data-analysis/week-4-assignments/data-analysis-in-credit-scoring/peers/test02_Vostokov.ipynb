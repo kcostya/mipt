{
 "cells": [
  {
   "cell_type": "markdown",
   "metadata": {},
   "source": [
    "# Test 02. Анализ данных в задаче кредитного скоринга"
   ]
  },
  {
   "cell_type": "markdown",
   "metadata": {},
   "source": [
    "Для выполнения этого задания вам понадобятся данные о кредитных историях клиентов одного из банков. Поля в предоставляемых данных имеют следующий смысл:\n",
    "\n",
    "- __LIMIT_BAL__: размер кредитного лимита (в том числе и на семью клиента)\n",
    "- __SEX__: пол клиента (1 = мужской, 2 = женский )\n",
    "- __EDUCATION__: образование(0 = доктор, 1 = магистр; 2 = бакалавр; 3 = выпускник школы; 4 = начальное образование; 5= прочее; 6 = нет данных).\n",
    "- __MARRIAGE__: (0 = отказываюсь отвечать; 1 = замужем/женат; 2 = холост; 3 = нет данных).\n",
    "- __AGE__: возраст в годах\n",
    "- __PAY_0 - PAY_6__ : История прошлых платежей по кредиту. PAY_6 - платеж в апреле, ... Pay_0 - платеж в сентябре. Платеж = (0 = исправный платеж, 1=задержка в один месяц, 2=задержка в 2 месяца ...)\n",
    "- __BILL_AMT1 - BILL_AMT6__: задолженность, BILL_AMT6 - на апрель, BILL_AMT1 - на сентябрь\n",
    "- __PAY_AMT1 - PAY_AMT6__: сумма уплаченная в PAY_AMT6 - апреле, ..., PAY_AMT1 - сентябре\n",
    "- __default__ - индикатор невозврата денежных средств"
   ]
  },
  {
   "cell_type": "markdown",
   "metadata": {},
   "source": [
    "## Задание\n",
    "1. __Размер кредитного лимита (LIMIT_BAL):__ В двух группах, тех людей, кто вернул кредит (default = 0) и тех, кто его не вернул (default = 1) проверьте гипотезы: a) о равенстве медианных значений кредитного лимита с помощью подходящей интервальной оценки b) о равенстве распределений с помощью одного из подходящих непараметрических критериев проверки равенства средних. Значимы ли полученные результаты с практической точки зрения?\n",
    "2. __Пол (SEX):__ Проверьте гипотезу о том, что гендерный состав группы людей вернувших и не вернувших кредит отличается. Хорошо, если вы предоставите несколько различных решений этой задачи (с помощью доверительного интервала и подходящего статистического критерия).\n",
    "3. __Образование (EDUCATION):__ Проверьте гипотезу о том, что образование не влияет на то, вернет ли человек долг. Предложите способ наглядного представления разницы в ожидаемых и наблюдаемых значениях количества человек вернувших и не вернувших долг. Например, составьте таблицу сопряженности \"образование\" на \"возврат долга\", где значением ячейки была бы разность между наблюдаемым и ожидаемым количеством человек. Как бы вы предложили модифицировать таблицу так, чтобы привести значения ячеек к одному масштабу не потеряв в интерпретируемости? Наличие какого образования является наилучшим индикатором того, что человек отдаст долг? наоборт, не отдаст долг?\n",
    "4. __Семейное положение (MARRIAGE):__ Проверьте, как связан семейный статус с индикатором дефолта: нужно предложить меру, по которой можно измерить возможную связь этих переменных и посчитать ее значение.\n",
    "5. __Возраст (AGE):__ Относительно двух групп людей вернувших и не вернувших кредит проверьте следующие гипотезы: a) о равенстве медианных значений возрастов людей b) о равенстве распределений с помощью одного из подходящих непараметрических критериев проверки равенства средних. Значимы ли полученные результаты с практической точки зрения ?"
   ]
  },
  {
   "cell_type": "markdown",
   "metadata": {},
   "source": [
    "### Review criteria\n",
    "1. Выполнение каждого пункта задания должно начинаться с графика с данными, которые вы собираетесь анализировать. Еще лучше, если вы разложите графики анализируемого фактора по переменной (default), на которую хотите изучить влияние этого фактора, и проинтерпретируете отличия в полученных распределениях.\n",
    "2. При использовании статистических критериев необходимо убедиться в том, что условия их применимости выполняются. Например, если вы видите, что данные бинарные, то не нужно применять критерий Стьюдента.\n",
    "3. При каждом использовании любого критерия необходимо указать, какая проверяется гипотеза, против какой альтернативы, чему равен достигаемый уровень значимости, принимается или отвергается нулевая гипотеза на уровне значимости 0.05. Если задача позволяет, нужно оценить размер эффекта и предположить, имеет ли этот результат практическую значимость.\n",
    "4. Выполненное задание необходимо представить в ipython-ноутбука."
   ]
  },
  {
   "cell_type": "markdown",
   "metadata": {},
   "source": [
    "## Решение"
   ]
  },
  {
   "cell_type": "code",
   "execution_count": 1,
   "metadata": {
    "collapsed": true
   },
   "outputs": [],
   "source": [
    "import numpy as np\n",
    "import pandas as pd\n",
    "import scipy as sc\n",
    "\n",
    "import itertools \n",
    "import matplotlib\n",
    "import matplotlib.pyplot as plt\n",
    "\n",
    "from scipy.stats import mannwhitneyu\n",
    "from scipy.stats import norm\n",
    "from scipy.stats import binom_test\n",
    "from scipy.stats import chi2_contingency\n",
    "from scipy.stats import ttest_ind\n",
    "\n",
    "from scipy.stats.contingency import expected_freq\n",
    "\n",
    "from seaborn import heatmap\n",
    "\n",
    "from statsmodels.stats.weightstats import zconfint\n",
    "from statsmodels.stats.proportion import proportion_confint\n",
    "\n",
    "%matplotlib inline\n",
    "\n",
    "matplotlib.style.use('ggplot')\n",
    "\n",
    "permutations = 22000\n",
    "boostrap_size = 20000"
   ]
  },
  {
   "cell_type": "markdown",
   "metadata": {},
   "source": [
    "### Загружаем данные"
   ]
  },
  {
   "cell_type": "code",
   "execution_count": 2,
   "metadata": {},
   "outputs": [
    {
     "name": "stdout",
     "output_type": "stream",
     "text": [
      "Data shape: (rows:30000, cols:25)\n"
     ]
    },
    {
     "data": {
      "text/html": [
       "<div>\n",
       "<style>\n",
       "    .dataframe thead tr:only-child th {\n",
       "        text-align: right;\n",
       "    }\n",
       "\n",
       "    .dataframe thead th {\n",
       "        text-align: left;\n",
       "    }\n",
       "\n",
       "    .dataframe tbody tr th {\n",
       "        vertical-align: top;\n",
       "    }\n",
       "</style>\n",
       "<table border=\"1\" class=\"dataframe\">\n",
       "  <thead>\n",
       "    <tr style=\"text-align: right;\">\n",
       "      <th></th>\n",
       "      <th>ID</th>\n",
       "      <th>LIMIT_BAL</th>\n",
       "      <th>SEX</th>\n",
       "      <th>EDUCATION</th>\n",
       "      <th>MARRIAGE</th>\n",
       "      <th>AGE</th>\n",
       "      <th>PAY_0</th>\n",
       "      <th>PAY_2</th>\n",
       "      <th>PAY_3</th>\n",
       "      <th>PAY_4</th>\n",
       "      <th>...</th>\n",
       "      <th>BILL_AMT4</th>\n",
       "      <th>BILL_AMT5</th>\n",
       "      <th>BILL_AMT6</th>\n",
       "      <th>PAY_AMT1</th>\n",
       "      <th>PAY_AMT2</th>\n",
       "      <th>PAY_AMT3</th>\n",
       "      <th>PAY_AMT4</th>\n",
       "      <th>PAY_AMT5</th>\n",
       "      <th>PAY_AMT6</th>\n",
       "      <th>default</th>\n",
       "    </tr>\n",
       "  </thead>\n",
       "  <tbody>\n",
       "    <tr>\n",
       "      <th>0</th>\n",
       "      <td>1</td>\n",
       "      <td>20000</td>\n",
       "      <td>2</td>\n",
       "      <td>2</td>\n",
       "      <td>1</td>\n",
       "      <td>24</td>\n",
       "      <td>2</td>\n",
       "      <td>2</td>\n",
       "      <td>0</td>\n",
       "      <td>0</td>\n",
       "      <td>...</td>\n",
       "      <td>0</td>\n",
       "      <td>0</td>\n",
       "      <td>0</td>\n",
       "      <td>0</td>\n",
       "      <td>689</td>\n",
       "      <td>0</td>\n",
       "      <td>0</td>\n",
       "      <td>0</td>\n",
       "      <td>0</td>\n",
       "      <td>1</td>\n",
       "    </tr>\n",
       "    <tr>\n",
       "      <th>1</th>\n",
       "      <td>2</td>\n",
       "      <td>120000</td>\n",
       "      <td>2</td>\n",
       "      <td>2</td>\n",
       "      <td>2</td>\n",
       "      <td>26</td>\n",
       "      <td>0</td>\n",
       "      <td>2</td>\n",
       "      <td>0</td>\n",
       "      <td>0</td>\n",
       "      <td>...</td>\n",
       "      <td>3272</td>\n",
       "      <td>3455</td>\n",
       "      <td>3261</td>\n",
       "      <td>0</td>\n",
       "      <td>1000</td>\n",
       "      <td>1000</td>\n",
       "      <td>1000</td>\n",
       "      <td>0</td>\n",
       "      <td>2000</td>\n",
       "      <td>1</td>\n",
       "    </tr>\n",
       "    <tr>\n",
       "      <th>2</th>\n",
       "      <td>3</td>\n",
       "      <td>90000</td>\n",
       "      <td>2</td>\n",
       "      <td>2</td>\n",
       "      <td>2</td>\n",
       "      <td>34</td>\n",
       "      <td>0</td>\n",
       "      <td>0</td>\n",
       "      <td>0</td>\n",
       "      <td>0</td>\n",
       "      <td>...</td>\n",
       "      <td>14331</td>\n",
       "      <td>14948</td>\n",
       "      <td>15549</td>\n",
       "      <td>1518</td>\n",
       "      <td>1500</td>\n",
       "      <td>1000</td>\n",
       "      <td>1000</td>\n",
       "      <td>1000</td>\n",
       "      <td>5000</td>\n",
       "      <td>0</td>\n",
       "    </tr>\n",
       "    <tr>\n",
       "      <th>3</th>\n",
       "      <td>4</td>\n",
       "      <td>50000</td>\n",
       "      <td>2</td>\n",
       "      <td>2</td>\n",
       "      <td>1</td>\n",
       "      <td>37</td>\n",
       "      <td>0</td>\n",
       "      <td>0</td>\n",
       "      <td>0</td>\n",
       "      <td>0</td>\n",
       "      <td>...</td>\n",
       "      <td>28314</td>\n",
       "      <td>28959</td>\n",
       "      <td>29547</td>\n",
       "      <td>2000</td>\n",
       "      <td>2019</td>\n",
       "      <td>1200</td>\n",
       "      <td>1100</td>\n",
       "      <td>1069</td>\n",
       "      <td>1000</td>\n",
       "      <td>0</td>\n",
       "    </tr>\n",
       "    <tr>\n",
       "      <th>4</th>\n",
       "      <td>5</td>\n",
       "      <td>50000</td>\n",
       "      <td>1</td>\n",
       "      <td>2</td>\n",
       "      <td>1</td>\n",
       "      <td>57</td>\n",
       "      <td>0</td>\n",
       "      <td>0</td>\n",
       "      <td>0</td>\n",
       "      <td>0</td>\n",
       "      <td>...</td>\n",
       "      <td>20940</td>\n",
       "      <td>19146</td>\n",
       "      <td>19131</td>\n",
       "      <td>2000</td>\n",
       "      <td>36681</td>\n",
       "      <td>10000</td>\n",
       "      <td>9000</td>\n",
       "      <td>689</td>\n",
       "      <td>679</td>\n",
       "      <td>0</td>\n",
       "    </tr>\n",
       "  </tbody>\n",
       "</table>\n",
       "<p>5 rows × 25 columns</p>\n",
       "</div>"
      ],
      "text/plain": [
       "   ID  LIMIT_BAL  SEX  EDUCATION  MARRIAGE  AGE  PAY_0  PAY_2  PAY_3  PAY_4  \\\n",
       "0   1      20000    2          2         1   24      2      2      0      0   \n",
       "1   2     120000    2          2         2   26      0      2      0      0   \n",
       "2   3      90000    2          2         2   34      0      0      0      0   \n",
       "3   4      50000    2          2         1   37      0      0      0      0   \n",
       "4   5      50000    1          2         1   57      0      0      0      0   \n",
       "\n",
       "    ...     BILL_AMT4  BILL_AMT5  BILL_AMT6  PAY_AMT1  PAY_AMT2  PAY_AMT3  \\\n",
       "0   ...             0          0          0         0       689         0   \n",
       "1   ...          3272       3455       3261         0      1000      1000   \n",
       "2   ...         14331      14948      15549      1518      1500      1000   \n",
       "3   ...         28314      28959      29547      2000      2019      1200   \n",
       "4   ...         20940      19146      19131      2000     36681     10000   \n",
       "\n",
       "   PAY_AMT4  PAY_AMT5  PAY_AMT6  default  \n",
       "0         0         0         0        1  \n",
       "1      1000         0      2000        1  \n",
       "2      1000      1000      5000        0  \n",
       "3      1100      1069      1000        0  \n",
       "4      9000       689       679        0  \n",
       "\n",
       "[5 rows x 25 columns]"
      ]
     },
     "execution_count": 2,
     "metadata": {},
     "output_type": "execute_result"
    }
   ],
   "source": [
    "df = pd.read_csv(\"credit_card_default_analysis.csv\", sep=\",\", header=0)\n",
    "print(\"Data shape: (rows:{}, cols:{})\".format(df.shape[0], df.shape[1]))\n",
    "df.head()"
   ]
  },
  {
   "cell_type": "code",
   "execution_count": 3,
   "metadata": {},
   "outputs": [
    {
     "name": "stdout",
     "output_type": "stream",
     "text": [
      "Data have Empty values: False\n"
     ]
    }
   ],
   "source": [
    "print(\"Data have Empty values: {}\".format(df.isnull().values.any()))"
   ]
  },
  {
   "cell_type": "markdown",
   "metadata": {},
   "source": [
    "### Подготавливаем необходимые функции"
   ]
  },
  {
   "cell_type": "markdown",
   "metadata": {},
   "source": [
    "__Функции для использования Bootstrap__"
   ]
  },
  {
   "cell_type": "code",
   "execution_count": 4,
   "metadata": {
    "collapsed": true
   },
   "outputs": [],
   "source": [
    "def get_bootstrap_samples(data, n_samples):\n",
    "    indices = np.random.randint(0, len(data), (n_samples, len(data)))\n",
    "    samples = data[indices]\n",
    "    return samples\n",
    "\n",
    "\n",
    "def stat_intervals(stat, alpha):\n",
    "    boundaries = np.percentile(stat, [100 * alpha / 2., 100 * (1 - alpha / 2.)])\n",
    "    return boundaries"
   ]
  },
  {
   "cell_type": "markdown",
   "metadata": {},
   "source": [
    "__Функции для использования перестановочного критерия__"
   ]
  },
  {
   "cell_type": "code",
   "execution_count": 5,
   "metadata": {
    "collapsed": true
   },
   "outputs": [],
   "source": [
    "def get_random_combinations(n1, n2, max_combinations):\n",
    "    index = range(n1 + n2)\n",
    "    indices = set([tuple(index)])\n",
    "    for i in range(max_combinations - 1):\n",
    "        np.random.shuffle(index)\n",
    "        indices.add(tuple(index))\n",
    "    return [(index[:n1], index[n1:]) for index in indices]\n",
    "\n",
    "def permutation_zero_dist_ind(sample1, sample2, max_combinations = None):\n",
    "    joined_sample = np.hstack((sample1, sample2))\n",
    "    n1 = len(sample1)\n",
    "    n = len(joined_sample)\n",
    "    \n",
    "    if max_combinations:\n",
    "        indices = get_random_combinations(n1, len(sample2), max_combinations)\n",
    "    else:\n",
    "        indices = [(list(index), filter(lambda i: i not in index, range(n))) \\\n",
    "                    for index in itertools.combinations(range(n), n1)]\n",
    "    \n",
    "    distr = [joined_sample[list(i[0])].mean() - joined_sample[list(i[1])].mean() for i in indices]\n",
    "    \n",
    "    t_stat = np.mean(sample1) - np.mean(sample2)\n",
    "    \n",
    "    return distr, t_stat\n",
    "\n",
    "def permutation_test(zero_distr, t_stat, alternative = 'two-sided'):\n",
    "    if alternative not in ('two-sided', 'less', 'greater'):\n",
    "        raise ValueError(\"alternative not recognized\\n\"\n",
    "                         \"should be 'two-sided', 'less' or 'greater'\")\n",
    "    \n",
    "    if alternative == 'two-sided':\n",
    "        return sum([1. if abs(x) >= abs(t_stat) else 0. for x in zero_distr]) / len(zero_distr)\n",
    "    \n",
    "    if alternative == 'less':\n",
    "        return sum([1. if x <= t_stat else 0. for x in zero_distr]) / len(zero_distr)\n",
    "\n",
    "    if alternative == 'greater':\n",
    "        return sum([1. if x >= t_stat else 0. for x in zero_distr]) / len(zero_distr)"
   ]
  },
  {
   "cell_type": "markdown",
   "metadata": {},
   "source": [
    "__Доверительный интервал для разности долей (независимые выборки)__\n",
    "\n",
    "   | $X_1$ | $X_2$  \n",
    "  ------------- | -------------|\n",
    "  1  | a | b \n",
    "  0  | c | d \n",
    "  $\\sum$ | $n_1$| $n_2$\n",
    "  \n",
    "$$ \\hat{p}_1 = \\frac{a}{n_1}$$\n",
    "\n",
    "$$ \\hat{p}_2 = \\frac{b}{n_2}$$\n",
    "\n",
    "\n",
    "$$\\text{Доверительный интервал для }p_1 - p_2\\colon \\;\\; \\hat{p}_1 - \\hat{p}_2 \\pm z_{1-\\frac{\\alpha}{2}}\\sqrt{\\frac{\\hat{p}_1(1 - \\hat{p}_1)}{n_1} + \\frac{\\hat{p}_2(1 - \\hat{p}_2)}{n_2}}$$"
   ]
  },
  {
   "cell_type": "code",
   "execution_count": 6,
   "metadata": {
    "collapsed": true
   },
   "outputs": [],
   "source": [
    "def proportions_diff_confint_ind(sample1, sample2, alpha = 0.05):    \n",
    "    z = norm.ppf(1 - alpha / 2.0)\n",
    "    \n",
    "    p1 = float(sum(sample1)) / len(sample1)\n",
    "    p2 = float(sum(sample2)) / len(sample2)\n",
    "    \n",
    "    left_boundary  = (p1 - p2) - z * np.sqrt(p1 * (1 - p1) / len(sample1) + p2 * (1 - p2) / len(sample2))\n",
    "    right_boundary = (p1 - p2) + z * np.sqrt(p1 * (1 - p1) / len(sample1) + p2 * (1 - p2) / len(sample2))\n",
    "    \n",
    "    return (left_boundary, right_boundary)"
   ]
  },
  {
   "cell_type": "markdown",
   "metadata": {},
   "source": [
    "__Z-критерий для разности долей (независимые выборки)__"
   ]
  },
  {
   "cell_type": "markdown",
   "metadata": {},
   "source": [
    "$$Z-статистика: Z({X_1, X_2}) =  \\frac{\\hat{p}_1 - \\hat{p}_2}{\\sqrt{P(1 - P)(\\frac{1}{n_1} + \\frac{1}{n_2})}}$$\n",
    "$$P = \\frac{\\hat{p}_1{n_1} + \\hat{p}_2{n_2}}{{n_1} + {n_2}} $$"
   ]
  },
  {
   "cell_type": "code",
   "execution_count": 7,
   "metadata": {
    "collapsed": true
   },
   "outputs": [],
   "source": [
    "def proportions_diff_z_stat_ind(sample1, sample2):\n",
    "    n1 = len(sample1)\n",
    "    n2 = len(sample2)\n",
    "    \n",
    "    p1 = float(sum(sample1))  / n1\n",
    "    p2 = float(sum(sample2))  / n2 \n",
    "    P  = float(p1*n1 + p2*n2) / (n1 + n2)\n",
    "    \n",
    "    return (p1 - p2) / np.sqrt(P * (1 - P) * (1. / n1 + 1. / n2))\n",
    "\n",
    "def proportions_diff_z_test(z_stat, alternative = 'two-sided'):\n",
    "    if alternative not in ('two-sided', 'less', 'greater'):\n",
    "        raise ValueError(\"alternative not recognized\\n\"\n",
    "                         \"should be 'two-sided', 'less' or 'greater'\")\n",
    "    \n",
    "    if alternative == 'two-sided':\n",
    "        return 2 * (1 - norm.cdf(np.abs(z_stat)))\n",
    "    \n",
    "    if alternative == 'less':\n",
    "        return norm.cdf(z_stat)\n",
    "\n",
    "    if alternative == 'greater':\n",
    "        return 1 - norm.cdf(z_stat)"
   ]
  },
  {
   "cell_type": "markdown",
   "metadata": {},
   "source": [
    "__Функции для вычисления коэффициента корреляции V Краммера, а также дост. уровня значимости__"
   ]
  },
  {
   "cell_type": "code",
   "execution_count": 8,
   "metadata": {
    "collapsed": true
   },
   "outputs": [],
   "source": [
    "def cramers_corrected_stat(confusion_matrix):\n",
    "    \"\"\" calculate Cramers V statistic for categorial-categorial association.\n",
    "        uses correction from Bergsma and Wicher, \n",
    "        Journal of the Korean Statistical Society 42 (2013): 323-328\n",
    "    \"\"\"\n",
    "    (chi2, p, dof, ex) = chi2_contingency(confusion_matrix)\n",
    "    n = confusion_matrix.sum()\n",
    "    phi2 = chi2/n\n",
    "    r,k = confusion_matrix.shape\n",
    "    phi2corr = max(0, phi2 - ((k-1)*(r-1))/(n-1))    \n",
    "    rcorr = r - ((r-1)**2)/(n-1)\n",
    "    kcorr = k - ((k-1)**2)/(n-1)\n",
    "    return np.sqrt(phi2corr / min( (kcorr-1), (rcorr-1))), p\n",
    "\n",
    "def cramers_stat(confusion_matrix):\n",
    "    (chi2, p, dof, ex) = chi2_contingency(confusion_matrix)\n",
    "    n = confusion_matrix.sum()\n",
    "    return np.sqrt(chi2 / (n*(min(confusion_matrix.shape)-1))), p"
   ]
  },
  {
   "cell_type": "markdown",
   "metadata": {},
   "source": [
    "### Часть 00. __Распределение вернувших кредит против не вернувших__"
   ]
  },
  {
   "cell_type": "code",
   "execution_count": 9,
   "metadata": {},
   "outputs": [
    {
     "data": {
      "image/png": "[encoded data removed]",
      "text/plain": [
       "<matplotlib.figure.Figure at 0x7fee706c2690>"
      ]
     },
     "metadata": {},
     "output_type": "display_data"
    }
   ],
   "source": [
    "#Строим гистограммы количества вернувших кредит и не вернувших кредит\n",
    "unique, counts = np.unique(df.default, return_counts=True)\n",
    "\n",
    "def_dic = {0: \"Off\", 1 :\"On\"}\n",
    "\n",
    "unique = [def_dic[idx] for idx in unique]\n",
    "\n",
    "y_pos = np.arange(len(unique))\n",
    "\n",
    "plt.figure(figsize=(16, 7))\n",
    "\n",
    "plt.bar(y_pos, counts, color = 'grey', align='center', alpha=0.5)\n",
    "plt.title(\"Values of \\\"default\\\" histogram\")\n",
    "plt.xticks(y_pos, unique)\n",
    "plt.show()"
   ]
  },
  {
   "cell_type": "markdown",
   "metadata": {},
   "source": [
    "Как видно на гистограмме, количество вернувших кредит в представленной выборке превышает число тех, кто не вернул кредит. Далее проверим, как это сказывается на работе банка, и как влияют на это состояние различные аттрибуты заемщика."
   ]
  },
  {
   "cell_type": "code",
   "execution_count": 10,
   "metadata": {},
   "outputs": [
    {
     "name": "stdout",
     "output_type": "stream",
     "text": [
      "Default proportion: 0.2212 -> [0.2165, 0.2259]\n"
     ]
    }
   ],
   "source": [
    "observed_frequences = np.bincount(df.default.values)\n",
    "observed_proportion = float(observed_frequences[1]) / float(df.default.values.shape[0])\n",
    "\n",
    "conf_int  = proportion_confint(observed_frequences[1],  df.default.values.shape[0], method = 'wilson')\n",
    "\n",
    "print \"Default proportion: {:1.4f} -> [{:1.4f}, {:1.4f}]\".format(observed_proportion,  conf_int[0], conf_int[1])"
   ]
  },
  {
   "cell_type": "code",
   "execution_count": 11,
   "metadata": {
    "collapsed": true
   },
   "outputs": [],
   "source": [
    "del unique, counts\n",
    "del def_dic, y_pos\n",
    "del observed_frequences\n",
    "del observed_proportion\n",
    "del conf_int"
   ]
  },
  {
   "cell_type": "markdown",
   "metadata": {},
   "source": [
    "### Часть 01. __Размер кредитного лимита (LIMIT_BAL)__\n",
    "\n",
    "В двух группах, тех людей, кто вернул кредит (default = 0) и тех, кто его не вернул (default = 1) проверьте две гипотезы: \n",
    "\n",
    "1. О равенстве медианных значений кредитного лимита с помощью подходящей интервальной оценки\n",
    "2. О равенстве распределений с помощью одного из подходящих непараметрических критериев проверки равенства средних.\n",
    "\n",
    "Значимы ли полученные результаты с практической точки зрения ?"
   ]
  },
  {
   "cell_type": "code",
   "execution_count": 12,
   "metadata": {
    "collapsed": true
   },
   "outputs": [],
   "source": [
    "#Полготавливаем выборки\n",
    "limits_def_on  = df[df.default == 1].LIMIT_BAL.values\n",
    "limits_def_off = df[df.default != 1].LIMIT_BAL.values"
   ]
  },
  {
   "cell_type": "code",
   "execution_count": 13,
   "metadata": {},
   "outputs": [
    {
     "data": {
      "image/png": "[encoded data removed]",
      "text/plain": [
       "<matplotlib.figure.Figure at 0x7fee706d6b50>"
      ]
     },
     "metadata": {},
     "output_type": "display_data"
    }
   ],
   "source": [
    "#Строим гистограммы по выборкам, чтобы их наглядно оценить\n",
    "plt.figure(figsize=(16, 7))\n",
    "plt.subplot(121)\n",
    "plt.hist(limits_def_on, bins=14, color = 'r')\n",
    "plt.xlabel('Limit', fontsize=14)\n",
    "plt.title(\"Default == 1\")\n",
    "\n",
    "plt.subplot(122)\n",
    "plt.hist(limits_def_off, bins=14, color = 'g')\n",
    "plt.xlabel('Limit', fontsize=14)\n",
    "plt.title(\"Default == 0\")\n",
    "plt.show()"
   ]
  },
  {
   "cell_type": "markdown",
   "metadata": {},
   "source": [
    "Глядя на две представленные гистограммы, можно визуально определить, что медианные значения скорее всего разные. Ниже это и проверим."
   ]
  },
  {
   "cell_type": "markdown",
   "metadata": {},
   "source": [
    "#### a) Интервальная оценка медиан:\n",
    "\n",
    "Выборки являются независимыми. Для оценки медиан будем использовать метод Bootstrap."
   ]
  },
  {
   "cell_type": "code",
   "execution_count": 14,
   "metadata": {},
   "outputs": [
    {
     "name": "stdout",
     "output_type": "stream",
     "text": [
      "CPU times: user 13.4 s, sys: 960 ms, total: 14.3 s\n",
      "Wall time: 14.3 s\n"
     ]
    }
   ],
   "source": [
    "%%time\n",
    "#Интервальная оценка медиан\n",
    "np.random.seed(0)\n",
    "\n",
    "medians_def_on  = map(np.median, get_bootstrap_samples(limits_def_on,  boostrap_size))\n",
    "medians_def_off = map(np.median, get_bootstrap_samples(limits_def_off, boostrap_size))"
   ]
  },
  {
   "cell_type": "markdown",
   "metadata": {},
   "source": [
    "##### Точечные оценки медиан и их интервальные оценки в каждой выборке"
   ]
  },
  {
   "cell_type": "code",
   "execution_count": 15,
   "metadata": {},
   "outputs": [
    {
     "name": "stdout",
     "output_type": "stream",
     "text": [
      "95% confidence interval and median:\n",
      "Default == 1:   89716.00 -> [89685.50, 89746.50]\n",
      "Default == 0:  150035.25 -> [150027.05, 150043.45]\n"
     ]
    }
   ],
   "source": [
    "conf_on  = zconfint(medians_def_on)\n",
    "conf_off = zconfint(medians_def_off)\n",
    "\n",
    "print \"95% confidence interval and median:\"\n",
    "print \"Default == 1: {:10.2f} -> [{:4.2f}, {:4.2f}]\".format(np.mean(medians_def_on), conf_on[0], conf_on[1])\n",
    "print \"Default == 0: {:10.2f} -> [{:4.2f}, {:4.2f}]\".format(np.mean(medians_def_off), conf_off[0], conf_off[1])"
   ]
  },
  {
   "cell_type": "markdown",
   "metadata": {},
   "source": [
    "##### Доверительный интервал для разности медиан (независимые выборки)"
   ]
  },
  {
   "cell_type": "code",
   "execution_count": 16,
   "metadata": {},
   "outputs": [
    {
     "name": "stdout",
     "output_type": "stream",
     "text": [
      "Difference between medians: 60000.0\n",
      "95% confidence interval for the difference between medians [ 60000.  70000.]\n"
     ]
    }
   ],
   "source": [
    "print \"Difference between medians:\", np.median(limits_def_off) - np.median(limits_def_on)\n",
    "delta_medians = map(lambda x: x[0] - x[1], zip(medians_def_off, medians_def_on))\n",
    "print \"95% confidence interval for the difference between medians\",  stat_intervals(delta_medians, 0.05)\n",
    "del delta_medians"
   ]
  },
  {
   "cell_type": "markdown",
   "metadata": {},
   "source": [
    "#### б) Проверка статистическим критерием равенство средних:\n",
    "\n",
    "О равенстве распределений с помощью одного из подходящих непараметрических критериев проверки равенства средних."
   ]
  },
  {
   "cell_type": "code",
   "execution_count": 17,
   "metadata": {},
   "outputs": [
    {
     "name": "stdout",
     "output_type": "stream",
     "text": [
      "95% confidence interval and mean:\n",
      "Default == 1:  130109.66 -> [ 127333.65,  132885.66]\n",
      "Default == 0:  178099.73 -> [ 176411.91,  179787.54]\n"
     ]
    }
   ],
   "source": [
    "#Для начала получим точечную оценку среднего, а также интервальную оценку для каждой выборки\n",
    "conf_on = zconfint(limits_def_on)\n",
    "conf_off = zconfint(limits_def_off)\n",
    "\n",
    "print \"95% confidence interval and mean:\"\n",
    "print \"Default == 1: {:10.2f} -> [{:10.2f}, {:10.2f}]\".format(limits_def_on.mean(), conf_on[0], conf_on[1])\n",
    "print \"Default == 0: {:10.2f} -> [{:10.2f}, {:10.2f}]\".format(limits_def_off.mean(), conf_off[0], conf_off[1])\n",
    "\n",
    "del conf_on\n",
    "del conf_off"
   ]
  },
  {
   "cell_type": "markdown",
   "metadata": {},
   "source": [
    "##### Проверим гипотезу о равенстве распределений с помощью перестановочного критерия\n",
    "\n",
    "$H_0\\colon F_{X_1}(x) = F_{X_2}(x)$\n",
    "\n",
    "$H_1\\colon F_{X_1}(x) = F_{X_2}(x + \\Delta), \\Delta\\neq 0$"
   ]
  },
  {
   "cell_type": "code",
   "execution_count": 18,
   "metadata": {},
   "outputs": [
    {
     "data": {
      "image/png": "[encoded data removed]",
      "text/plain": [
       "<matplotlib.figure.Figure at 0x7feeaa509890>"
      ]
     },
     "metadata": {},
     "output_type": "display_data"
    },
    {
     "name": "stdout",
     "output_type": "stream",
     "text": [
      "CPU times: user 1min 16s, sys: 6.26 s, total: 1min 23s\n",
      "Wall time: 1min 38s\n"
     ]
    }
   ],
   "source": [
    "%%time\n",
    "perm, t_stat = permutation_zero_dist_ind(limits_def_off, limits_def_on, max_combinations = permutations)\n",
    "\n",
    "plt.hist(perm, bins=18, range=(-7500, 7500), color='gray')\n",
    "plt.show()"
   ]
  },
  {
   "cell_type": "code",
   "execution_count": 19,
   "metadata": {},
   "outputs": [
    {
     "name": "stdout",
     "output_type": "stream",
     "text": [
      "p-value: 0.000045\n"
     ]
    }
   ],
   "source": [
    "print \"p-value: %f\" % permutation_test(perm, t_stat)"
   ]
  },
  {
   "cell_type": "code",
   "execution_count": 20,
   "metadata": {
    "collapsed": true
   },
   "outputs": [],
   "source": [
    "del limits_def_on\n",
    "del limits_def_off\n",
    "\n",
    "del medians_def_on\n",
    "del medians_def_off\n",
    "\n",
    "del perm"
   ]
  },
  {
   "cell_type": "markdown",
   "metadata": {},
   "source": [
    "### <font color=\"green\">Выводы 01: Анализ размера кредитного лимита (LIMIT_BAL)</font>\n",
    "\n",
    "__Проверка гипотезы о равенстве распределений:__\n",
    "\n",
    "__1. Интервальная оценка равенства медианных значений кредитного лимита:__\n",
    "- Интервальная оценка медиан дает два непересекающихся интервала. Причем, интервал для медианы кредитного лимита тех, кто вернул кредит, лежит сильно правее интервала для медианного значения кредитного лимита у тех, кто его не вернул.\n",
    "- Интервальные оценка разности двух медиан не содержит 0.\n",
    "\n",
    "__2. Применение непараметрического критерия проверки равенства средних значений кредитного лимита.__\n",
    "\n",
    "$H_0\\colon F_{X_1}(x) = F_{X_2}(x)$\n",
    "\n",
    "$H_1\\colon F_{X_1}(x) = F_{X_2}(x + \\Delta), \\Delta\\neq 0$\n",
    "\n",
    "- Вычисленные достигаемый уровень значимости $p \\ll 0.05$, следовательно, отвергаем $H_0$ о том, что средние значения равны.\n",
    "\n",
    "__3. Общий вывод:__\n",
    "- Распределения получаются разные, следовательно, природа событий, порождающих эти две выборки разнаяю\n",
    "- С практической точки зрения результат говорит о том, что банк не страдает от невозвратных кредитов, находясь при этом в плюсе, т.к. кредитный лимит у людей, кто не вернул, значительно ниже.\n",
    "\n"
   ]
  },
  {
   "cell_type": "markdown",
   "metadata": {},
   "source": [
    "### Часть 02.  __Пол (SEX)__\n",
    "\n",
    "Проверьте гипотезу о том, что гендерный состав группы людей вернувших и не вернувших кредит отличается. Хорошо, если вы предоставите несколько различных решений этой задачи (с помощью доверительного интервала и подходящего статистического критерия) "
   ]
  },
  {
   "cell_type": "code",
   "execution_count": 21,
   "metadata": {
    "collapsed": true
   },
   "outputs": [],
   "source": [
    "#Подготавливаем выборки\n",
    "sex_def_on  = df[df.default == 1].SEX.values - 1\n",
    "sex_def_off = df[df.default == 0].SEX.values - 1"
   ]
  },
  {
   "cell_type": "code",
   "execution_count": 22,
   "metadata": {},
   "outputs": [
    {
     "data": {
      "image/png": "[encoded data removed]",
      "text/plain": [
       "<matplotlib.figure.Figure at 0x7fee70072350>"
      ]
     },
     "metadata": {},
     "output_type": "display_data"
    }
   ],
   "source": [
    "#Строим гистограммы значений, чтобы попробовать наглядно оценить различия\n",
    "unique1, counts1 = np.unique(sex_def_on, return_counts=True)\n",
    "unique2, counts2 = np.unique(sex_def_off, return_counts=True)\n",
    "\n",
    "sex_dic = {0: \"Male\", 1 :\"Female\"}\n",
    "\n",
    "unique1 = [sex_dic[idx] for idx in unique1]\n",
    "unique2 = [sex_dic[idx] for idx in unique2]\n",
    "\n",
    "y_pos1 = np.arange(len(unique1))\n",
    "y_pos2 = np.arange(len(unique2))\n",
    "\n",
    "plt.figure(figsize=(16, 7))\n",
    "plt.subplot(121)\n",
    "\n",
    "plt.bar(y_pos1, counts1, color = 'r', align='center', alpha=0.5)\n",
    "plt.xlabel('Sex', fontsize=14)\n",
    "plt.title(\"Default == 1\")\n",
    "plt.xticks(y_pos1, unique1)\n",
    "\n",
    "plt.subplot(122)\n",
    "plt.bar(y_pos2, counts2, color = 'g')\n",
    "plt.xlabel('Sex', fontsize=14)\n",
    "plt.title(\"Default == 0\")\n",
    "plt.xticks(y_pos2, unique2)\n",
    "plt.show()"
   ]
  },
  {
   "cell_type": "markdown",
   "metadata": {
    "collapsed": true
   },
   "source": [
    "#### a) Интервальная оценка:\n",
    "\n",
    "Выборки являются независимыми и бинарными. Присутствуют всего два значения: мужчина, женщина. Следовательно, можно использовать оценку доверительных интервалов для разности долей."
   ]
  },
  {
   "cell_type": "markdown",
   "metadata": {},
   "source": [
    "##### Точечные оценки долей и их интервальные оценки в каждой выборке"
   ]
  },
  {
   "cell_type": "code",
   "execution_count": 23,
   "metadata": {},
   "outputs": [
    {
     "name": "stdout",
     "output_type": "stream",
     "text": [
      "Female ratio (Default == 1): 3763/6636 \n",
      "Female ratio (Default == 0): 14349/23364 \n",
      "\n",
      "95% confidence interval:\n",
      "Female (Default == 1): 0.5671 -> [0.5551, 0.5789]\n",
      "Female (Default == 0): 0.6141 -> [0.6079, 0.6204]\n"
     ]
    }
   ],
   "source": [
    "print \"Female ratio (Default == 1): {}/{} \".format(sex_def_on.sum(),  sex_def_on.shape[0])\n",
    "print \"Female ratio (Default == 0): {}/{} \".format(sex_def_off.sum(), sex_def_off.shape[0])\n",
    "\n",
    "conf_on  = proportion_confint(sex_def_on.sum(),  sex_def_on.shape[0],  method = 'wilson')\n",
    "conf_off = proportion_confint(sex_def_off.sum(), sex_def_off.shape[0], method = 'wilson')\n",
    "\n",
    "print \"\\n95% confidence interval:\"\n",
    "print 'Female (Default == 1): {:1.4f} -> [{:1.4f}, {:1.4f}]'.format(sex_def_on.mean(), conf_on[0], conf_on[1])\n",
    "print 'Female (Default == 0): {:1.4f} -> [{:1.4f}, {:1.4f}]'.format(sex_def_off.mean(), conf_off[0], conf_off[1])"
   ]
  },
  {
   "cell_type": "markdown",
   "metadata": {},
   "source": [
    "Интервалы не пересекаются. Это уже хорошо."
   ]
  },
  {
   "cell_type": "markdown",
   "metadata": {},
   "source": [
    "#### Доверительный интервал для разности долей (независимые выборки)"
   ]
  },
  {
   "cell_type": "code",
   "execution_count": 24,
   "metadata": {},
   "outputs": [
    {
     "name": "stdout",
     "output_type": "stream",
     "text": [
      "\n",
      "Difference (def=0 - def=1): 0.0471\n",
      "95% confidence interval for a diff: [0.033635, 0.060548]\n"
     ]
    }
   ],
   "source": [
    "print \"\\nDifference (def=0 - def=1): {:4.4f}\".format(sex_def_off.mean() - sex_def_on.mean())\n",
    "\n",
    "print \"95%% confidence interval for a diff: [%f, %f]\" % proportions_diff_confint_ind(sex_def_off, sex_def_on)"
   ]
  },
  {
   "cell_type": "markdown",
   "metadata": {
    "collapsed": true
   },
   "source": [
    "Видим, что интервалы опять же не пересекаются. Вроде как, женщины чаще возвращают кредит, чем мужчины. Причем возвращающих кредит женщин больше на $4.7\\%$, чем женщин, не возращающих кредит. Проверим это далее с помощью статистического критерия."
   ]
  },
  {
   "cell_type": "markdown",
   "metadata": {
    "collapsed": true
   },
   "source": [
    "#### б) Проверка статистическим критерием:\n",
    "\n",
    "Выборки являются независимыми с неизвестной дисперсией. Следовательно, необходимо использовать Z-критерий для разности долей."
   ]
  },
  {
   "cell_type": "markdown",
   "metadata": {},
   "source": [
    "##### Z-критерий для разности долей (независимые выборки). Проверяем следующие гипотезы:\n",
    "\n",
    "$H_0:$ Доля женщин в каждой выборке одинаковая\n",
    "\n",
    "$H_1:$ Доля женщин в выборке людей, вернувших кредит, больше"
   ]
  },
  {
   "cell_type": "code",
   "execution_count": 25,
   "metadata": {},
   "outputs": [
    {
     "name": "stdout",
     "output_type": "stream",
     "text": [
      "p-value: 0.999999999998\n"
     ]
    }
   ],
   "source": [
    "z = proportions_diff_z_stat_ind(sex_def_off, sex_def_on)\n",
    "print \"p-value: {}\".format(proportions_diff_z_test(z, \"less\"))"
   ]
  },
  {
   "cell_type": "code",
   "execution_count": 26,
   "metadata": {
    "collapsed": true
   },
   "outputs": [],
   "source": [
    "del sex_def_on\n",
    "del sex_def_off\n",
    "del unique1, counts1\n",
    "del unique2, counts2\n",
    "del sex_dic\n",
    "del y_pos1, y_pos2\n",
    "del conf_on\n",
    "del conf_off"
   ]
  },
  {
   "cell_type": "markdown",
   "metadata": {
    "collapsed": true
   },
   "source": [
    "### <font color=\"green\">Выводы 02: __Пол (SEX)__</font>\n",
    "\n",
    "- ___Гендерный состав___ в группах людей, вернуших кредит и не вернувших кредит, ___разный___\n",
    "- ___Женщины возвращают___ кредит ___чаще___, чем мужчины. \n",
    "- Количество ___женщин, вернувших кредит__ в среднем __на__ $4.7\\%$ $(95\\%$ доверительный интервал — $[3.36\\%, 6.05\\%]$) ___больше, чем женщин, не вернувших кредит___"
   ]
  },
  {
   "cell_type": "markdown",
   "metadata": {},
   "source": [
    "### Часть 03.  __Образование (EDUCATION)__\n",
    "\n",
    "Проверьте гипотезу о том, что образование не влияет на то, вернет ли человек долг. Предложите способ наглядного представления разницы в ожидаемых и наблюдаемых значениях количества человек вернувших и не вернувших долг.\n",
    "\n",
    "Например, составьте таблицу сопряженности \"образование\" на \"возврат долга\", где значением ячейки была бы разность между наблюдаемым и ожидаемым количеством человек. Как бы вы предложили модифицировать таблицу так, чтобы привести значения ячеек к одному масштабу не потеряв в интерпретируемости?\n",
    "\n",
    "Наличие какого образования является наилучшим индикатором того, что человек отдаст долг ? наоборт, не отдаст долг ?"
   ]
  },
  {
   "cell_type": "code",
   "execution_count": 55,
   "metadata": {
    "collapsed": true
   },
   "outputs": [],
   "source": [
    "education_def_on  = df[df.default == 1].EDUCATION\n",
    "education_def_off = df[df.default == 0].EDUCATION"
   ]
  },
  {
   "cell_type": "code",
   "execution_count": 56,
   "metadata": {},
   "outputs": [
    {
     "data": {
      "image/png": "[encoded data removed]",
      "text/plain": [
       "<matplotlib.figure.Figure at 0x7fee706c2fd0>"
      ]
     },
     "metadata": {},
     "output_type": "display_data"
    }
   ],
   "source": [
    "unique1, counts1 = np.unique(education_def_on,  return_counts=True)\n",
    "unique2, counts2 = np.unique(education_def_off, return_counts=True)\n",
    "\n",
    "edu_dic = {0: \"doctor\", 1 :\"master\", 2: \"bachelor\", 3: \"school graduate\", 4: \"primary\", 5: \"other\", 6: \"no data\"}\n",
    "\n",
    "unique1 = [edu_dic[idx] for idx in unique1]\n",
    "unique2 = [edu_dic[idx] for idx in unique2]\n",
    "\n",
    "y_pos1 = np.arange(len(unique1))\n",
    "y_pos2 = np.arange(len(unique2))\n",
    "\n",
    "plt.figure(figsize=(16, 7))\n",
    "plt.subplot(121)\n",
    "\n",
    "plt.barh(y_pos1, counts1, color = 'r', align='center', alpha=0.5)\n",
    "plt.xlabel('Education', fontsize=14)\n",
    "plt.title(\"Default == 1\")\n",
    "plt.yticks(y_pos1, unique1)\n",
    "\n",
    "plt.subplot(122)\n",
    "plt.barh(y_pos2, counts2, color = 'g')\n",
    "plt.xlabel('Education', fontsize=14)\n",
    "plt.title(\"Default == 0\")\n",
    "plt.yticks(y_pos2, unique2)\n",
    "plt.show()"
   ]
  },
  {
   "cell_type": "markdown",
   "metadata": {},
   "source": [
    "#### Проверяем корреляцию между двумя категориальными величинами, используя коэффициент V Краммера\n",
    "\n",
    "##### Проверяем следующие гипотезы:\n",
    "\n",
    "$H_0:$ EDUCATION и default - независимы, то есть $\\phi_c(X_1^n, X_2^N) = 0$\n",
    "\n",
    "$H_1:$ EDUCATION влияет на default, то есть $\\phi_c(X_1^n, X_2^N) \\neq 0$"
   ]
  },
  {
   "cell_type": "code",
   "execution_count": 57,
   "metadata": {},
   "outputs": [
    {
     "name": "stdout",
     "output_type": "stream",
     "text": [
      "Cramers Vcorr=0.073760, p=0.00000000\n",
      "Cramers Vorig=0.073760, p=0.00000000\n"
     ]
    }
   ],
   "source": [
    "confusion_matrix = pd.crosstab(df['default'], df['EDUCATION']).as_matrix()\n",
    "\n",
    "print \"Cramers Vcorr=%f, p=%2.8f\" % cramers_corrected_stat(confusion_matrix)\n",
    "print \"Cramers Vorig=%f, p=%2.8f\" % cramers_stat(confusion_matrix)"
   ]
  },
  {
   "cell_type": "markdown",
   "metadata": {},
   "source": [
    "После применения вычисления коэффициента корреляции V Краммера и достигаемого уровня значимости, мы видим, то гипотезу $H_0$ можно смело отвергнуть. "
   ]
  },
  {
   "cell_type": "code",
   "execution_count": 72,
   "metadata": {},
   "outputs": [],
   "source": [
    "#Получаем матрицу сопряженности с разностью между наблюдаемым и ожидаемым количеством человек\n",
    "ex_freq = expected_freq(confusion_matrix)\n",
    "conjugacy_matrix = confusion_matrix - ex_freq\n",
    "#Нормируем матрицу\n",
    "conjugacy_matrix_norm = conjugacy_matrix / ex_freq#confusion_matrix.sum(axis=0)"
   ]
  },
  {
   "cell_type": "code",
   "execution_count": 73,
   "metadata": {},
   "outputs": [
    {
     "data": {
      "text/html": [
       "<div>\n",
       "<style>\n",
       "    .dataframe thead tr:only-child th {\n",
       "        text-align: right;\n",
       "    }\n",
       "\n",
       "    .dataframe thead th {\n",
       "        text-align: left;\n",
       "    }\n",
       "\n",
       "    .dataframe tbody tr th {\n",
       "        vertical-align: top;\n",
       "    }\n",
       "</style>\n",
       "<table border=\"1\" class=\"dataframe\">\n",
       "  <thead>\n",
       "    <tr style=\"text-align: right;\">\n",
       "      <th></th>\n",
       "      <th>doctor</th>\n",
       "      <th>master</th>\n",
       "      <th>bachelor</th>\n",
       "      <th>school graduate</th>\n",
       "      <th>primary</th>\n",
       "      <th>other</th>\n",
       "      <th>no data</th>\n",
       "    </tr>\n",
       "  </thead>\n",
       "  <tbody>\n",
       "    <tr>\n",
       "      <th>def=0</th>\n",
       "      <td>14</td>\n",
       "      <td>8549</td>\n",
       "      <td>10700</td>\n",
       "      <td>3680</td>\n",
       "      <td>116</td>\n",
       "      <td>262</td>\n",
       "      <td>43</td>\n",
       "    </tr>\n",
       "    <tr>\n",
       "      <th>def=1</th>\n",
       "      <td>0</td>\n",
       "      <td>2036</td>\n",
       "      <td>3330</td>\n",
       "      <td>1237</td>\n",
       "      <td>7</td>\n",
       "      <td>18</td>\n",
       "      <td>8</td>\n",
       "    </tr>\n",
       "  </tbody>\n",
       "</table>\n",
       "</div>"
      ],
      "text/plain": [
       "       doctor  master  bachelor  school graduate  primary  other  no data\n",
       "def=0      14    8549     10700             3680      116    262       43\n",
       "def=1       0    2036      3330             1237        7     18        8"
      ]
     },
     "execution_count": 73,
     "metadata": {},
     "output_type": "execute_result"
    }
   ],
   "source": [
    "confusion_df = pd.DataFrame(data=confusion_matrix, columns=unique2, index=[\"def=0\", \"def=1\"])\n",
    "confusion_df"
   ]
  },
  {
   "cell_type": "code",
   "execution_count": 74,
   "metadata": {},
   "outputs": [
    {
     "data": {
      "text/html": [
       "<div>\n",
       "<style>\n",
       "    .dataframe thead tr:only-child th {\n",
       "        text-align: right;\n",
       "    }\n",
       "\n",
       "    .dataframe thead th {\n",
       "        text-align: left;\n",
       "    }\n",
       "\n",
       "    .dataframe tbody tr th {\n",
       "        vertical-align: top;\n",
       "    }\n",
       "</style>\n",
       "<table border=\"1\" class=\"dataframe\">\n",
       "  <thead>\n",
       "    <tr style=\"text-align: right;\">\n",
       "      <th></th>\n",
       "      <th>doctor</th>\n",
       "      <th>master</th>\n",
       "      <th>bachelor</th>\n",
       "      <th>school graduate</th>\n",
       "      <th>primary</th>\n",
       "      <th>other</th>\n",
       "      <th>no data</th>\n",
       "    </tr>\n",
       "  </thead>\n",
       "  <tbody>\n",
       "    <tr>\n",
       "      <th>def=0</th>\n",
       "      <td>10.9032</td>\n",
       "      <td>8243.598</td>\n",
       "      <td>10926.564</td>\n",
       "      <td>3829.3596</td>\n",
       "      <td>95.7924</td>\n",
       "      <td>218.064</td>\n",
       "      <td>39.7188</td>\n",
       "    </tr>\n",
       "    <tr>\n",
       "      <th>def=1</th>\n",
       "      <td>3.0968</td>\n",
       "      <td>2341.402</td>\n",
       "      <td>3103.436</td>\n",
       "      <td>1087.6404</td>\n",
       "      <td>27.2076</td>\n",
       "      <td>61.936</td>\n",
       "      <td>11.2812</td>\n",
       "    </tr>\n",
       "  </tbody>\n",
       "</table>\n",
       "</div>"
      ],
      "text/plain": [
       "        doctor    master   bachelor  school graduate  primary    other  \\\n",
       "def=0  10.9032  8243.598  10926.564        3829.3596  95.7924  218.064   \n",
       "def=1   3.0968  2341.402   3103.436        1087.6404  27.2076   61.936   \n",
       "\n",
       "       no data  \n",
       "def=0  39.7188  \n",
       "def=1  11.2812  "
      ]
     },
     "execution_count": 74,
     "metadata": {},
     "output_type": "execute_result"
    }
   ],
   "source": [
    "ex_freq_df = pd.DataFrame(data=ex_freq, columns=unique2, index=[\"def=0\", \"def=1\"])\n",
    "ex_freq_df"
   ]
  },
  {
   "cell_type": "code",
   "execution_count": 75,
   "metadata": {},
   "outputs": [
    {
     "data": {
      "text/html": [
       "<div>\n",
       "<style>\n",
       "    .dataframe thead tr:only-child th {\n",
       "        text-align: right;\n",
       "    }\n",
       "\n",
       "    .dataframe thead th {\n",
       "        text-align: left;\n",
       "    }\n",
       "\n",
       "    .dataframe tbody tr th {\n",
       "        vertical-align: top;\n",
       "    }\n",
       "</style>\n",
       "<table border=\"1\" class=\"dataframe\">\n",
       "  <thead>\n",
       "    <tr style=\"text-align: right;\">\n",
       "      <th></th>\n",
       "      <th>doctor</th>\n",
       "      <th>master</th>\n",
       "      <th>bachelor</th>\n",
       "      <th>school graduate</th>\n",
       "      <th>primary</th>\n",
       "      <th>other</th>\n",
       "      <th>no data</th>\n",
       "    </tr>\n",
       "  </thead>\n",
       "  <tbody>\n",
       "    <tr>\n",
       "      <th>def=0</th>\n",
       "      <td>0.284027</td>\n",
       "      <td>0.037047</td>\n",
       "      <td>-0.020735</td>\n",
       "      <td>-0.039004</td>\n",
       "      <td>0.210952</td>\n",
       "      <td>0.201482</td>\n",
       "      <td>0.082611</td>\n",
       "    </tr>\n",
       "    <tr>\n",
       "      <th>def=1</th>\n",
       "      <td>-1.000000</td>\n",
       "      <td>-0.130436</td>\n",
       "      <td>0.073004</td>\n",
       "      <td>0.137324</td>\n",
       "      <td>-0.742719</td>\n",
       "      <td>-0.709377</td>\n",
       "      <td>-0.290856</td>\n",
       "    </tr>\n",
       "  </tbody>\n",
       "</table>\n",
       "</div>"
      ],
      "text/plain": [
       "         doctor    master  bachelor  school graduate   primary     other  \\\n",
       "def=0  0.284027  0.037047 -0.020735        -0.039004  0.210952  0.201482   \n",
       "def=1 -1.000000 -0.130436  0.073004         0.137324 -0.742719 -0.709377   \n",
       "\n",
       "        no data  \n",
       "def=0  0.082611  \n",
       "def=1 -0.290856  "
      ]
     },
     "execution_count": 75,
     "metadata": {},
     "output_type": "execute_result"
    }
   ],
   "source": [
    "conjugacy_df = pd.DataFrame(data=conjugacy_matrix_norm, columns=unique2, index=[\"def=0\", \"def=1\"])\n",
    "conjugacy_df"
   ]
  },
  {
   "cell_type": "code",
   "execution_count": 80,
   "metadata": {},
   "outputs": [
    {
     "data": {
      "image/png": "[encoded data removed]",
      "text/plain": [
       "<matplotlib.figure.Figure at 0x7fee6fa39d10>"
      ]
     },
     "metadata": {},
     "output_type": "display_data"
    },
    {
     "data": {
      "image/png": "[encoded data removed]",
      "text/plain": [
       "<matplotlib.figure.Figure at 0x7fee6fa6b650>"
      ]
     },
     "metadata": {},
     "output_type": "display_data"
    }
   ],
   "source": [
    "heatmap_matrix = conjugacy_matrix_norm\n",
    "plt.figure(figsize=(10, 10))\n",
    "ax = heatmap([heatmap_matrix[0]], square=True, cmap=\"Blues\")\n",
    "ax.set_xticklabels(unique2, rotation=45, ha='right', minor=False)\n",
    "plt.title(\"The darker is the better\")\n",
    "plt.show()\n",
    "\n",
    "heatmap_matrix = conjugacy_matrix_norm\n",
    "plt.figure(figsize=(10, 10))\n",
    "ax = heatmap([heatmap_matrix[1]], square=True, cmap=\"Blues\")\n",
    "ax.set_xticklabels(unique2, rotation=45, ha='right', minor=False)\n",
    "plt.title(\"The lighter is the better\")\n",
    "plt.show()"
   ]
  },
  {
   "cell_type": "markdown",
   "metadata": {},
   "source": [
    "Глядя на представленную карту, можно сказать, что больше всего проблем с возратом кредитов у людей, имеющих scholl graduate и bachelor. Менее всего проблем у докторов наук."
   ]
  },
  {
   "cell_type": "markdown",
   "metadata": {},
   "source": [
    "### <font color=\"green\">Выводы 03: __Образование (EDUCATION)__ </font>\n",
    "- Не видная на первый вгляд корреляция между образованием и значением default все же есть. \n",
    "- Коээфициент корреляции V Краммера отличен от 0 и составляет 0.074 - слабая корреляция\n",
    "- Люди, имеющие school graduate и bachelor, хуже всего возращают долг\n",
    "- Лица со степенью доктора наук лучше остальных отдают долг"
   ]
  },
  {
   "cell_type": "code",
   "execution_count": 35,
   "metadata": {
    "collapsed": true
   },
   "outputs": [],
   "source": [
    "del education_def_on\n",
    "del education_def_off\n",
    "\n",
    "del unique1, counts1\n",
    "del unique2, counts2\n",
    "del y_pos1, y_pos2\n",
    "\n",
    "del edu_dic\n",
    "\n",
    "del confusion_matrix\n",
    "del ex_freq\n",
    "del conjugacy_matrix\n",
    "del conjugacy_matrix_norm\n",
    "\n",
    "del confusion_df, ex_freq_df, conjugacy_df, heatmap_matrix, ax"
   ]
  },
  {
   "cell_type": "markdown",
   "metadata": {},
   "source": [
    "### Часть 04.  __Семейное положение (MARRIAGE)__\n",
    "\n",
    "Проверьте, как связан семейный статус с индикатором дефолта: нужно предложить меру, по которой можно измерить возможную связь этих переменных и посчитать ее значение."
   ]
  },
  {
   "cell_type": "code",
   "execution_count": 36,
   "metadata": {
    "collapsed": true
   },
   "outputs": [],
   "source": [
    "mariage_def_on  = df[df.default == 1].MARRIAGE\n",
    "mariage_def_off = df[df.default == 0].MARRIAGE"
   ]
  },
  {
   "cell_type": "code",
   "execution_count": 37,
   "metadata": {},
   "outputs": [
    {
     "data": {
      "image/png": "[encoded data removed]",
      "text/plain": [
       "<matplotlib.figure.Figure at 0x7fee6f716c10>"
      ]
     },
     "metadata": {},
     "output_type": "display_data"
    }
   ],
   "source": [
    "unique1, counts1 = np.unique(mariage_def_on,  return_counts=True)\n",
    "unique2, counts2 = np.unique(mariage_def_off, return_counts=True)\n",
    "\n",
    "mariage_dic = {0: \"No answer\", 1 :\"Married\", 2: \"Single\", 3: \"N/A\"}\n",
    "\n",
    "unique1 = [mariage_dic[idx] for idx in unique1]\n",
    "unique2 = [mariage_dic[idx] for idx in unique2]\n",
    "\n",
    "y_pos1 = np.arange(len(unique1))\n",
    "y_pos2 = np.arange(len(unique2))\n",
    "\n",
    "plt.figure(figsize=(16, 7))\n",
    "plt.subplot(121)\n",
    "\n",
    "plt.bar(y_pos1, counts1, color = 'r', align='center', alpha=0.5)\n",
    "plt.xlabel('Education', fontsize=14)\n",
    "plt.title(\"Default == 1\")\n",
    "plt.xticks(y_pos1, unique1)\n",
    "\n",
    "plt.subplot(122)\n",
    "plt.bar(y_pos2, counts2, color = 'g')\n",
    "plt.xlabel('Education', fontsize=14)\n",
    "plt.title(\"Default == 0\")\n",
    "plt.xticks(y_pos2, unique2)\n",
    "plt.show()"
   ]
  },
  {
   "cell_type": "markdown",
   "metadata": {},
   "source": [
    "#### Считаем корреляцию Краммера, так как семейный статус и default можно считать категориальными признаками\n",
    "##### Проверяем следующие гипотезы:\n",
    "\n",
    "$H_0:$ MARRIAGE и default - независимы, то есть $\\phi_c(X_1^n, X_2^N) = 0$\n",
    "\n",
    "$H_1:$ MARRIAGE влияет на default, то есть $\\phi_c(X_1^n, X_2^N) \\neq 0$"
   ]
  },
  {
   "cell_type": "code",
   "execution_count": 38,
   "metadata": {},
   "outputs": [
    {
     "name": "stdout",
     "output_type": "stream",
     "text": [
      "Cramers Vcorr=0.034478, p=0.00000009\n",
      "Cramers Vorig=0.034478, p=0.00000009\n"
     ]
    }
   ],
   "source": [
    "confusion_matrix = pd.crosstab(df['default'], df['MARRIAGE']).as_matrix()\n",
    "\n",
    "print \"Cramers Vcorr=%f, p=%2.8f\" % cramers_corrected_stat(confusion_matrix)\n",
    "print \"Cramers Vorig=%f, p=%2.8f\" % cramers_stat(confusion_matrix)"
   ]
  },
  {
   "cell_type": "code",
   "execution_count": 39,
   "metadata": {
    "collapsed": true
   },
   "outputs": [],
   "source": [
    "#Получаем матрицу сопряженности с разностью между наблюдаемым и ожидаемым количеством человек\n",
    "ex_freq = expected_freq(confusion_matrix)\n",
    "conjugacy_matrix = confusion_matrix - ex_freq\n",
    "\n",
    "#Нормируем матрицу и рисуем \"тепловую карту\"\n",
    "conjugacy_matrix_norm = conjugacy_matrix / confusion_matrix.sum(axis=0)"
   ]
  },
  {
   "cell_type": "code",
   "execution_count": 40,
   "metadata": {},
   "outputs": [
    {
     "data": {
      "text/html": [
       "<div>\n",
       "<style>\n",
       "    .dataframe thead tr:only-child th {\n",
       "        text-align: right;\n",
       "    }\n",
       "\n",
       "    .dataframe thead th {\n",
       "        text-align: left;\n",
       "    }\n",
       "\n",
       "    .dataframe tbody tr th {\n",
       "        vertical-align: top;\n",
       "    }\n",
       "</style>\n",
       "<table border=\"1\" class=\"dataframe\">\n",
       "  <thead>\n",
       "    <tr style=\"text-align: right;\">\n",
       "      <th></th>\n",
       "      <th>No answer</th>\n",
       "      <th>Married</th>\n",
       "      <th>Single</th>\n",
       "      <th>N/A</th>\n",
       "    </tr>\n",
       "  </thead>\n",
       "  <tbody>\n",
       "    <tr>\n",
       "      <th>def=0</th>\n",
       "      <td>49</td>\n",
       "      <td>10453</td>\n",
       "      <td>12623</td>\n",
       "      <td>239</td>\n",
       "    </tr>\n",
       "    <tr>\n",
       "      <th>def=1</th>\n",
       "      <td>5</td>\n",
       "      <td>3206</td>\n",
       "      <td>3341</td>\n",
       "      <td>84</td>\n",
       "    </tr>\n",
       "  </tbody>\n",
       "</table>\n",
       "</div>"
      ],
      "text/plain": [
       "       No answer  Married  Single  N/A\n",
       "def=0         49    10453   12623  239\n",
       "def=1          5     3206    3341   84"
      ]
     },
     "execution_count": 40,
     "metadata": {},
     "output_type": "execute_result"
    }
   ],
   "source": [
    "confusion_df = pd.DataFrame(data=confusion_matrix, columns=unique2, index=[\"def=0\", \"def=1\"])\n",
    "confusion_df"
   ]
  },
  {
   "cell_type": "code",
   "execution_count": 41,
   "metadata": {},
   "outputs": [
    {
     "data": {
      "text/html": [
       "<div>\n",
       "<style>\n",
       "    .dataframe thead tr:only-child th {\n",
       "        text-align: right;\n",
       "    }\n",
       "\n",
       "    .dataframe thead th {\n",
       "        text-align: left;\n",
       "    }\n",
       "\n",
       "    .dataframe tbody tr th {\n",
       "        vertical-align: top;\n",
       "    }\n",
       "</style>\n",
       "<table border=\"1\" class=\"dataframe\">\n",
       "  <thead>\n",
       "    <tr style=\"text-align: right;\">\n",
       "      <th></th>\n",
       "      <th>No answer</th>\n",
       "      <th>Married</th>\n",
       "      <th>Single</th>\n",
       "      <th>N/A</th>\n",
       "    </tr>\n",
       "  </thead>\n",
       "  <tbody>\n",
       "    <tr>\n",
       "      <th>def=0</th>\n",
       "      <td>42.0552</td>\n",
       "      <td>10637.6292</td>\n",
       "      <td>12432.7632</td>\n",
       "      <td>251.5524</td>\n",
       "    </tr>\n",
       "    <tr>\n",
       "      <th>def=1</th>\n",
       "      <td>11.9448</td>\n",
       "      <td>3021.3708</td>\n",
       "      <td>3531.2368</td>\n",
       "      <td>71.4476</td>\n",
       "    </tr>\n",
       "  </tbody>\n",
       "</table>\n",
       "</div>"
      ],
      "text/plain": [
       "       No answer     Married      Single       N/A\n",
       "def=0    42.0552  10637.6292  12432.7632  251.5524\n",
       "def=1    11.9448   3021.3708   3531.2368   71.4476"
      ]
     },
     "execution_count": 41,
     "metadata": {},
     "output_type": "execute_result"
    }
   ],
   "source": [
    "ex_freq_df = pd.DataFrame(data=ex_freq, columns=unique2, index=[\"def=0\", \"def=1\"])\n",
    "ex_freq_df"
   ]
  },
  {
   "cell_type": "code",
   "execution_count": 42,
   "metadata": {},
   "outputs": [
    {
     "data": {
      "text/html": [
       "<div>\n",
       "<style>\n",
       "    .dataframe thead tr:only-child th {\n",
       "        text-align: right;\n",
       "    }\n",
       "\n",
       "    .dataframe thead th {\n",
       "        text-align: left;\n",
       "    }\n",
       "\n",
       "    .dataframe tbody tr th {\n",
       "        vertical-align: top;\n",
       "    }\n",
       "</style>\n",
       "<table border=\"1\" class=\"dataframe\">\n",
       "  <thead>\n",
       "    <tr style=\"text-align: right;\">\n",
       "      <th></th>\n",
       "      <th>No answer</th>\n",
       "      <th>Married</th>\n",
       "      <th>Single</th>\n",
       "      <th>N/A</th>\n",
       "    </tr>\n",
       "  </thead>\n",
       "  <tbody>\n",
       "    <tr>\n",
       "      <th>def=0</th>\n",
       "      <td>0.128607</td>\n",
       "      <td>-0.013517</td>\n",
       "      <td>0.011917</td>\n",
       "      <td>-0.038862</td>\n",
       "    </tr>\n",
       "    <tr>\n",
       "      <th>def=1</th>\n",
       "      <td>-0.128607</td>\n",
       "      <td>0.013517</td>\n",
       "      <td>-0.011917</td>\n",
       "      <td>0.038862</td>\n",
       "    </tr>\n",
       "  </tbody>\n",
       "</table>\n",
       "</div>"
      ],
      "text/plain": [
       "       No answer   Married    Single       N/A\n",
       "def=0   0.128607 -0.013517  0.011917 -0.038862\n",
       "def=1  -0.128607  0.013517 -0.011917  0.038862"
      ]
     },
     "execution_count": 42,
     "metadata": {},
     "output_type": "execute_result"
    }
   ],
   "source": [
    "conjugacy_df = pd.DataFrame(data=conjugacy_matrix_norm, columns=unique2, index=[\"def=0\", \"def=1\"])\n",
    "conjugacy_df"
   ]
  },
  {
   "cell_type": "code",
   "execution_count": 43,
   "metadata": {},
   "outputs": [
    {
     "data": {
      "image/png": "[encoded data removed]",
      "text/plain": [
       "<matplotlib.figure.Figure at 0x7fee6fa76b50>"
      ]
     },
     "metadata": {},
     "output_type": "display_data"
    }
   ],
   "source": [
    "heatmap_matrix = np.abs(conjugacy_matrix_norm)\n",
    "plt.figure(figsize=(10, 10))\n",
    "ax = heatmap(heatmap_matrix, square=True)\n",
    "ax.set_xticklabels(unique1, rotation=45, ha='right', minor=False)\n",
    "plt.show()"
   ]
  },
  {
   "cell_type": "markdown",
   "metadata": {
    "collapsed": true
   },
   "source": [
    "На этой тепловой карте видно, что те, кто скрывает свой статус, скорее всего не вернут кредит, чем тем, кто его не скрывают."
   ]
  },
  {
   "cell_type": "markdown",
   "metadata": {},
   "source": [
    "### <font color=\"green\">Выводы 04: __Семейное положение (MARRIAGE)__ </font>\n",
    "- Зависимость между семейным положением и статусом возврата кредита есть\n",
    "- Коэффициент корреляции V Краммера составляет 0.034 - слабая корреляция\n",
    "- Основной вывод: если человек скрывает свое семейное положение, то он скорее всего не вернет кредит."
   ]
  },
  {
   "cell_type": "code",
   "execution_count": 44,
   "metadata": {
    "collapsed": true
   },
   "outputs": [],
   "source": [
    "del mariage_def_on\n",
    "del mariage_def_off\n",
    "\n",
    "del unique1, counts1\n",
    "del unique2, counts2\n",
    "del y_pos1, y_pos2\n",
    "\n",
    "del mariage_dic\n",
    "\n",
    "del confusion_matrix\n",
    "del ex_freq\n",
    "del conjugacy_matrix\n",
    "del conjugacy_matrix_norm\n",
    "\n",
    "del confusion_df, ex_freq_df, conjugacy_df, heatmap_matrix, ax"
   ]
  },
  {
   "cell_type": "markdown",
   "metadata": {},
   "source": [
    "### Часть 05.  __Возраст (AGE)__\n",
    "\n",
    "Относительно двух групп людей вернувших и не вернувших кредит проверьте следующие гипотезы: \n",
    "\n",
    "1. О равенстве медианных значений возрастов людей \n",
    "2. О равенстве распределений с помощью одного из подходящих непараметрических критериев проверки равенства средних. \n",
    "\n",
    "Значимы ли полученные результаты с практической точки зрения ?"
   ]
  },
  {
   "cell_type": "code",
   "execution_count": 45,
   "metadata": {
    "collapsed": true
   },
   "outputs": [],
   "source": [
    "age_def_on  = df[df.default == 1].AGE.values\n",
    "age_def_off = df[df.default == 0].AGE.values"
   ]
  },
  {
   "cell_type": "code",
   "execution_count": 46,
   "metadata": {
    "scrolled": false
   },
   "outputs": [
    {
     "data": {
      "image/png": "[encoded data removed]",
      "text/plain": [
       "<matplotlib.figure.Figure at 0x7fee6fecb050>"
      ]
     },
     "metadata": {},
     "output_type": "display_data"
    },
    {
     "data": {
      "image/png": "[encoded data removed]",
      "text/plain": [
       "<matplotlib.figure.Figure at 0x7fee6fcff810>"
      ]
     },
     "metadata": {},
     "output_type": "display_data"
    }
   ],
   "source": [
    "unique1, counts1 = np.unique(age_def_on,  return_counts=True)\n",
    "unique2, counts2 = np.unique(age_def_off, return_counts=True)\n",
    "\n",
    "y_pos1 = np.arange(len(unique1))\n",
    "y_pos2 = np.arange(len(unique2))\n",
    "\n",
    "plt.figure(figsize=(16, 7))\n",
    "plt.bar(y_pos1, counts1, color = 'r', align='center', alpha=0.5)\n",
    "plt.xlabel('Age', fontsize=14)\n",
    "plt.title(\"Default == 1\")\n",
    "plt.xticks(y_pos1, unique1)\n",
    "plt.show()\n",
    "\n",
    "plt.figure(figsize=(16, 7))\n",
    "plt.bar(y_pos2, counts2, color = 'g')\n",
    "plt.xlabel('Age', fontsize=14)\n",
    "plt.title(\"Default == 0\")\n",
    "plt.xticks(y_pos2, unique2)\n",
    "plt.show()"
   ]
  },
  {
   "cell_type": "markdown",
   "metadata": {},
   "source": [
    "Гистограммы довольно похожы друг на друга по форме. Возможно, мы имеем дело с одним законом распределения, но с разными параметрами"
   ]
  },
  {
   "cell_type": "markdown",
   "metadata": {},
   "source": [
    "#### a) Интервальная оценка медиан:\n",
    "\n",
    "Выборки являются независимыми. Для оценки медиан будем использовать метод Bootstrap."
   ]
  },
  {
   "cell_type": "code",
   "execution_count": 47,
   "metadata": {},
   "outputs": [
    {
     "name": "stdout",
     "output_type": "stream",
     "text": [
      "CPU times: user 12.8 s, sys: 779 ms, total: 13.6 s\n",
      "Wall time: 13.6 s\n"
     ]
    }
   ],
   "source": [
    "%%time\n",
    "#Интервальная оценка медиан\n",
    "np.random.seed(0)\n",
    "\n",
    "medians_def_on  = map(np.median, get_bootstrap_samples(age_def_on,  boostrap_size))\n",
    "medians_def_off = map(np.median, get_bootstrap_samples(age_def_off, boostrap_size))"
   ]
  },
  {
   "cell_type": "markdown",
   "metadata": {
    "collapsed": true
   },
   "source": [
    "##### Точечные оценки медиан и их интервальные оценки в каждой выборке"
   ]
  },
  {
   "cell_type": "code",
   "execution_count": 48,
   "metadata": {},
   "outputs": [
    {
     "name": "stdout",
     "output_type": "stream",
     "text": [
      "95% confidence interval and median:\n",
      "Default == 1:      34.10 -> [34.09, 34.10]\n",
      "Default == 0:      34.00 -> [34.00, 34.00]\n"
     ]
    }
   ],
   "source": [
    "conf_on  = zconfint(medians_def_on)\n",
    "conf_off = zconfint(medians_def_off)\n",
    "\n",
    "print \"95% confidence interval and median:\"\n",
    "print \"Default == 1: {:10.2f} -> [{:4.2f}, {:4.2f}]\".format(np.mean(medians_def_on), conf_on[0], conf_on[1])\n",
    "print \"Default == 0: {:10.2f} -> [{:4.2f}, {:4.2f}]\".format(np.mean(medians_def_off), conf_off[0], conf_off[1])"
   ]
  },
  {
   "cell_type": "markdown",
   "metadata": {},
   "source": [
    "Видно, что интервалы пересекаются, следовательно, необходима дополнительная проверка, чтобы точно быть уверенными."
   ]
  },
  {
   "cell_type": "markdown",
   "metadata": {
    "collapsed": true
   },
   "source": [
    "##### Доверительный интервал для разности медиан (независимые выборки)"
   ]
  },
  {
   "cell_type": "code",
   "execution_count": 49,
   "metadata": {},
   "outputs": [
    {
     "name": "stdout",
     "output_type": "stream",
     "text": [
      "Difference between medians: 0.0000\n",
      "95% confidence interval for the difference between medians: [-1.  0.]\n"
     ]
    }
   ],
   "source": [
    "print \"Difference between medians: {:2.4f}\".format(np.median(age_def_off) - np.median(age_def_on))\n",
    "delta_medians = map(lambda x: x[0] - x[1], zip(medians_def_off, medians_def_on))\n",
    "print \"95% confidence interval for the difference between medians:\" , stat_intervals(delta_medians, 0.05)\n",
    "del delta_medians"
   ]
  },
  {
   "cell_type": "markdown",
   "metadata": {},
   "source": [
    "Доверительный интервал лежит целиком левее нуля, хотя правая граница очень близка к нулю."
   ]
  },
  {
   "cell_type": "markdown",
   "metadata": {},
   "source": [
    "#### б) Проверка статистическим критерием равенство средних:"
   ]
  },
  {
   "cell_type": "code",
   "execution_count": 50,
   "metadata": {},
   "outputs": [
    {
     "name": "stdout",
     "output_type": "stream",
     "text": [
      "95% confidence interval and mean:\n",
      "Default == 1:      35.73 -> [     35.49,      35.96]\n",
      "Default == 0:      35.42 -> [     35.30,      35.53]\n"
     ]
    }
   ],
   "source": [
    "#Для начала получим точечную оценку среднего, а также интервальную оценку для каждой выборки\n",
    "conf_on = zconfint(age_def_on)\n",
    "conf_off = zconfint(age_def_off)\n",
    "\n",
    "print \"95% confidence interval and mean:\"\n",
    "print \"Default == 1: {:10.2f} -> [{:10.2f}, {:10.2f}]\".format(age_def_on.mean(), conf_on[0], conf_on[1])\n",
    "print \"Default == 0: {:10.2f} -> [{:10.2f}, {:10.2f}]\".format(age_def_off.mean(), conf_off[0], conf_off[1])\n",
    "\n",
    "del conf_on\n",
    "del conf_off"
   ]
  },
  {
   "cell_type": "markdown",
   "metadata": {},
   "source": [
    "Интервальная оценка средних дает два пересекающихся интервала. Проверим равенство средних стат. критерием."
   ]
  },
  {
   "cell_type": "markdown",
   "metadata": {
    "collapsed": true
   },
   "source": [
    "##### Проверим гипотезу о равенстве распределений с помощью перестановочного критерия:\n",
    "\n",
    "$H_0\\colon F_{X_1}(x) = F_{X_2}(x)$\n",
    "\n",
    "$H_1\\colon F_{X_1}(x) = F_{X_2}(x + \\Delta), \\Delta\\neq 0$"
   ]
  },
  {
   "cell_type": "code",
   "execution_count": 51,
   "metadata": {},
   "outputs": [
    {
     "data": {
      "image/png": "[encoded data removed]",
      "text/plain": [
       "<matplotlib.figure.Figure at 0x7fee6fc00910>"
      ]
     },
     "metadata": {},
     "output_type": "display_data"
    },
    {
     "name": "stdout",
     "output_type": "stream",
     "text": [
      "CPU times: user 1min 18s, sys: 4.09 s, total: 1min 22s\n",
      "Wall time: 1min 41s\n"
     ]
    }
   ],
   "source": [
    "%%time\n",
    "perm, t_stat = permutation_zero_dist_ind(age_def_off, age_def_on, max_combinations = permutations)\n",
    "\n",
    "plt.hist(perm, bins=18, color='gray')\n",
    "plt.show()"
   ]
  },
  {
   "cell_type": "code",
   "execution_count": 52,
   "metadata": {},
   "outputs": [
    {
     "name": "stdout",
     "output_type": "stream",
     "text": [
      "p-value: 0.017591\n",
      "CPU times: user 2.69 ms, sys: 9.77 ms, total: 12.5 ms\n",
      "Wall time: 13.9 ms\n"
     ]
    }
   ],
   "source": [
    "%%time\n",
    "print \"p-value: %f\" % permutation_test(perm, t_stat)"
   ]
  },
  {
   "cell_type": "markdown",
   "metadata": {},
   "source": [
    "Достигаемый уровень значимости значительно ниже $\\alpha = 0.05$. Гипотеза $H_0$ отвергается.\n",
    "Однако, посмотрим на результат вычислений:"
   ]
  },
  {
   "cell_type": "code",
   "execution_count": 53,
   "metadata": {},
   "outputs": [
    {
     "name": "stdout",
     "output_type": "stream",
     "text": [
      "Def=1 mean: 35.7257\n",
      "Def=0 mean: 35.4173\n"
     ]
    }
   ],
   "source": [
    "print \"Def=1 mean: {:2.4f}\".format(np.mean(age_def_on))\n",
    "print \"Def=0 mean: {:2.4f}\".format(np.mean(age_def_off))"
   ]
  },
  {
   "cell_type": "markdown",
   "metadata": {},
   "source": [
    "Получается, что статистически средний возраст в двух выборках различен, и такой результат статистически значим, но на практике мы видим, что это различие не существенно."
   ]
  },
  {
   "cell_type": "markdown",
   "metadata": {},
   "source": [
    "### <font color=\"green\">Выводы 05: __Возраст (AGE)__ </font>\n",
    "\n",
    "__Проверка гипотезы о равенстве распределений:__\n",
    "\n",
    "__1. Интервальная оценка равенства медианных значений возрастов клиентов.__\n",
    "- Медианные значения не различаются.\n",
    "- Точечная оценка разности медиан составляет 0 при дов. интервале (-1, 0)\n",
    "\n",
    "__2. Применение непараметрического критерия проверки равенства средних значений возрастов клиентов.__\n",
    "Проверяем гипотезу\n",
    "\n",
    "$H_0\\colon F_{X_1}(x) = F_{X_2}(x)$\n",
    "\n",
    "$H_1\\colon F_{X_1}(x) = F_{X_2}(x + \\Delta), \\Delta\\neq 0$\n",
    "\n",
    "- Вычисленный достигаемый уровень значимости $p_value = 0.016$ и $p \\ll 0.05$. Следовательно, мы не можем принять гипотезу о равенстве средних.\n",
    "- Чисто визуально, средние значения отличаются не сильно, потому, возможно, уровень $\\alpha = 0.05$ сильно завышен\n",
    "- С практической точки зрения такая разница в возрастах не имеет значения.\n",
    "\n",
    "__3. Общий вывод.__\n",
    "- Проверка на равенство распределений по основным моментам показала, что есть различия.\n",
    "- С практической точки зрения различия не представляются существенными."
   ]
  },
  {
   "cell_type": "code",
   "execution_count": 54,
   "metadata": {
    "collapsed": true
   },
   "outputs": [],
   "source": [
    "del age_def_on\n",
    "del age_def_off\n",
    "\n",
    "del unique1, counts1\n",
    "del unique2, counts2\n",
    "del y_pos1, y_pos2\n",
    "\n",
    "del medians_def_on\n",
    "del medians_def_off\n",
    "\n",
    "del perm"
   ]
  }
 ],
 "metadata": {
  "kernelspec": {
   "display_name": "Python 2",
   "language": "python2",
   "name": "python2"
  },
  "language_info": {
   "codemirror_mode": {
    "name": "ipython",
    "version": 2
   },
   "file_extension": ".py",
   "mimetype": "text/x-python",
   "name": "python",
   "nbconvert_exporter": "python",
   "pygments_lexer": "ipython2",
   "version": "2.7.14"
  }
 },
 "nbformat": 4,
 "nbformat_minor": 2
}
