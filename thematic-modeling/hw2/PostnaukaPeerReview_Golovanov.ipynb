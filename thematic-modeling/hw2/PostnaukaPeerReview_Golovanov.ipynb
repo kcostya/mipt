{
 "cells": [
  {
   "cell_type": "markdown",
   "metadata": {},
   "source": [
    "# Тематическая модель [Постнауки](http://postnauka.ru)\n",
    "## Peer Review (optional)"
   ]
  },
  {
   "cell_type": "markdown",
   "metadata": {},
   "source": [
    "В этом задании мы применим аппарат тематического моделирования к коллекции текстовых записей видеолекций, скачанных с сайта Постнаука. Мы будем визуализировать модель и создавать прототип тематического навигатора по коллекции. В коллекции 1728 документов, размер словаря - 38467 слов. Слова лемматизированы, то есть приведены к начальной форме, с помощью программы [mystem](https://tech.yandex.ru/mystem/), коллекция сохранена в [формате vowpal wabbit](http://docs.bigartm.org/en/latest/formats.html). В каждой строке до первой черты записана информация о документе (ссылка на страницу с лекцией), после первой черты следует описание документа. Используются две модальности - текстовая (\"text\") и модальность авторов (\"author\"); у каждого документа один автор."
   ]
  },
  {
   "cell_type": "markdown",
   "metadata": {},
   "source": [
    "Для выполнения задания понадобится библиотека [BigARTM](http://docs.bigartm.org). В демонстрации показан пример использования библиотеки версии 0.7.4, на сайте предлагается скачивать версию 0.8.0. В новой версии изменены принципы работы со словарями: они вынесены в отдельный класс (пример в [Release Notes](http://docs.bigartm.org/en/stable/release_notes/python.html)). Строить модель и извлекать ее параметры нужно так же, как показано в демонстрации. Вы можете использовать [предыдущий релиз](http://bigartm.readthedocs.io/en/v0.7.6/download.html) или [новый релиз](http://docs.bigartm.org/en/latest/download.html) на ваше усмотрение.\n",
    "\n",
    "Спецификации всех функций вы можете смотреть на странице [Python API](http://bigartm.readthedocs.io/en/stable/python_interface.html)."
   ]
  },
  {
   "cell_type": "code",
   "execution_count": 1,
   "metadata": {},
   "outputs": [
    {
     "name": "stderr",
     "output_type": "stream",
     "text": [
      "C:\\Users\\16735880\\bigartm\\Python\\artm\\master_component.py:643: DeprecationWarning: invalid escape sequence \\*\n",
      "  \"\"\"\n",
      "C:\\Users\\16735880\\bigartm\\Python\\artm\\master_component.py:753: DeprecationWarning: invalid escape sequence \\d\n",
      "  \"\"\"\n",
      "C:\\Users\\16735880\\bigartm\\Python\\artm\\master_component.py:826: DeprecationWarning: 'async' and 'await' will become reserved keywords in Python 3.7\n",
      "  apply_weight=None, decay_weight=None, async=None):\n"
     ]
    }
   ],
   "source": [
    "#Используется последняя версия 0.9.0 (0.8.0 не получается скачать)\n",
    "import artm"
   ]
  },
  {
   "cell_type": "code",
   "execution_count": 3,
   "metadata": {},
   "outputs": [
    {
     "name": "stderr",
     "output_type": "stream",
     "text": [
      "C:\\Anaconda3\\lib\\site-packages\\scipy\\_lib\\_numpy_compat.py:10: DeprecationWarning: Importing from numpy.testing.nosetester is deprecated, import from numpy.testing instead.\n",
      "  from numpy.testing.nosetester import import_nose\n",
      "C:\\Anaconda3\\lib\\site-packages\\scipy\\stats\\morestats.py:12: DeprecationWarning: Importing from numpy.testing.decorators is deprecated, import from numpy.testing instead.\n",
      "  from numpy.testing.decorators import setastest\n"
     ]
    }
   ],
   "source": [
    "from matplotlib import pyplot as plt\n",
    "import seaborn\n",
    "%matplotlib inline\n",
    "seaborn.set_style(\"whitegrid\", {'axes.grid' : False})"
   ]
  },
  {
   "cell_type": "code",
   "execution_count": 4,
   "metadata": {
    "collapsed": true
   },
   "outputs": [],
   "source": [
    "import numpy as np\n",
    "import pandas as pd"
   ]
  },
  {
   "cell_type": "markdown",
   "metadata": {},
   "source": [
    "##### Считывание данных"
   ]
  },
  {
   "cell_type": "markdown",
   "metadata": {},
   "source": [
    "Создайте объект класса artm.BatchVectorizer, который будет ссылаться на директорию с пакетами данных (батчами). Чтобы библиотека могла преобразовать текстовый файл в батчи, создайте пустую директорию и укажите ее название в параметре target_folder. Размер батча для небольших коллекций (как наша) не важен, вы можете указать любой."
   ]
  },
  {
   "cell_type": "code",
   "execution_count": 5,
   "metadata": {
    "collapsed": true
   },
   "outputs": [],
   "source": [
    "# Ваш код\n",
    "batch_vectorizer = artm.BatchVectorizer(data_path=\"lectures.txt\", data_format=\"vowpal_wabbit\", target_folder=\"lectures_batches\", \n",
    "                                       batch_size=100)"
   ]
  },
  {
   "cell_type": "markdown",
   "metadata": {},
   "source": [
    "##### Инициализация модели"
   ]
  },
  {
   "cell_type": "markdown",
   "metadata": {},
   "source": [
    "Создайте объект класса artm.Model с 30 темами, именами тем, указанными ниже и единичными весами обеих модальностей. Количество тем выбрано не очень большим, чтобы вам было удобнее работать с темами. На этой коллекции можно строить и большее число тем, тогда они будут более узко специализированы."
   ]
  },
  {
   "cell_type": "code",
   "execution_count": 45,
   "metadata": {
    "collapsed": true
   },
   "outputs": [],
   "source": [
    "T = 30   # количество тем\n",
    "topic_names=[\"sbj\"+str(i) for i in range(T-1)]+[\"bcg\"]\n",
    "# Ваш код\n",
    "classes = {}\n",
    "classes['text'] = 1\n",
    "classes['author'] = 1\n",
    "model_artm = artm.ARTM(num_topics=T, topic_names=topic_names, class_ids=classes)\n",
    "#строка ниже нужна для версии 0.9.0\n",
    "model_artm.cache_theta = True"
   ]
  },
  {
   "cell_type": "markdown",
   "metadata": {},
   "source": [
    "Мы будем строить 29 предметных тем и одну фоновую. \n",
    "\n",
    "Соберите словарь с помощью метода gather_dictionary и инициализируйте модель, указав random_seed=1. Обязательно укажите свое название словаря, оно понадобится при добавлении регуляризаторов."
   ]
  },
  {
   "cell_type": "code",
   "execution_count": 46,
   "metadata": {
    "collapsed": true
   },
   "outputs": [],
   "source": [
    "# Ваш код\n",
    "dictionary = artm.Dictionary('dictionary')\n",
    "dictionary.gather(batch_vectorizer.data_path)"
   ]
  },
  {
   "cell_type": "markdown",
   "metadata": {},
   "source": [
    "##### Добавление score"
   ]
  },
  {
   "cell_type": "markdown",
   "metadata": {},
   "source": [
    "Создайте два измерителя качества artm.TopTokensScore - по одному для каждой модальности; количество токенов 15. Названия для score придумайте самостоятельно."
   ]
  },
  {
   "cell_type": "code",
   "execution_count": 47,
   "metadata": {
    "collapsed": true
   },
   "outputs": [],
   "source": [
    "# Ваш код\n",
    "model_artm.scores.add(artm.TopTokensScore(name=\"top_words_text\", num_tokens=15, class_id=\"text\"))\n",
    "model_artm.scores.add(artm.TopTokensScore(name=\"top_words_author\", num_tokens=15, class_id=\"author\"))"
   ]
  },
  {
   "cell_type": "markdown",
   "metadata": {},
   "source": [
    "##### Построение модели"
   ]
  },
  {
   "cell_type": "markdown",
   "metadata": {},
   "source": [
    "Мы будем строить модель в два этапа: сначала добавим сглаживающий регуляризатор фоновой темы и настроим параметры модели, затем - добавим разреживающий регуляризатор предметрых тем и выполним еще несколько итераций. Так мы сможем получить наиболее чистые от фоновых слов предметные темы. Сглаживающий и разреживающий регуляризаторы задаются одним и тем же классом artm.SmoothSparsePhiRegularizer: если коэффициент tau положительный, то регуляризатор будет сглаживающий, если отрицательный - разреживающий.\n",
    "\n",
    "Если вы хотите подробнее разобраться, как выполняется регуляризация тематической модели в BigARTM, вы можете прочитать [статью](https://s3-eu-west-1.amazonaws.com/artm/voron-potap14artm-rus.pdf), раздел 4."
   ]
  },
  {
   "cell_type": "markdown",
   "metadata": {},
   "source": [
    "Добавьте сглаживающий регуляризатор с коэффициентом tau = 1e5, указав название своего словаря в dictionary, модальность текста в class_ids и тему \"bcg\" в topic_names."
   ]
  },
  {
   "cell_type": "code",
   "execution_count": 48,
   "metadata": {
    "collapsed": true
   },
   "outputs": [],
   "source": [
    "# Ваш код\n",
    "model_artm.regularizers.add(artm.SmoothSparsePhiRegularizer(name='SparsePhi_1', tau=1e5, dictionary=\"dictionary\", class_ids=[\"text\"], topic_names=\"bcg\"))"
   ]
  },
  {
   "cell_type": "markdown",
   "metadata": {},
   "source": [
    "Выполните 30 итераций по коллекции (num_collection_passes), количество внутренних итераций установите равным 1. Используйте метод fit_offline модели."
   ]
  },
  {
   "cell_type": "code",
   "execution_count": 49,
   "metadata": {
    "collapsed": true
   },
   "outputs": [],
   "source": [
    "# Ваш код\n",
    "#для версии ниже в fit_offline необходимо добавить параметр num_document_passes=1\n",
    "model_artm.initialize(dictionary=\"dictionary\")\n",
    "model_artm.fit_offline(batch_vectorizer=batch_vectorizer, num_collection_passes=30)"
   ]
  },
  {
   "cell_type": "markdown",
   "metadata": {},
   "source": [
    "Добавьте разреживающий регуляризатор с коэффициентом tau=-1e5, указав название своего словаря, модальность текста в class_ids и все темы \"sbjX\" в topic_names."
   ]
  },
  {
   "cell_type": "code",
   "execution_count": 50,
   "metadata": {
    "collapsed": true
   },
   "outputs": [],
   "source": [
    "# Ваш код\n",
    "model_artm.regularizers.add(artm.SmoothSparsePhiRegularizer(name='SparsePhi_2', tau=-1e5, dictionary=\"dictionary\", class_ids=[\"text\"], topic_names=model_artm.topic_names[:-1]))"
   ]
  },
  {
   "cell_type": "markdown",
   "metadata": {},
   "source": [
    "Выполните еще 15 проходов по коллекции."
   ]
  },
  {
   "cell_type": "code",
   "execution_count": 51,
   "metadata": {
    "collapsed": true
   },
   "outputs": [],
   "source": [
    "# Ваш код\n",
    "#для версии ниже в fit_offline необходимо добавить параметр num_document_passes=1\n",
    "model_artm.fit_offline(batch_vectorizer=batch_vectorizer, num_collection_passes=15)"
   ]
  },
  {
   "cell_type": "markdown",
   "metadata": {},
   "source": [
    "##### Интерпретация тем"
   ]
  },
  {
   "cell_type": "markdown",
   "metadata": {},
   "source": [
    "Используя созданные score, выведите топы слов и топы авторов в темах. Удобнее всего выводить топ слов каждой темы с новой строки, указывая название темы в начале строки, и аналогично с авторами."
   ]
  },
  {
   "cell_type": "code",
   "execution_count": 313,
   "metadata": {},
   "outputs": [
    {
     "name": "stdout",
     "output_type": "stream",
     "text": [
      "\n",
      "sbj0:\n",
      "\n",
      "церковь русь средневековый император святой власть сага князь папа византийский поэзия церковный рим вера король\n",
      "\n",
      "Александр_Марей Фёдор_Успенский Алексей_Юдин Татьяна_Бобровникова Игорь_Данилевский Елена_Уханова Ольга_Брилева Владимир_Петрухин Елена_Браун Олег_Воскобойников Екатерина_Болтунова Ольга_Тогоева Ольга_Вайнштейн Павел_Уваров Григорий_Бондаренко\n",
      "\n",
      "sbj1:\n",
      "\n",
      "планета земля атмосфера вода солнце солнечный белый карлик газ вокруг образовываться поверхность спутник радиус метр\n",
      "\n",
      "Сергей_Попов Александр_Марков Дмитрий_Вибе Валерий_Сулейманов Дмитрий_Титов Татьяна_Смоктунович Зоригто_Намсараев Владимир_Кузнецов Роман_Рафиков Александр_Слободкин Елизавета_Ривкина Наталья_Новикова Андрей_Глазовский Владимир_Сурдин Сергей_Наугольных\n",
      "\n",
      "sbj2:\n",
      "\n",
      "система трудность относительность тест задание преподавание отсчет системный научение компетенция адаптивный обществознание подготовка моделирование спиновый\n",
      "\n",
      "Елена_Брызгалина Александр_Поддьяков Владимир_Мележик Михаил_Пантелеев Эмиль_Ахмедов Михаил_Фейгельман Даниэль_Сельва Антон_Суворов Владимир_Редько Татьяна_Клячко Илья_Щуров Дэвид_Кайзер Алексей_Котов Мартин_Вейс Александра_Скрипченко\n",
      "\n",
      "sbj3:\n",
      "\n",
      "культура наука рассказывать понятие кандидат исторический каков доктор культурный сознание восприятие филологический феномен владимир личность\n",
      "\n",
      "Виталий_Куренной Павел_Уваров Ольга_Артёмова Александр_Гофман Пётр_Турчин Алексей_Руткевич Владимир_Миронов Дмитрий_Громов Андрей_Лукашов Сергей_Арутюнов Владимир_Бобровников Николай_Плотников Ирина_Савельева Максим_Кронгауз Владимир_Каганский\n",
      "\n",
      "sbj4:\n",
      "\n",
      "право правовой римский юрист искусство суд юридический должник собственность обязательство договор владение собственник исполнение имущество\n",
      "\n",
      "Дмитрий_Дождев Олег_Лекманов Сергей_Зенкин Денис_Новак Сергей_Майоров Дмитрий_Полдников Виктор_Цетлин Александр_Парфенов Марина_Бутовская Наталья_Смолянская Андрей_Кофман Евгений_Рогожин Татьяна_Гусарова Мохамад_Кассаб Джу_Йонг_Ли\n",
      "\n",
      "sbj5:\n",
      "\n",
      "материал свет оптический полимер применение импульс поверхность электронный использование лазерный углеродный прибор электроника бор трехмерный\n",
      "\n",
      "Дмитрий_Паращук Алексей_Акимов Владимир_Белотелов Дмитрий_Гольберг Владимир_Шалаев Шринивас_Шридхар Алексей_Желтиков Иван_Воробьев Алексей_Хохлов Дмитрий_Клинов Василий_Климов Владимир_Комлев Эрик_Мазур Павел_Плечов Сергей_Никитов\n",
      "\n",
      "sbj6:\n",
      "\n",
      "литература фильм текст литературный кино произведение автор герой жанр кинематограф поэт анекдот писатель читатель культовый\n",
      "\n",
      "Александр_Павлов Павел_Руднев Ян_Левченко Ольга_Эдельман Александра_Архипова Мария_Штейнман Дмитрий_Бак Петр_Дружинин Мария_Неклюдова Владимир_Кантор Ольга_Вайнштейн Мария_Майофис Игорь_Чубаров Анна_Рогожина Анатолий_Гершман\n",
      "\n",
      "sbj7:\n",
      "\n",
      "смерть ритуал диктатура государь обряд правитель конвент орден террор монтаньяр баратынский подданный насилие похоронный якобинский\n",
      "\n",
      "Михаил_Бойцов Михаил_Маяцкий Анна_Соколова Арсений_Хитров Дмитрий_Рогозин Олег_Ауров Алина_Бодрова Олег_Лекманов Игорь_Чубаров Игорь_Данилевский Сет_Ллойд Александр_Гофман Дмитрий_Бовыкин Михаил_Алексеевский Владимир_Емельянов\n",
      "\n",
      "sbj8:\n",
      "\n",
      "структура вещество химический соединение химия давление углерод реакция металл органический кристалл водород алмаз кристаллический кислород\n",
      "\n",
      "Артем_Оганов Валерий_Фокин Валентин_Ненайденко Алла_Ножевникова Виктория_Битюкова Иван_Сорокин Евгений_Гудилин Александр_Беленький Александр_Апт Константин_Мирошников Дмитрий_Лось Валентин_Крапошин Пётр_Образцов Рафаэль_Арутюнян Олег_Мельник\n",
      "\n",
      "sbj9:\n",
      "\n",
      "частица энергия квантовый поле физика атом взаимодействие магнитный электрон кварк теория симметрия фотон элементарный нейтрино\n",
      "\n",
      "Дмитрий_Казаков Эмиль_Ахмедов Михаил_Данилов Алексей_Рубцов Игорь_Волобуев Сергей_Троицкий Наталья_Берлофф Виктор_Брагута Павел_Пахлов Сергей_Демокритов Андрей_Лосев Александр_Львовский Лев_Дудко Марина_Корсакова-Крейн Андрей_Семенов\n",
      "\n",
      "sbj10:\n",
      "\n",
      "война россия советский русский власть российский германия мировой реформа историк петр немецкий против гражданский военный\n",
      "\n",
      "Илья_Женин Кирилл_Соловьев Борис_Морозов Кирилл_Кочегаров Александр_Лаврентьев Александр_Каменский Олег_Будницкий Борис_Колоницкий Илья_Виньковецкий Игорь_Курукин Алексей_Киличенков Людмила_Новикова Илья_Кукулин Екатерина_Щербакова Ольга_Тогоева\n",
      "\n",
      "sbj11:\n",
      "\n",
      "ребенок женщина семья мужчина возраст взрослый сон мать родитель старение конфликт женский травма катастрофа идентичность\n",
      "\n",
      "Катерина_Поливанова Мария_Падун Ольга_Сварник Ольга_Исупова Юрий_Яшков Ольга_Гулевич Наталья_Харламенкова Дмитрий_Жуков Мария_Медникова Леонид_Марголис Эмери_Браун Владимир_Ковальзон Джеральд_де_Хаан Павел_Умрюхин Максим_Киселев\n",
      "\n",
      "sbj12:\n",
      "\n",
      "мозг животное нейрон растение эволюция отбор озеро эволюционный песня сердце популяция мышца птица нейронный сигнал\n",
      "\n",
      "Кирилл_Еськов Филипп_Хайтович Михаил_Бурцев Егор_Задереев Андрей_Цатурян Варвара_Веденина Константин_Агладзе Ирина_Бёме Алексей_Кондрашов Юлия_Краус Алишер_Тураев Наталья_Спасская Александр_Петренко Мария_Добровольская Дмитрий_Дорохов\n",
      "\n",
      "sbj13:\n",
      "\n",
      "территория христианский империя восток народ древний письменность христианство государство памятник цивилизация традиция китай восточный северный\n",
      "\n",
      "Алексей_Муравьёв Дмитрий_Беляев Марк_Ульянов Алексей_Малашенко Нина_Сумбатова Дмитрий_Худяков Андрей_Виноградов Сергей_Серёгичев Дмитрий_Арзютов Галина_Ершова Григорий_Бондаренко Олег_Ауров Анна_Дыбо Кирилл_Кожанов Анна_Рогожина\n",
      "\n",
      "sbj14:\n",
      "\n",
      "звезда галактика масса вселенная черный дыра волна излучение скорость телескоп объект расстояние диск скопление гравитационный\n",
      "\n",
      "Сергей_Попов Анатолий_Засов Алексей_Расторгуев Ольга_Сильченко Михаил_Ревнивцев Дмитрий_Горбунов Олег_Верходанов Андрей_Савельев-Трофимов Алексей_Старобинский Валерий_Рубаков Владимир_Сурдин Дмитрий_Вибе Юджин_Ползик Сергей_Блинников Макс_Тегмарк\n",
      "\n",
      "sbj15:\n",
      "\n",
      "задача информация память решение данные компьютер психология мышление когнитивный внимание психолог ошибка компьютерный зрительный психологический\n",
      "\n",
      "Мария_Фаликман Владимир_Спиридонов Павел_Балабан Константин_Анохин Игорь_Уточкин Александр_Каплан Александр_Войскунский Станислав_Протасов Алексей_Созинов Махзарин_Банаджи Иван_Луковников Станислав_Клименко Жанна_Резникова Ксения_Паниди Наталья_Кисельникова\n",
      "\n",
      "sbj16:\n",
      "\n",
      "раса океан африка остров америка южный станислав географический монголоид дробышевский индия вакцина нос штамм индеец\n",
      "\n",
      "Станислав_Дробышевский Виталий_Кушниров Андрей_Летаров Андрей_Иванцов Сергей_Писарев Евгений_Рогожин Митчел_Резник Георгий_Базыкин Алиса_Вячеславова Владимир_Муронец Александр_Шацкий Александр_Воеводский Александра_Архипова Николай_Короновский Андрей_Глазовский\n",
      "\n",
      "sbj17:\n",
      "\n",
      "политический философия государство философский философ свобода идеология платон мысль враг критика партия чтение шмитт дух\n",
      "\n",
      "Алексей_Козырев Кирилл_Мартынов Иван_Болдырев Владимир_Малахов Александр_Павлов Дина_Гусейнова Александр_Филиппов Василий_Жарков Петр_Резвых Павел_Соколов Александр_Доброхотов Михаил_Маяцкий Дмитрий_Балалыкин Валентина_Харитонова Михаил_Эпштейн\n",
      "\n",
      "sbj18:\n",
      "\n",
      "язык слово русский словарь текст предложение лингвист значение категория глагол корпус перевод лингвистика языковой грамматика\n",
      "\n",
      "Владимир_Плунгян Андрей_Кибрик Александр_Пиперски Кирилл_Бабаев Дмитрий_Добровольский Надежда_Онипенко Светлана_Евграфова Леонид_Иомдин Борис_Иомдин Анатолий_Баранов Алексей_Шмелев Петр_Аркадьев Мира_Бергельсон Екатерина_Лютикова Екатерина_Протасова\n",
      "\n",
      "sbj19:\n",
      "\n",
      "революция французский франция театр король роман костюм нация национальный актер аргумент депутат конституция париж монархия\n",
      "\n",
      "Дмитрий_Бовыкин Алексей_Миллер Раиса_Кирсанова Алексей_Бартошевич Вера_Мильчина Дина_Гусейнова Мария_Майофис Мария_Неклюдова Александр_Дмитриев Марина_Новикова-Грунд Максим_Демин Илья_Иткин Ольга_Вайнштейн Борис_Колоницкий Андрей_Зорин\n",
      "\n",
      "sbj20:\n",
      "\n",
      "город сеть робот городской интернет пользователь компания музей медиа горожанин технология программный библиотека метро цифровой\n",
      "\n",
      "ПостНаука Александр_Тормасов Екатерина_Лапина-Кратасюк Оксана_Запорожец Александр_Сафонов Алексей_Лебедев Екатерина_Ларионова Руслан_Смелянский Наталья_Зубаревич Мануэль_Маццара Евгений_Магид Джанмарко_Веруджио Ирина_Стародубровская Лев_Беклемишев Эдуард_Пройдаков\n",
      "\n",
      "sbj21:\n",
      "\n",
      "болезнь заболевание пациент лечение медицина врач боль препарат медицинский операция лекарство опухоль рак кровь нарушение\n",
      "\n",
      "Петр_Федичев Алексей_Алексеев Ярослав_Ашихмин Александр_Жаворонков Алексей_Чжао Вера_Ижевская Сергей_Румянцев Александр_Васильев Олег_Медведев Сергей_Яковенко Рауль_Гайнетдинов Елена_Брызгалина Александр_Габибов Инга_Полетаева Павел_Тищенко\n",
      "\n",
      "sbj22:\n",
      "\n",
      "социальный знание социология социологический дисциплина познание социолог повседневный виктор машинный обучение общественный концепт повседневность фрейм\n",
      "\n",
      "Виктор_Вахштайн Александр_Филиппов Дмитрий_Рогозин Дмитрий_Ветров Леонид_Григорьев Светлана_Баньковская Сезар_Идальго Александр_Дьяконов Джозеф_Браун Николай_Мощевитин Дэвид_Вайнберг Aльберт_Давлетшин Александр_Гофман Михаил_Соколов Павел_Нерлер_(Полян)\n",
      "\n",
      "sbj23:\n",
      "\n",
      "микроорганизм матрица интеллект эмоция алгоритм вычислительный эмоциональный схема искусственный микроб глубина хищник микробный многоклеточный экология\n",
      "\n",
      "Елизавета_Бонч-Осмоловская Александр_Жданов Иван_Оселедец Светлана_Дедыш Николай_Пименов Елена_Гороховская Илья_Щуров Андрей_Чабовский Максим_Таланов Леонард_Полищук Игорь_Петров Сергей_Наугольных Сергей_Гашков Сергей_Зыков Виталий_Дунин-Барковский\n",
      "\n",
      "sbj24:\n",
      "\n",
      "бог миф царь греческий море мифология душа грек андрей египетский египет мифологический фольклор гусейнов божество\n",
      "\n",
      "Гасан_Гусейнов Олег_Воскобойников Владимир_Емельянов Иван_Ладынин Галина_Зеленина Аскольд_Иванчик Мария_Штейнман Варвара_Добровольская Ахмет_Ярлыкапов Ивар_Максутов Кирилл_Зыбин Алексей_Гиппиус Александр_Воеводский Алексей_Юдин Андрей_Виноградов\n",
      "\n",
      "sbj25:\n",
      "\n",
      "гласный согласный звук говор компилятор программирование мягкий диалект твердость столыпин древнерусский слог шахматы жест диалектный\n",
      "\n",
      "Игорь_Исаев Георгий_Старостин Григорий_Крейдлин Светлана_Бурлак Владимир_Беликов Екатерина_Лямина Андрей_Кофман Илья_Иткин Евгений_Зуев Дмитрий_Дагаев Яков_Тестелец Елена_Браун Ольга_Вендина Анастасия_Лопухина Антон_Чижов\n",
      "\n",
      "sbj26:\n",
      "\n",
      "страна политика экономический экономика сталин кризис праздник крестьянин коллективный принятие государственный экономист прошлое благо деревня\n",
      "\n",
      "Фуад_Алескеров Олег_Хлевнюк Алексей_Белянин Ольга_Малинова Андрей_Зорин Сергей_Афонцев Сергей_Пекарский Сергей_Бобылев Владимир_Гимпельсон Виктор_Полтерович Сергей_Гуриев Александр_Аузан Сергей_Соколовский Ивар_Максутов Анатолий_Вишневский\n",
      "\n",
      "sbj27:\n",
      "\n",
      "клетка ген днк белок организм молекула биологический генетический геном бактерия рнк мутация молекулярный ткань вирус\n",
      "\n",
      "Евгений_Шеваль Константин_Северинов Максим_Франк-Каменецкий Михаил_Гельфанд Сергей_Киселев Антон_Буздин Сергей_Саложин Евгений_Куликов Сергей_Науменко Светлана_Боринская Роман_Ефремов Владимир_Муронец Георгий_Базыкин Антон_Чугунов Мария_Шутова\n",
      "\n",
      "sbj28:\n",
      "\n",
      "температура университет сверхпроводимость сверхпроводник сверхпроводящий частота переход заимствование гумбольдт точность магнит профессор кельвин жидкий булгарский\n",
      "\n",
      "Михаил_Киселев Владимир_Пудалов Наталья_Ростиславлева Илья_Шкредов Елена_Вишленкова Виталий_Пальчиков Евгений_Николаев Анна_Дыбо Алексей_Кавокин Рой_Глаубер Валерий_Рязанов Алексей_Орлов Яков_Фоминов Теунис_Клапвик Алексей_Касьян\n",
      "\n",
      "bcg:\n",
      "\n",
      "быть что это который этот как они мочь такой очень для человек или тот один\n",
      "\n",
      "Михаил_Соколов Сергей_Неклюдов Кирилл_Титаев Михаил_Алексеевский Алексей_Маслов Андрей_Журавлев Павел_Нерлер_(Полян) Татьяна_Ребеко Борис_Миркин Николай_Дронин Алексей_Семихатов Кирилл_Разлогов Татьяна_Котова Армен_Мулкиджанян Дмитрий_Баюк\n"
     ]
    }
   ],
   "source": [
    "# Ваш код\n",
    "words = model_artm.score_tracker['top_words_text'].last_tokens\n",
    "authors = model_artm.score_tracker['top_words_author'].last_tokens\n",
    "for topic_name in model_artm.topic_names:\n",
    "    print ('\\n' + topic_name + ':\\n\\n' + ' '.join(words[topic_name]) + '\\n\\n' + ' '.join(authors[topic_name]))"
   ]
  },
  {
   "cell_type": "markdown",
   "metadata": {},
   "source": [
    "В последней теме \"bcg\" должны находиться общеупотребительные слова.\n",
    "\n",
    "Важный шаг в работе с тематической моделью, когда речь идет о визуализации или создании тематического навигатора, это именование тем. Понять, о чем каждая тема, можно по списку ее топовых слов. Например, тему\n",
    "    \n",
    "    частица взаимодействие физика кварк симметрия элементарный нейтрино стандартный материя протон бозон заряд масса ускоритель слабый\n",
    "    \n",
    "можно назвать \"Физика элементарных частиц\". \n",
    "\n",
    "Дайте названия 29 предметным темам. Если вы не знаете, как назвать тему, назовите ее первым встретившимся в ней существительным, хотя при таком подходе навигатор будет менее информативным. Из названий тем составьте список из 29 строк и запишите го в переменную sbj_topic_labels. В переменной topic_labels будут храниться названия всех тем, включая фоновую."
   ]
  },
  {
   "cell_type": "code",
   "execution_count": 98,
   "metadata": {
    "collapsed": true
   },
   "outputs": [],
   "source": [
    "sbj_topic_labels = [\"церковь\", \"планета\", \"система\", \"наука\", \"право\", \"материал\", \"литература\", \"смерть\", \"структура\", \n",
    "                    \"частица\", \"война\", \"ребенок\", \"мозг\", \"территория\", \"звезда\", \"задача\", \"раса\", \"философия\", \"язык\", \n",
    "                    \"революция\", \"город\", \"болезнь\", \"знание\", \"микроорганизм\", \"бог\", \"звук\", \"страна\", \"клетка\", \"температура\"]   # запишите названия тем в список\n",
    "topic_labels = sbj_topic_labels + [\"Фоновая тема\"]"
   ]
  },
  {
   "cell_type": "markdown",
   "metadata": {},
   "source": [
    "##### Анализ тем"
   ]
  },
  {
   "cell_type": "markdown",
   "metadata": {},
   "source": [
    "Далее мы будем работать с распределениями тем в документах (матрица $\\Theta$) и авторов в темах (одна из двух матриц $\\Phi$, соответствующая модальности авторов). \n",
    "Создайте переменные, содержащие две этих матрицы, с помощью методов get_phi и get_theta модели. Назовите переменные theta и phi_a. Выведите формы обеих матриц, чтобы понять, по каким осям стоят темы."
   ]
  },
  {
   "cell_type": "code",
   "execution_count": 109,
   "metadata": {
    "collapsed": true
   },
   "outputs": [],
   "source": [
    "model_artm.theta_columns_naming = \"title\" # включает именование столбцов Theta их названиями-ссылками, а не внутренними id \n",
    "# Ваш код\n",
    "phi_a = model_artm.get_phi(class_ids=[\"author\"])\n",
    "theta = model_artm.get_theta()"
   ]
  },
  {
   "cell_type": "markdown",
   "metadata": {},
   "source": [
    "Визуализируем фрагмент матрицы $\\Theta$ - первые 100 документов (это наиболее простой способ визуально оценить, как темы распределяются в документах). С помощью метода seaborn.heatmap выведите фрагмент theta как изображение. Рекомендация: создайте фигуру pyplot размера (20, 10)."
   ]
  },
  {
   "cell_type": "code",
   "execution_count": 84,
   "metadata": {},
   "outputs": [
    {
     "name": "stderr",
     "output_type": "stream",
     "text": [
      "C:\\Anaconda3\\lib\\site-packages\\seaborn\\matrix.py:143: DeprecationWarning: elementwise == comparison failed; this will raise an error in the future.\n",
      "  if xticklabels == []:\n"
     ]
    },
    {
     "data": {
      "text/plain": [
       "<matplotlib.axes._subplots.AxesSubplot at 0xc279390>"
      ]
     },
     "execution_count": 84,
     "metadata": {},
     "output_type": "execute_result"
    },
    {
     "data": {
      "image/png": "[encoded data removed]",
      "text/plain": [
       "<matplotlib.figure.Figure at 0xc2792e8>"
      ]
     },
     "metadata": {},
     "output_type": "display_data"
    }
   ],
   "source": [
    "# Ваш код\n",
    "plt.figure(figsize=(20,10))\n",
    "seaborn.heatmap(theta.iloc[:,0:100])"
   ]
  },
  {
   "cell_type": "code",
   "execution_count": 85,
   "metadata": {},
   "outputs": [
    {
     "data": {
      "text/html": [
       "<div>\n",
       "<style>\n",
       "    .dataframe thead tr:only-child th {\n",
       "        text-align: right;\n",
       "    }\n",
       "\n",
       "    .dataframe thead th {\n",
       "        text-align: left;\n",
       "    }\n",
       "\n",
       "    .dataframe tbody tr th {\n",
       "        vertical-align: top;\n",
       "    }\n",
       "</style>\n",
       "<table border=\"1\" class=\"dataframe\">\n",
       "  <thead>\n",
       "    <tr style=\"text-align: right;\">\n",
       "      <th></th>\n",
       "      <th>http://postnauka.ru/video/10006</th>\n",
       "      <th>http://postnauka.ru/video/10379</th>\n",
       "      <th>http://postnauka.ru/video/10380</th>\n",
       "      <th>http://postnauka.ru/video/10381</th>\n",
       "      <th>http://postnauka.ru/video/10382</th>\n",
       "      <th>http://postnauka.ru/video/10383</th>\n",
       "      <th>http://postnauka.ru/video/10384</th>\n",
       "      <th>http://postnauka.ru/video/10385</th>\n",
       "      <th>http://postnauka.ru/video/10473</th>\n",
       "      <th>http://postnauka.ru/video/10475</th>\n",
       "      <th>...</th>\n",
       "      <th>http://postnauka.ru/video/19088</th>\n",
       "      <th>http://postnauka.ru/video/19089</th>\n",
       "      <th>http://postnauka.ru/video/19098</th>\n",
       "      <th>http://postnauka.ru/video/19106</th>\n",
       "      <th>http://postnauka.ru/video/19108</th>\n",
       "      <th>http://postnauka.ru/video/19109</th>\n",
       "      <th>http://postnauka.ru/video/1922</th>\n",
       "      <th>http://postnauka.ru/video/1924</th>\n",
       "      <th>http://postnauka.ru/video/19251</th>\n",
       "      <th>http://postnauka.ru/video/1926</th>\n",
       "    </tr>\n",
       "  </thead>\n",
       "  <tbody>\n",
       "    <tr>\n",
       "      <th>sbj0</th>\n",
       "      <td>0.000000e+00</td>\n",
       "      <td>0.000000</td>\n",
       "      <td>0.000000e+00</td>\n",
       "      <td>0.122393</td>\n",
       "      <td>0.000000e+00</td>\n",
       "      <td>0.000000e+00</td>\n",
       "      <td>0.000000e+00</td>\n",
       "      <td>0.000000e+00</td>\n",
       "      <td>0.000000e+00</td>\n",
       "      <td>0.000000e+00</td>\n",
       "      <td>...</td>\n",
       "      <td>3.199299e-03</td>\n",
       "      <td>0.000000e+00</td>\n",
       "      <td>0.000000e+00</td>\n",
       "      <td>0.000000e+00</td>\n",
       "      <td>1.337135e-03</td>\n",
       "      <td>1.771364e-02</td>\n",
       "      <td>1.000392e-16</td>\n",
       "      <td>0.000000e+00</td>\n",
       "      <td>0.000000e+00</td>\n",
       "      <td>0.000000e+00</td>\n",
       "    </tr>\n",
       "    <tr>\n",
       "      <th>sbj1</th>\n",
       "      <td>0.000000e+00</td>\n",
       "      <td>0.000000</td>\n",
       "      <td>2.259040e-12</td>\n",
       "      <td>0.000000</td>\n",
       "      <td>0.000000e+00</td>\n",
       "      <td>0.000000e+00</td>\n",
       "      <td>1.776100e-11</td>\n",
       "      <td>0.000000e+00</td>\n",
       "      <td>0.000000e+00</td>\n",
       "      <td>0.000000e+00</td>\n",
       "      <td>...</td>\n",
       "      <td>1.054623e-12</td>\n",
       "      <td>0.000000e+00</td>\n",
       "      <td>4.962942e-03</td>\n",
       "      <td>0.000000e+00</td>\n",
       "      <td>0.000000e+00</td>\n",
       "      <td>0.000000e+00</td>\n",
       "      <td>9.828001e-06</td>\n",
       "      <td>6.963463e-02</td>\n",
       "      <td>1.212816e-09</td>\n",
       "      <td>0.000000e+00</td>\n",
       "    </tr>\n",
       "    <tr>\n",
       "      <th>sbj2</th>\n",
       "      <td>3.687821e-02</td>\n",
       "      <td>0.000000</td>\n",
       "      <td>0.000000e+00</td>\n",
       "      <td>0.058928</td>\n",
       "      <td>0.000000e+00</td>\n",
       "      <td>3.082945e-02</td>\n",
       "      <td>0.000000e+00</td>\n",
       "      <td>0.000000e+00</td>\n",
       "      <td>0.000000e+00</td>\n",
       "      <td>0.000000e+00</td>\n",
       "      <td>...</td>\n",
       "      <td>0.000000e+00</td>\n",
       "      <td>5.129352e-15</td>\n",
       "      <td>9.262865e-03</td>\n",
       "      <td>0.000000e+00</td>\n",
       "      <td>9.810423e-03</td>\n",
       "      <td>0.000000e+00</td>\n",
       "      <td>0.000000e+00</td>\n",
       "      <td>2.401151e-14</td>\n",
       "      <td>3.353816e-03</td>\n",
       "      <td>1.611593e-02</td>\n",
       "    </tr>\n",
       "    <tr>\n",
       "      <th>sbj3</th>\n",
       "      <td>1.470150e-01</td>\n",
       "      <td>0.162600</td>\n",
       "      <td>1.320817e-01</td>\n",
       "      <td>0.203632</td>\n",
       "      <td>1.758797e-01</td>\n",
       "      <td>8.462496e-02</td>\n",
       "      <td>1.439841e-01</td>\n",
       "      <td>3.171328e-01</td>\n",
       "      <td>1.110387e-01</td>\n",
       "      <td>7.637050e-02</td>\n",
       "      <td>...</td>\n",
       "      <td>4.651010e-03</td>\n",
       "      <td>8.870215e-03</td>\n",
       "      <td>1.255392e-02</td>\n",
       "      <td>1.444267e-02</td>\n",
       "      <td>3.022927e-02</td>\n",
       "      <td>1.230056e-01</td>\n",
       "      <td>1.225003e-02</td>\n",
       "      <td>1.756156e-03</td>\n",
       "      <td>2.031468e-03</td>\n",
       "      <td>1.296677e-02</td>\n",
       "    </tr>\n",
       "    <tr>\n",
       "      <th>sbj4</th>\n",
       "      <td>7.670944e-02</td>\n",
       "      <td>0.000000</td>\n",
       "      <td>0.000000e+00</td>\n",
       "      <td>0.000000</td>\n",
       "      <td>0.000000e+00</td>\n",
       "      <td>0.000000e+00</td>\n",
       "      <td>0.000000e+00</td>\n",
       "      <td>0.000000e+00</td>\n",
       "      <td>0.000000e+00</td>\n",
       "      <td>0.000000e+00</td>\n",
       "      <td>...</td>\n",
       "      <td>2.594190e-04</td>\n",
       "      <td>0.000000e+00</td>\n",
       "      <td>0.000000e+00</td>\n",
       "      <td>0.000000e+00</td>\n",
       "      <td>0.000000e+00</td>\n",
       "      <td>0.000000e+00</td>\n",
       "      <td>0.000000e+00</td>\n",
       "      <td>0.000000e+00</td>\n",
       "      <td>3.509478e-16</td>\n",
       "      <td>1.068005e-09</td>\n",
       "    </tr>\n",
       "    <tr>\n",
       "      <th>sbj5</th>\n",
       "      <td>0.000000e+00</td>\n",
       "      <td>0.215274</td>\n",
       "      <td>3.113200e-08</td>\n",
       "      <td>0.000000</td>\n",
       "      <td>0.000000e+00</td>\n",
       "      <td>0.000000e+00</td>\n",
       "      <td>0.000000e+00</td>\n",
       "      <td>0.000000e+00</td>\n",
       "      <td>0.000000e+00</td>\n",
       "      <td>0.000000e+00</td>\n",
       "      <td>...</td>\n",
       "      <td>1.272685e-02</td>\n",
       "      <td>1.636860e-03</td>\n",
       "      <td>4.403738e-02</td>\n",
       "      <td>4.507020e-02</td>\n",
       "      <td>0.000000e+00</td>\n",
       "      <td>0.000000e+00</td>\n",
       "      <td>3.735504e-03</td>\n",
       "      <td>5.125381e-14</td>\n",
       "      <td>5.431115e-04</td>\n",
       "      <td>2.313606e-02</td>\n",
       "    </tr>\n",
       "    <tr>\n",
       "      <th>sbj6</th>\n",
       "      <td>0.000000e+00</td>\n",
       "      <td>0.000000</td>\n",
       "      <td>0.000000e+00</td>\n",
       "      <td>0.000000</td>\n",
       "      <td>0.000000e+00</td>\n",
       "      <td>0.000000e+00</td>\n",
       "      <td>7.911449e-03</td>\n",
       "      <td>0.000000e+00</td>\n",
       "      <td>0.000000e+00</td>\n",
       "      <td>0.000000e+00</td>\n",
       "      <td>...</td>\n",
       "      <td>8.930732e-05</td>\n",
       "      <td>0.000000e+00</td>\n",
       "      <td>0.000000e+00</td>\n",
       "      <td>0.000000e+00</td>\n",
       "      <td>1.303964e-02</td>\n",
       "      <td>2.217010e-02</td>\n",
       "      <td>0.000000e+00</td>\n",
       "      <td>0.000000e+00</td>\n",
       "      <td>0.000000e+00</td>\n",
       "      <td>0.000000e+00</td>\n",
       "    </tr>\n",
       "    <tr>\n",
       "      <th>sbj7</th>\n",
       "      <td>0.000000e+00</td>\n",
       "      <td>0.000000</td>\n",
       "      <td>2.232753e-09</td>\n",
       "      <td>0.000000</td>\n",
       "      <td>0.000000e+00</td>\n",
       "      <td>0.000000e+00</td>\n",
       "      <td>0.000000e+00</td>\n",
       "      <td>0.000000e+00</td>\n",
       "      <td>0.000000e+00</td>\n",
       "      <td>0.000000e+00</td>\n",
       "      <td>...</td>\n",
       "      <td>0.000000e+00</td>\n",
       "      <td>7.917615e-14</td>\n",
       "      <td>0.000000e+00</td>\n",
       "      <td>0.000000e+00</td>\n",
       "      <td>1.470168e-07</td>\n",
       "      <td>4.385020e-09</td>\n",
       "      <td>0.000000e+00</td>\n",
       "      <td>0.000000e+00</td>\n",
       "      <td>0.000000e+00</td>\n",
       "      <td>0.000000e+00</td>\n",
       "    </tr>\n",
       "    <tr>\n",
       "      <th>sbj8</th>\n",
       "      <td>0.000000e+00</td>\n",
       "      <td>0.000000</td>\n",
       "      <td>2.209272e-02</td>\n",
       "      <td>0.000000</td>\n",
       "      <td>4.994417e-02</td>\n",
       "      <td>2.867516e-02</td>\n",
       "      <td>0.000000e+00</td>\n",
       "      <td>0.000000e+00</td>\n",
       "      <td>0.000000e+00</td>\n",
       "      <td>2.320540e-07</td>\n",
       "      <td>...</td>\n",
       "      <td>1.802096e-02</td>\n",
       "      <td>5.615357e-05</td>\n",
       "      <td>4.921762e-02</td>\n",
       "      <td>3.288378e-02</td>\n",
       "      <td>0.000000e+00</td>\n",
       "      <td>0.000000e+00</td>\n",
       "      <td>1.265871e-09</td>\n",
       "      <td>2.508987e-03</td>\n",
       "      <td>1.772727e-03</td>\n",
       "      <td>1.576640e-08</td>\n",
       "    </tr>\n",
       "    <tr>\n",
       "      <th>sbj9</th>\n",
       "      <td>0.000000e+00</td>\n",
       "      <td>0.000000</td>\n",
       "      <td>0.000000e+00</td>\n",
       "      <td>0.000000</td>\n",
       "      <td>0.000000e+00</td>\n",
       "      <td>1.738838e-01</td>\n",
       "      <td>0.000000e+00</td>\n",
       "      <td>0.000000e+00</td>\n",
       "      <td>2.363913e-02</td>\n",
       "      <td>0.000000e+00</td>\n",
       "      <td>...</td>\n",
       "      <td>0.000000e+00</td>\n",
       "      <td>6.671803e-03</td>\n",
       "      <td>1.876419e-01</td>\n",
       "      <td>0.000000e+00</td>\n",
       "      <td>1.368048e-09</td>\n",
       "      <td>5.751749e-14</td>\n",
       "      <td>2.333032e-01</td>\n",
       "      <td>3.905138e-02</td>\n",
       "      <td>1.014718e-02</td>\n",
       "      <td>1.138055e-02</td>\n",
       "    </tr>\n",
       "    <tr>\n",
       "      <th>sbj10</th>\n",
       "      <td>0.000000e+00</td>\n",
       "      <td>0.000000</td>\n",
       "      <td>6.527326e-02</td>\n",
       "      <td>0.085185</td>\n",
       "      <td>0.000000e+00</td>\n",
       "      <td>0.000000e+00</td>\n",
       "      <td>2.294281e-02</td>\n",
       "      <td>0.000000e+00</td>\n",
       "      <td>0.000000e+00</td>\n",
       "      <td>0.000000e+00</td>\n",
       "      <td>...</td>\n",
       "      <td>9.998905e-03</td>\n",
       "      <td>0.000000e+00</td>\n",
       "      <td>0.000000e+00</td>\n",
       "      <td>1.553974e-02</td>\n",
       "      <td>8.769201e-03</td>\n",
       "      <td>5.412602e-08</td>\n",
       "      <td>0.000000e+00</td>\n",
       "      <td>7.282793e-05</td>\n",
       "      <td>6.713183e-07</td>\n",
       "      <td>6.944352e-11</td>\n",
       "    </tr>\n",
       "    <tr>\n",
       "      <th>sbj11</th>\n",
       "      <td>7.556980e-13</td>\n",
       "      <td>0.000000</td>\n",
       "      <td>0.000000e+00</td>\n",
       "      <td>0.000000</td>\n",
       "      <td>0.000000e+00</td>\n",
       "      <td>0.000000e+00</td>\n",
       "      <td>0.000000e+00</td>\n",
       "      <td>0.000000e+00</td>\n",
       "      <td>3.975059e-07</td>\n",
       "      <td>0.000000e+00</td>\n",
       "      <td>...</td>\n",
       "      <td>1.152097e-02</td>\n",
       "      <td>1.527922e-02</td>\n",
       "      <td>0.000000e+00</td>\n",
       "      <td>1.017143e-03</td>\n",
       "      <td>1.848359e-10</td>\n",
       "      <td>7.918580e-08</td>\n",
       "      <td>0.000000e+00</td>\n",
       "      <td>0.000000e+00</td>\n",
       "      <td>0.000000e+00</td>\n",
       "      <td>4.423566e-03</td>\n",
       "    </tr>\n",
       "    <tr>\n",
       "      <th>sbj12</th>\n",
       "      <td>0.000000e+00</td>\n",
       "      <td>0.000000</td>\n",
       "      <td>0.000000e+00</td>\n",
       "      <td>0.000000</td>\n",
       "      <td>0.000000e+00</td>\n",
       "      <td>0.000000e+00</td>\n",
       "      <td>0.000000e+00</td>\n",
       "      <td>0.000000e+00</td>\n",
       "      <td>0.000000e+00</td>\n",
       "      <td>8.248035e-02</td>\n",
       "      <td>...</td>\n",
       "      <td>0.000000e+00</td>\n",
       "      <td>4.991557e-03</td>\n",
       "      <td>0.000000e+00</td>\n",
       "      <td>0.000000e+00</td>\n",
       "      <td>0.000000e+00</td>\n",
       "      <td>0.000000e+00</td>\n",
       "      <td>8.950689e-11</td>\n",
       "      <td>3.724903e-14</td>\n",
       "      <td>1.529659e-02</td>\n",
       "      <td>9.245365e-02</td>\n",
       "    </tr>\n",
       "    <tr>\n",
       "      <th>sbj13</th>\n",
       "      <td>0.000000e+00</td>\n",
       "      <td>0.000000</td>\n",
       "      <td>2.063458e-02</td>\n",
       "      <td>0.002775</td>\n",
       "      <td>1.333585e-03</td>\n",
       "      <td>6.144562e-09</td>\n",
       "      <td>1.746018e-02</td>\n",
       "      <td>6.106905e-13</td>\n",
       "      <td>8.715157e-02</td>\n",
       "      <td>0.000000e+00</td>\n",
       "      <td>...</td>\n",
       "      <td>6.679347e-09</td>\n",
       "      <td>0.000000e+00</td>\n",
       "      <td>0.000000e+00</td>\n",
       "      <td>5.597158e-08</td>\n",
       "      <td>7.684047e-02</td>\n",
       "      <td>5.494655e-04</td>\n",
       "      <td>0.000000e+00</td>\n",
       "      <td>0.000000e+00</td>\n",
       "      <td>0.000000e+00</td>\n",
       "      <td>0.000000e+00</td>\n",
       "    </tr>\n",
       "    <tr>\n",
       "      <th>sbj14</th>\n",
       "      <td>0.000000e+00</td>\n",
       "      <td>0.000000</td>\n",
       "      <td>4.245424e-03</td>\n",
       "      <td>0.000000</td>\n",
       "      <td>0.000000e+00</td>\n",
       "      <td>1.654743e-01</td>\n",
       "      <td>0.000000e+00</td>\n",
       "      <td>0.000000e+00</td>\n",
       "      <td>4.370573e-11</td>\n",
       "      <td>0.000000e+00</td>\n",
       "      <td>...</td>\n",
       "      <td>2.674998e-05</td>\n",
       "      <td>4.396737e-10</td>\n",
       "      <td>2.319933e-03</td>\n",
       "      <td>6.377672e-06</td>\n",
       "      <td>0.000000e+00</td>\n",
       "      <td>0.000000e+00</td>\n",
       "      <td>2.109898e-02</td>\n",
       "      <td>2.050197e-01</td>\n",
       "      <td>0.000000e+00</td>\n",
       "      <td>8.052437e-08</td>\n",
       "    </tr>\n",
       "    <tr>\n",
       "      <th>sbj15</th>\n",
       "      <td>0.000000e+00</td>\n",
       "      <td>0.000000</td>\n",
       "      <td>0.000000e+00</td>\n",
       "      <td>0.000000</td>\n",
       "      <td>0.000000e+00</td>\n",
       "      <td>0.000000e+00</td>\n",
       "      <td>0.000000e+00</td>\n",
       "      <td>0.000000e+00</td>\n",
       "      <td>2.508936e-02</td>\n",
       "      <td>0.000000e+00</td>\n",
       "      <td>...</td>\n",
       "      <td>0.000000e+00</td>\n",
       "      <td>7.454541e-03</td>\n",
       "      <td>0.000000e+00</td>\n",
       "      <td>1.307485e-03</td>\n",
       "      <td>3.940074e-03</td>\n",
       "      <td>9.915272e-16</td>\n",
       "      <td>1.537166e-05</td>\n",
       "      <td>2.253629e-06</td>\n",
       "      <td>7.643561e-02</td>\n",
       "      <td>3.703176e-05</td>\n",
       "    </tr>\n",
       "    <tr>\n",
       "      <th>sbj16</th>\n",
       "      <td>0.000000e+00</td>\n",
       "      <td>0.000000</td>\n",
       "      <td>1.013420e-04</td>\n",
       "      <td>0.000000</td>\n",
       "      <td>0.000000e+00</td>\n",
       "      <td>0.000000e+00</td>\n",
       "      <td>0.000000e+00</td>\n",
       "      <td>0.000000e+00</td>\n",
       "      <td>0.000000e+00</td>\n",
       "      <td>0.000000e+00</td>\n",
       "      <td>...</td>\n",
       "      <td>1.432559e-03</td>\n",
       "      <td>0.000000e+00</td>\n",
       "      <td>0.000000e+00</td>\n",
       "      <td>0.000000e+00</td>\n",
       "      <td>7.114140e-11</td>\n",
       "      <td>5.828849e-03</td>\n",
       "      <td>0.000000e+00</td>\n",
       "      <td>0.000000e+00</td>\n",
       "      <td>0.000000e+00</td>\n",
       "      <td>0.000000e+00</td>\n",
       "    </tr>\n",
       "    <tr>\n",
       "      <th>sbj17</th>\n",
       "      <td>0.000000e+00</td>\n",
       "      <td>0.000000</td>\n",
       "      <td>2.181491e-02</td>\n",
       "      <td>0.000000</td>\n",
       "      <td>0.000000e+00</td>\n",
       "      <td>0.000000e+00</td>\n",
       "      <td>5.666247e-02</td>\n",
       "      <td>0.000000e+00</td>\n",
       "      <td>0.000000e+00</td>\n",
       "      <td>0.000000e+00</td>\n",
       "      <td>...</td>\n",
       "      <td>1.556272e-07</td>\n",
       "      <td>0.000000e+00</td>\n",
       "      <td>3.257594e-07</td>\n",
       "      <td>1.240529e-11</td>\n",
       "      <td>9.762651e-02</td>\n",
       "      <td>1.101510e-02</td>\n",
       "      <td>0.000000e+00</td>\n",
       "      <td>1.108451e-05</td>\n",
       "      <td>0.000000e+00</td>\n",
       "      <td>7.785421e-03</td>\n",
       "    </tr>\n",
       "    <tr>\n",
       "      <th>sbj18</th>\n",
       "      <td>1.942340e-02</td>\n",
       "      <td>0.000000</td>\n",
       "      <td>0.000000e+00</td>\n",
       "      <td>0.000000</td>\n",
       "      <td>4.609988e-09</td>\n",
       "      <td>0.000000e+00</td>\n",
       "      <td>0.000000e+00</td>\n",
       "      <td>0.000000e+00</td>\n",
       "      <td>1.164059e-01</td>\n",
       "      <td>0.000000e+00</td>\n",
       "      <td>...</td>\n",
       "      <td>0.000000e+00</td>\n",
       "      <td>1.573848e-10</td>\n",
       "      <td>0.000000e+00</td>\n",
       "      <td>0.000000e+00</td>\n",
       "      <td>2.259974e-11</td>\n",
       "      <td>1.458707e-05</td>\n",
       "      <td>0.000000e+00</td>\n",
       "      <td>4.575023e-06</td>\n",
       "      <td>0.000000e+00</td>\n",
       "      <td>9.038835e-15</td>\n",
       "    </tr>\n",
       "    <tr>\n",
       "      <th>sbj19</th>\n",
       "      <td>0.000000e+00</td>\n",
       "      <td>0.000000</td>\n",
       "      <td>0.000000e+00</td>\n",
       "      <td>0.000000</td>\n",
       "      <td>0.000000e+00</td>\n",
       "      <td>0.000000e+00</td>\n",
       "      <td>0.000000e+00</td>\n",
       "      <td>0.000000e+00</td>\n",
       "      <td>0.000000e+00</td>\n",
       "      <td>0.000000e+00</td>\n",
       "      <td>...</td>\n",
       "      <td>1.036963e-10</td>\n",
       "      <td>0.000000e+00</td>\n",
       "      <td>0.000000e+00</td>\n",
       "      <td>0.000000e+00</td>\n",
       "      <td>4.087227e-14</td>\n",
       "      <td>9.576756e-03</td>\n",
       "      <td>0.000000e+00</td>\n",
       "      <td>7.959722e-11</td>\n",
       "      <td>0.000000e+00</td>\n",
       "      <td>0.000000e+00</td>\n",
       "    </tr>\n",
       "    <tr>\n",
       "      <th>sbj20</th>\n",
       "      <td>0.000000e+00</td>\n",
       "      <td>0.000000</td>\n",
       "      <td>8.742127e-13</td>\n",
       "      <td>0.000000</td>\n",
       "      <td>0.000000e+00</td>\n",
       "      <td>0.000000e+00</td>\n",
       "      <td>0.000000e+00</td>\n",
       "      <td>0.000000e+00</td>\n",
       "      <td>8.329825e-03</td>\n",
       "      <td>1.484813e-02</td>\n",
       "      <td>...</td>\n",
       "      <td>3.347889e-07</td>\n",
       "      <td>1.136205e-16</td>\n",
       "      <td>0.000000e+00</td>\n",
       "      <td>1.211291e-02</td>\n",
       "      <td>2.472479e-04</td>\n",
       "      <td>1.260349e-05</td>\n",
       "      <td>3.606320e-03</td>\n",
       "      <td>0.000000e+00</td>\n",
       "      <td>7.586264e-03</td>\n",
       "      <td>2.143229e-02</td>\n",
       "    </tr>\n",
       "    <tr>\n",
       "      <th>sbj21</th>\n",
       "      <td>7.577926e-02</td>\n",
       "      <td>0.000000</td>\n",
       "      <td>2.486120e-12</td>\n",
       "      <td>0.000000</td>\n",
       "      <td>2.958247e-02</td>\n",
       "      <td>0.000000e+00</td>\n",
       "      <td>0.000000e+00</td>\n",
       "      <td>0.000000e+00</td>\n",
       "      <td>0.000000e+00</td>\n",
       "      <td>0.000000e+00</td>\n",
       "      <td>...</td>\n",
       "      <td>7.258221e-04</td>\n",
       "      <td>1.127736e-02</td>\n",
       "      <td>0.000000e+00</td>\n",
       "      <td>5.758582e-02</td>\n",
       "      <td>0.000000e+00</td>\n",
       "      <td>3.925957e-14</td>\n",
       "      <td>0.000000e+00</td>\n",
       "      <td>0.000000e+00</td>\n",
       "      <td>1.053702e-02</td>\n",
       "      <td>0.000000e+00</td>\n",
       "    </tr>\n",
       "    <tr>\n",
       "      <th>sbj22</th>\n",
       "      <td>0.000000e+00</td>\n",
       "      <td>0.000000</td>\n",
       "      <td>0.000000e+00</td>\n",
       "      <td>0.000000</td>\n",
       "      <td>0.000000e+00</td>\n",
       "      <td>0.000000e+00</td>\n",
       "      <td>0.000000e+00</td>\n",
       "      <td>2.773994e-02</td>\n",
       "      <td>0.000000e+00</td>\n",
       "      <td>0.000000e+00</td>\n",
       "      <td>...</td>\n",
       "      <td>1.686220e-07</td>\n",
       "      <td>0.000000e+00</td>\n",
       "      <td>2.097070e-03</td>\n",
       "      <td>6.977237e-04</td>\n",
       "      <td>0.000000e+00</td>\n",
       "      <td>6.275987e-14</td>\n",
       "      <td>0.000000e+00</td>\n",
       "      <td>2.279172e-07</td>\n",
       "      <td>0.000000e+00</td>\n",
       "      <td>5.790701e-06</td>\n",
       "    </tr>\n",
       "    <tr>\n",
       "      <th>sbj23</th>\n",
       "      <td>0.000000e+00</td>\n",
       "      <td>0.000000</td>\n",
       "      <td>0.000000e+00</td>\n",
       "      <td>0.000000</td>\n",
       "      <td>0.000000e+00</td>\n",
       "      <td>0.000000e+00</td>\n",
       "      <td>0.000000e+00</td>\n",
       "      <td>0.000000e+00</td>\n",
       "      <td>0.000000e+00</td>\n",
       "      <td>0.000000e+00</td>\n",
       "      <td>...</td>\n",
       "      <td>4.171417e-16</td>\n",
       "      <td>0.000000e+00</td>\n",
       "      <td>0.000000e+00</td>\n",
       "      <td>4.972557e-11</td>\n",
       "      <td>6.686633e-07</td>\n",
       "      <td>1.136628e-16</td>\n",
       "      <td>0.000000e+00</td>\n",
       "      <td>0.000000e+00</td>\n",
       "      <td>7.233250e-08</td>\n",
       "      <td>1.513856e-09</td>\n",
       "    </tr>\n",
       "    <tr>\n",
       "      <th>sbj24</th>\n",
       "      <td>3.554490e-02</td>\n",
       "      <td>0.000000</td>\n",
       "      <td>0.000000e+00</td>\n",
       "      <td>0.000000</td>\n",
       "      <td>0.000000e+00</td>\n",
       "      <td>0.000000e+00</td>\n",
       "      <td>0.000000e+00</td>\n",
       "      <td>8.770578e-02</td>\n",
       "      <td>2.788832e-02</td>\n",
       "      <td>0.000000e+00</td>\n",
       "      <td>...</td>\n",
       "      <td>6.256680e-03</td>\n",
       "      <td>0.000000e+00</td>\n",
       "      <td>0.000000e+00</td>\n",
       "      <td>2.491573e-06</td>\n",
       "      <td>5.622124e-02</td>\n",
       "      <td>4.905225e-02</td>\n",
       "      <td>0.000000e+00</td>\n",
       "      <td>0.000000e+00</td>\n",
       "      <td>0.000000e+00</td>\n",
       "      <td>0.000000e+00</td>\n",
       "    </tr>\n",
       "    <tr>\n",
       "      <th>sbj25</th>\n",
       "      <td>0.000000e+00</td>\n",
       "      <td>0.000000</td>\n",
       "      <td>0.000000e+00</td>\n",
       "      <td>0.000000</td>\n",
       "      <td>0.000000e+00</td>\n",
       "      <td>0.000000e+00</td>\n",
       "      <td>0.000000e+00</td>\n",
       "      <td>0.000000e+00</td>\n",
       "      <td>5.768317e-02</td>\n",
       "      <td>0.000000e+00</td>\n",
       "      <td>...</td>\n",
       "      <td>0.000000e+00</td>\n",
       "      <td>0.000000e+00</td>\n",
       "      <td>0.000000e+00</td>\n",
       "      <td>0.000000e+00</td>\n",
       "      <td>0.000000e+00</td>\n",
       "      <td>4.531651e-10</td>\n",
       "      <td>0.000000e+00</td>\n",
       "      <td>0.000000e+00</td>\n",
       "      <td>0.000000e+00</td>\n",
       "      <td>0.000000e+00</td>\n",
       "    </tr>\n",
       "    <tr>\n",
       "      <th>sbj26</th>\n",
       "      <td>4.052816e-09</td>\n",
       "      <td>0.000000</td>\n",
       "      <td>3.229468e-01</td>\n",
       "      <td>0.000000</td>\n",
       "      <td>2.658708e-02</td>\n",
       "      <td>0.000000e+00</td>\n",
       "      <td>2.490740e-01</td>\n",
       "      <td>0.000000e+00</td>\n",
       "      <td>0.000000e+00</td>\n",
       "      <td>0.000000e+00</td>\n",
       "      <td>...</td>\n",
       "      <td>1.596244e-01</td>\n",
       "      <td>0.000000e+00</td>\n",
       "      <td>0.000000e+00</td>\n",
       "      <td>0.000000e+00</td>\n",
       "      <td>4.870097e-03</td>\n",
       "      <td>0.000000e+00</td>\n",
       "      <td>1.196224e-04</td>\n",
       "      <td>0.000000e+00</td>\n",
       "      <td>4.192731e-06</td>\n",
       "      <td>0.000000e+00</td>\n",
       "    </tr>\n",
       "    <tr>\n",
       "      <th>sbj27</th>\n",
       "      <td>1.526010e-01</td>\n",
       "      <td>0.000000</td>\n",
       "      <td>0.000000e+00</td>\n",
       "      <td>0.000000</td>\n",
       "      <td>2.383524e-01</td>\n",
       "      <td>0.000000e+00</td>\n",
       "      <td>0.000000e+00</td>\n",
       "      <td>0.000000e+00</td>\n",
       "      <td>0.000000e+00</td>\n",
       "      <td>3.568507e-01</td>\n",
       "      <td>...</td>\n",
       "      <td>3.960159e-10</td>\n",
       "      <td>2.661544e-01</td>\n",
       "      <td>0.000000e+00</td>\n",
       "      <td>8.150105e-02</td>\n",
       "      <td>0.000000e+00</td>\n",
       "      <td>0.000000e+00</td>\n",
       "      <td>0.000000e+00</td>\n",
       "      <td>3.820215e-05</td>\n",
       "      <td>1.005709e-01</td>\n",
       "      <td>2.913790e-02</td>\n",
       "    </tr>\n",
       "    <tr>\n",
       "      <th>sbj28</th>\n",
       "      <td>0.000000e+00</td>\n",
       "      <td>0.000000</td>\n",
       "      <td>0.000000e+00</td>\n",
       "      <td>0.029772</td>\n",
       "      <td>0.000000e+00</td>\n",
       "      <td>0.000000e+00</td>\n",
       "      <td>0.000000e+00</td>\n",
       "      <td>0.000000e+00</td>\n",
       "      <td>0.000000e+00</td>\n",
       "      <td>0.000000e+00</td>\n",
       "      <td>...</td>\n",
       "      <td>0.000000e+00</td>\n",
       "      <td>0.000000e+00</td>\n",
       "      <td>3.621169e-13</td>\n",
       "      <td>7.289182e-06</td>\n",
       "      <td>0.000000e+00</td>\n",
       "      <td>2.705537e-03</td>\n",
       "      <td>0.000000e+00</td>\n",
       "      <td>0.000000e+00</td>\n",
       "      <td>0.000000e+00</td>\n",
       "      <td>0.000000e+00</td>\n",
       "    </tr>\n",
       "    <tr>\n",
       "      <th>bcg</th>\n",
       "      <td>4.560488e-01</td>\n",
       "      <td>0.622127</td>\n",
       "      <td>4.108092e-01</td>\n",
       "      <td>0.497314</td>\n",
       "      <td>4.783207e-01</td>\n",
       "      <td>5.165124e-01</td>\n",
       "      <td>5.019651e-01</td>\n",
       "      <td>5.674214e-01</td>\n",
       "      <td>5.427737e-01</td>\n",
       "      <td>4.694501e-01</td>\n",
       "      <td>...</td>\n",
       "      <td>7.714664e-01</td>\n",
       "      <td>6.776078e-01</td>\n",
       "      <td>6.879060e-01</td>\n",
       "      <td>7.378253e-01</td>\n",
       "      <td>6.970678e-01</td>\n",
       "      <td>7.583554e-01</td>\n",
       "      <td>7.258611e-01</td>\n",
       "      <td>6.819000e-01</td>\n",
       "      <td>7.717205e-01</td>\n",
       "      <td>7.811249e-01</td>\n",
       "    </tr>\n",
       "  </tbody>\n",
       "</table>\n",
       "<p>30 rows × 1728 columns</p>\n",
       "</div>"
      ],
      "text/plain": [
       "       http://postnauka.ru/video/10006  http://postnauka.ru/video/10379  \\\n",
       "sbj0                      0.000000e+00                         0.000000   \n",
       "sbj1                      0.000000e+00                         0.000000   \n",
       "sbj2                      3.687821e-02                         0.000000   \n",
       "sbj3                      1.470150e-01                         0.162600   \n",
       "sbj4                      7.670944e-02                         0.000000   \n",
       "sbj5                      0.000000e+00                         0.215274   \n",
       "sbj6                      0.000000e+00                         0.000000   \n",
       "sbj7                      0.000000e+00                         0.000000   \n",
       "sbj8                      0.000000e+00                         0.000000   \n",
       "sbj9                      0.000000e+00                         0.000000   \n",
       "sbj10                     0.000000e+00                         0.000000   \n",
       "sbj11                     7.556980e-13                         0.000000   \n",
       "sbj12                     0.000000e+00                         0.000000   \n",
       "sbj13                     0.000000e+00                         0.000000   \n",
       "sbj14                     0.000000e+00                         0.000000   \n",
       "sbj15                     0.000000e+00                         0.000000   \n",
       "sbj16                     0.000000e+00                         0.000000   \n",
       "sbj17                     0.000000e+00                         0.000000   \n",
       "sbj18                     1.942340e-02                         0.000000   \n",
       "sbj19                     0.000000e+00                         0.000000   \n",
       "sbj20                     0.000000e+00                         0.000000   \n",
       "sbj21                     7.577926e-02                         0.000000   \n",
       "sbj22                     0.000000e+00                         0.000000   \n",
       "sbj23                     0.000000e+00                         0.000000   \n",
       "sbj24                     3.554490e-02                         0.000000   \n",
       "sbj25                     0.000000e+00                         0.000000   \n",
       "sbj26                     4.052816e-09                         0.000000   \n",
       "sbj27                     1.526010e-01                         0.000000   \n",
       "sbj28                     0.000000e+00                         0.000000   \n",
       "bcg                       4.560488e-01                         0.622127   \n",
       "\n",
       "       http://postnauka.ru/video/10380  http://postnauka.ru/video/10381  \\\n",
       "sbj0                      0.000000e+00                         0.122393   \n",
       "sbj1                      2.259040e-12                         0.000000   \n",
       "sbj2                      0.000000e+00                         0.058928   \n",
       "sbj3                      1.320817e-01                         0.203632   \n",
       "sbj4                      0.000000e+00                         0.000000   \n",
       "sbj5                      3.113200e-08                         0.000000   \n",
       "sbj6                      0.000000e+00                         0.000000   \n",
       "sbj7                      2.232753e-09                         0.000000   \n",
       "sbj8                      2.209272e-02                         0.000000   \n",
       "sbj9                      0.000000e+00                         0.000000   \n",
       "sbj10                     6.527326e-02                         0.085185   \n",
       "sbj11                     0.000000e+00                         0.000000   \n",
       "sbj12                     0.000000e+00                         0.000000   \n",
       "sbj13                     2.063458e-02                         0.002775   \n",
       "sbj14                     4.245424e-03                         0.000000   \n",
       "sbj15                     0.000000e+00                         0.000000   \n",
       "sbj16                     1.013420e-04                         0.000000   \n",
       "sbj17                     2.181491e-02                         0.000000   \n",
       "sbj18                     0.000000e+00                         0.000000   \n",
       "sbj19                     0.000000e+00                         0.000000   \n",
       "sbj20                     8.742127e-13                         0.000000   \n",
       "sbj21                     2.486120e-12                         0.000000   \n",
       "sbj22                     0.000000e+00                         0.000000   \n",
       "sbj23                     0.000000e+00                         0.000000   \n",
       "sbj24                     0.000000e+00                         0.000000   \n",
       "sbj25                     0.000000e+00                         0.000000   \n",
       "sbj26                     3.229468e-01                         0.000000   \n",
       "sbj27                     0.000000e+00                         0.000000   \n",
       "sbj28                     0.000000e+00                         0.029772   \n",
       "bcg                       4.108092e-01                         0.497314   \n",
       "\n",
       "       http://postnauka.ru/video/10382  http://postnauka.ru/video/10383  \\\n",
       "sbj0                      0.000000e+00                     0.000000e+00   \n",
       "sbj1                      0.000000e+00                     0.000000e+00   \n",
       "sbj2                      0.000000e+00                     3.082945e-02   \n",
       "sbj3                      1.758797e-01                     8.462496e-02   \n",
       "sbj4                      0.000000e+00                     0.000000e+00   \n",
       "sbj5                      0.000000e+00                     0.000000e+00   \n",
       "sbj6                      0.000000e+00                     0.000000e+00   \n",
       "sbj7                      0.000000e+00                     0.000000e+00   \n",
       "sbj8                      4.994417e-02                     2.867516e-02   \n",
       "sbj9                      0.000000e+00                     1.738838e-01   \n",
       "sbj10                     0.000000e+00                     0.000000e+00   \n",
       "sbj11                     0.000000e+00                     0.000000e+00   \n",
       "sbj12                     0.000000e+00                     0.000000e+00   \n",
       "sbj13                     1.333585e-03                     6.144562e-09   \n",
       "sbj14                     0.000000e+00                     1.654743e-01   \n",
       "sbj15                     0.000000e+00                     0.000000e+00   \n",
       "sbj16                     0.000000e+00                     0.000000e+00   \n",
       "sbj17                     0.000000e+00                     0.000000e+00   \n",
       "sbj18                     4.609988e-09                     0.000000e+00   \n",
       "sbj19                     0.000000e+00                     0.000000e+00   \n",
       "sbj20                     0.000000e+00                     0.000000e+00   \n",
       "sbj21                     2.958247e-02                     0.000000e+00   \n",
       "sbj22                     0.000000e+00                     0.000000e+00   \n",
       "sbj23                     0.000000e+00                     0.000000e+00   \n",
       "sbj24                     0.000000e+00                     0.000000e+00   \n",
       "sbj25                     0.000000e+00                     0.000000e+00   \n",
       "sbj26                     2.658708e-02                     0.000000e+00   \n",
       "sbj27                     2.383524e-01                     0.000000e+00   \n",
       "sbj28                     0.000000e+00                     0.000000e+00   \n",
       "bcg                       4.783207e-01                     5.165124e-01   \n",
       "\n",
       "       http://postnauka.ru/video/10384  http://postnauka.ru/video/10385  \\\n",
       "sbj0                      0.000000e+00                     0.000000e+00   \n",
       "sbj1                      1.776100e-11                     0.000000e+00   \n",
       "sbj2                      0.000000e+00                     0.000000e+00   \n",
       "sbj3                      1.439841e-01                     3.171328e-01   \n",
       "sbj4                      0.000000e+00                     0.000000e+00   \n",
       "sbj5                      0.000000e+00                     0.000000e+00   \n",
       "sbj6                      7.911449e-03                     0.000000e+00   \n",
       "sbj7                      0.000000e+00                     0.000000e+00   \n",
       "sbj8                      0.000000e+00                     0.000000e+00   \n",
       "sbj9                      0.000000e+00                     0.000000e+00   \n",
       "sbj10                     2.294281e-02                     0.000000e+00   \n",
       "sbj11                     0.000000e+00                     0.000000e+00   \n",
       "sbj12                     0.000000e+00                     0.000000e+00   \n",
       "sbj13                     1.746018e-02                     6.106905e-13   \n",
       "sbj14                     0.000000e+00                     0.000000e+00   \n",
       "sbj15                     0.000000e+00                     0.000000e+00   \n",
       "sbj16                     0.000000e+00                     0.000000e+00   \n",
       "sbj17                     5.666247e-02                     0.000000e+00   \n",
       "sbj18                     0.000000e+00                     0.000000e+00   \n",
       "sbj19                     0.000000e+00                     0.000000e+00   \n",
       "sbj20                     0.000000e+00                     0.000000e+00   \n",
       "sbj21                     0.000000e+00                     0.000000e+00   \n",
       "sbj22                     0.000000e+00                     2.773994e-02   \n",
       "sbj23                     0.000000e+00                     0.000000e+00   \n",
       "sbj24                     0.000000e+00                     8.770578e-02   \n",
       "sbj25                     0.000000e+00                     0.000000e+00   \n",
       "sbj26                     2.490740e-01                     0.000000e+00   \n",
       "sbj27                     0.000000e+00                     0.000000e+00   \n",
       "sbj28                     0.000000e+00                     0.000000e+00   \n",
       "bcg                       5.019651e-01                     5.674214e-01   \n",
       "\n",
       "       http://postnauka.ru/video/10473  http://postnauka.ru/video/10475  \\\n",
       "sbj0                      0.000000e+00                     0.000000e+00   \n",
       "sbj1                      0.000000e+00                     0.000000e+00   \n",
       "sbj2                      0.000000e+00                     0.000000e+00   \n",
       "sbj3                      1.110387e-01                     7.637050e-02   \n",
       "sbj4                      0.000000e+00                     0.000000e+00   \n",
       "sbj5                      0.000000e+00                     0.000000e+00   \n",
       "sbj6                      0.000000e+00                     0.000000e+00   \n",
       "sbj7                      0.000000e+00                     0.000000e+00   \n",
       "sbj8                      0.000000e+00                     2.320540e-07   \n",
       "sbj9                      2.363913e-02                     0.000000e+00   \n",
       "sbj10                     0.000000e+00                     0.000000e+00   \n",
       "sbj11                     3.975059e-07                     0.000000e+00   \n",
       "sbj12                     0.000000e+00                     8.248035e-02   \n",
       "sbj13                     8.715157e-02                     0.000000e+00   \n",
       "sbj14                     4.370573e-11                     0.000000e+00   \n",
       "sbj15                     2.508936e-02                     0.000000e+00   \n",
       "sbj16                     0.000000e+00                     0.000000e+00   \n",
       "sbj17                     0.000000e+00                     0.000000e+00   \n",
       "sbj18                     1.164059e-01                     0.000000e+00   \n",
       "sbj19                     0.000000e+00                     0.000000e+00   \n",
       "sbj20                     8.329825e-03                     1.484813e-02   \n",
       "sbj21                     0.000000e+00                     0.000000e+00   \n",
       "sbj22                     0.000000e+00                     0.000000e+00   \n",
       "sbj23                     0.000000e+00                     0.000000e+00   \n",
       "sbj24                     2.788832e-02                     0.000000e+00   \n",
       "sbj25                     5.768317e-02                     0.000000e+00   \n",
       "sbj26                     0.000000e+00                     0.000000e+00   \n",
       "sbj27                     0.000000e+00                     3.568507e-01   \n",
       "sbj28                     0.000000e+00                     0.000000e+00   \n",
       "bcg                       5.427737e-01                     4.694501e-01   \n",
       "\n",
       "                    ...                http://postnauka.ru/video/19088  \\\n",
       "sbj0                ...                                   3.199299e-03   \n",
       "sbj1                ...                                   1.054623e-12   \n",
       "sbj2                ...                                   0.000000e+00   \n",
       "sbj3                ...                                   4.651010e-03   \n",
       "sbj4                ...                                   2.594190e-04   \n",
       "sbj5                ...                                   1.272685e-02   \n",
       "sbj6                ...                                   8.930732e-05   \n",
       "sbj7                ...                                   0.000000e+00   \n",
       "sbj8                ...                                   1.802096e-02   \n",
       "sbj9                ...                                   0.000000e+00   \n",
       "sbj10               ...                                   9.998905e-03   \n",
       "sbj11               ...                                   1.152097e-02   \n",
       "sbj12               ...                                   0.000000e+00   \n",
       "sbj13               ...                                   6.679347e-09   \n",
       "sbj14               ...                                   2.674998e-05   \n",
       "sbj15               ...                                   0.000000e+00   \n",
       "sbj16               ...                                   1.432559e-03   \n",
       "sbj17               ...                                   1.556272e-07   \n",
       "sbj18               ...                                   0.000000e+00   \n",
       "sbj19               ...                                   1.036963e-10   \n",
       "sbj20               ...                                   3.347889e-07   \n",
       "sbj21               ...                                   7.258221e-04   \n",
       "sbj22               ...                                   1.686220e-07   \n",
       "sbj23               ...                                   4.171417e-16   \n",
       "sbj24               ...                                   6.256680e-03   \n",
       "sbj25               ...                                   0.000000e+00   \n",
       "sbj26               ...                                   1.596244e-01   \n",
       "sbj27               ...                                   3.960159e-10   \n",
       "sbj28               ...                                   0.000000e+00   \n",
       "bcg                 ...                                   7.714664e-01   \n",
       "\n",
       "       http://postnauka.ru/video/19089  http://postnauka.ru/video/19098  \\\n",
       "sbj0                      0.000000e+00                     0.000000e+00   \n",
       "sbj1                      0.000000e+00                     4.962942e-03   \n",
       "sbj2                      5.129352e-15                     9.262865e-03   \n",
       "sbj3                      8.870215e-03                     1.255392e-02   \n",
       "sbj4                      0.000000e+00                     0.000000e+00   \n",
       "sbj5                      1.636860e-03                     4.403738e-02   \n",
       "sbj6                      0.000000e+00                     0.000000e+00   \n",
       "sbj7                      7.917615e-14                     0.000000e+00   \n",
       "sbj8                      5.615357e-05                     4.921762e-02   \n",
       "sbj9                      6.671803e-03                     1.876419e-01   \n",
       "sbj10                     0.000000e+00                     0.000000e+00   \n",
       "sbj11                     1.527922e-02                     0.000000e+00   \n",
       "sbj12                     4.991557e-03                     0.000000e+00   \n",
       "sbj13                     0.000000e+00                     0.000000e+00   \n",
       "sbj14                     4.396737e-10                     2.319933e-03   \n",
       "sbj15                     7.454541e-03                     0.000000e+00   \n",
       "sbj16                     0.000000e+00                     0.000000e+00   \n",
       "sbj17                     0.000000e+00                     3.257594e-07   \n",
       "sbj18                     1.573848e-10                     0.000000e+00   \n",
       "sbj19                     0.000000e+00                     0.000000e+00   \n",
       "sbj20                     1.136205e-16                     0.000000e+00   \n",
       "sbj21                     1.127736e-02                     0.000000e+00   \n",
       "sbj22                     0.000000e+00                     2.097070e-03   \n",
       "sbj23                     0.000000e+00                     0.000000e+00   \n",
       "sbj24                     0.000000e+00                     0.000000e+00   \n",
       "sbj25                     0.000000e+00                     0.000000e+00   \n",
       "sbj26                     0.000000e+00                     0.000000e+00   \n",
       "sbj27                     2.661544e-01                     0.000000e+00   \n",
       "sbj28                     0.000000e+00                     3.621169e-13   \n",
       "bcg                       6.776078e-01                     6.879060e-01   \n",
       "\n",
       "       http://postnauka.ru/video/19106  http://postnauka.ru/video/19108  \\\n",
       "sbj0                      0.000000e+00                     1.337135e-03   \n",
       "sbj1                      0.000000e+00                     0.000000e+00   \n",
       "sbj2                      0.000000e+00                     9.810423e-03   \n",
       "sbj3                      1.444267e-02                     3.022927e-02   \n",
       "sbj4                      0.000000e+00                     0.000000e+00   \n",
       "sbj5                      4.507020e-02                     0.000000e+00   \n",
       "sbj6                      0.000000e+00                     1.303964e-02   \n",
       "sbj7                      0.000000e+00                     1.470168e-07   \n",
       "sbj8                      3.288378e-02                     0.000000e+00   \n",
       "sbj9                      0.000000e+00                     1.368048e-09   \n",
       "sbj10                     1.553974e-02                     8.769201e-03   \n",
       "sbj11                     1.017143e-03                     1.848359e-10   \n",
       "sbj12                     0.000000e+00                     0.000000e+00   \n",
       "sbj13                     5.597158e-08                     7.684047e-02   \n",
       "sbj14                     6.377672e-06                     0.000000e+00   \n",
       "sbj15                     1.307485e-03                     3.940074e-03   \n",
       "sbj16                     0.000000e+00                     7.114140e-11   \n",
       "sbj17                     1.240529e-11                     9.762651e-02   \n",
       "sbj18                     0.000000e+00                     2.259974e-11   \n",
       "sbj19                     0.000000e+00                     4.087227e-14   \n",
       "sbj20                     1.211291e-02                     2.472479e-04   \n",
       "sbj21                     5.758582e-02                     0.000000e+00   \n",
       "sbj22                     6.977237e-04                     0.000000e+00   \n",
       "sbj23                     4.972557e-11                     6.686633e-07   \n",
       "sbj24                     2.491573e-06                     5.622124e-02   \n",
       "sbj25                     0.000000e+00                     0.000000e+00   \n",
       "sbj26                     0.000000e+00                     4.870097e-03   \n",
       "sbj27                     8.150105e-02                     0.000000e+00   \n",
       "sbj28                     7.289182e-06                     0.000000e+00   \n",
       "bcg                       7.378253e-01                     6.970678e-01   \n",
       "\n",
       "       http://postnauka.ru/video/19109  http://postnauka.ru/video/1922  \\\n",
       "sbj0                      1.771364e-02                    1.000392e-16   \n",
       "sbj1                      0.000000e+00                    9.828001e-06   \n",
       "sbj2                      0.000000e+00                    0.000000e+00   \n",
       "sbj3                      1.230056e-01                    1.225003e-02   \n",
       "sbj4                      0.000000e+00                    0.000000e+00   \n",
       "sbj5                      0.000000e+00                    3.735504e-03   \n",
       "sbj6                      2.217010e-02                    0.000000e+00   \n",
       "sbj7                      4.385020e-09                    0.000000e+00   \n",
       "sbj8                      0.000000e+00                    1.265871e-09   \n",
       "sbj9                      5.751749e-14                    2.333032e-01   \n",
       "sbj10                     5.412602e-08                    0.000000e+00   \n",
       "sbj11                     7.918580e-08                    0.000000e+00   \n",
       "sbj12                     0.000000e+00                    8.950689e-11   \n",
       "sbj13                     5.494655e-04                    0.000000e+00   \n",
       "sbj14                     0.000000e+00                    2.109898e-02   \n",
       "sbj15                     9.915272e-16                    1.537166e-05   \n",
       "sbj16                     5.828849e-03                    0.000000e+00   \n",
       "sbj17                     1.101510e-02                    0.000000e+00   \n",
       "sbj18                     1.458707e-05                    0.000000e+00   \n",
       "sbj19                     9.576756e-03                    0.000000e+00   \n",
       "sbj20                     1.260349e-05                    3.606320e-03   \n",
       "sbj21                     3.925957e-14                    0.000000e+00   \n",
       "sbj22                     6.275987e-14                    0.000000e+00   \n",
       "sbj23                     1.136628e-16                    0.000000e+00   \n",
       "sbj24                     4.905225e-02                    0.000000e+00   \n",
       "sbj25                     4.531651e-10                    0.000000e+00   \n",
       "sbj26                     0.000000e+00                    1.196224e-04   \n",
       "sbj27                     0.000000e+00                    0.000000e+00   \n",
       "sbj28                     2.705537e-03                    0.000000e+00   \n",
       "bcg                       7.583554e-01                    7.258611e-01   \n",
       "\n",
       "       http://postnauka.ru/video/1924  http://postnauka.ru/video/19251  \\\n",
       "sbj0                     0.000000e+00                     0.000000e+00   \n",
       "sbj1                     6.963463e-02                     1.212816e-09   \n",
       "sbj2                     2.401151e-14                     3.353816e-03   \n",
       "sbj3                     1.756156e-03                     2.031468e-03   \n",
       "sbj4                     0.000000e+00                     3.509478e-16   \n",
       "sbj5                     5.125381e-14                     5.431115e-04   \n",
       "sbj6                     0.000000e+00                     0.000000e+00   \n",
       "sbj7                     0.000000e+00                     0.000000e+00   \n",
       "sbj8                     2.508987e-03                     1.772727e-03   \n",
       "sbj9                     3.905138e-02                     1.014718e-02   \n",
       "sbj10                    7.282793e-05                     6.713183e-07   \n",
       "sbj11                    0.000000e+00                     0.000000e+00   \n",
       "sbj12                    3.724903e-14                     1.529659e-02   \n",
       "sbj13                    0.000000e+00                     0.000000e+00   \n",
       "sbj14                    2.050197e-01                     0.000000e+00   \n",
       "sbj15                    2.253629e-06                     7.643561e-02   \n",
       "sbj16                    0.000000e+00                     0.000000e+00   \n",
       "sbj17                    1.108451e-05                     0.000000e+00   \n",
       "sbj18                    4.575023e-06                     0.000000e+00   \n",
       "sbj19                    7.959722e-11                     0.000000e+00   \n",
       "sbj20                    0.000000e+00                     7.586264e-03   \n",
       "sbj21                    0.000000e+00                     1.053702e-02   \n",
       "sbj22                    2.279172e-07                     0.000000e+00   \n",
       "sbj23                    0.000000e+00                     7.233250e-08   \n",
       "sbj24                    0.000000e+00                     0.000000e+00   \n",
       "sbj25                    0.000000e+00                     0.000000e+00   \n",
       "sbj26                    0.000000e+00                     4.192731e-06   \n",
       "sbj27                    3.820215e-05                     1.005709e-01   \n",
       "sbj28                    0.000000e+00                     0.000000e+00   \n",
       "bcg                      6.819000e-01                     7.717205e-01   \n",
       "\n",
       "       http://postnauka.ru/video/1926  \n",
       "sbj0                     0.000000e+00  \n",
       "sbj1                     0.000000e+00  \n",
       "sbj2                     1.611593e-02  \n",
       "sbj3                     1.296677e-02  \n",
       "sbj4                     1.068005e-09  \n",
       "sbj5                     2.313606e-02  \n",
       "sbj6                     0.000000e+00  \n",
       "sbj7                     0.000000e+00  \n",
       "sbj8                     1.576640e-08  \n",
       "sbj9                     1.138055e-02  \n",
       "sbj10                    6.944352e-11  \n",
       "sbj11                    4.423566e-03  \n",
       "sbj12                    9.245365e-02  \n",
       "sbj13                    0.000000e+00  \n",
       "sbj14                    8.052437e-08  \n",
       "sbj15                    3.703176e-05  \n",
       "sbj16                    0.000000e+00  \n",
       "sbj17                    7.785421e-03  \n",
       "sbj18                    9.038835e-15  \n",
       "sbj19                    0.000000e+00  \n",
       "sbj20                    2.143229e-02  \n",
       "sbj21                    0.000000e+00  \n",
       "sbj22                    5.790701e-06  \n",
       "sbj23                    1.513856e-09  \n",
       "sbj24                    0.000000e+00  \n",
       "sbj25                    0.000000e+00  \n",
       "sbj26                    0.000000e+00  \n",
       "sbj27                    2.913790e-02  \n",
       "sbj28                    0.000000e+00  \n",
       "bcg                      7.811249e-01  \n",
       "\n",
       "[30 rows x 1728 columns]"
      ]
     },
     "execution_count": 85,
     "metadata": {},
     "output_type": "execute_result"
    }
   ],
   "source": [
    "theta"
   ]
  },
  {
   "cell_type": "markdown",
   "metadata": {},
   "source": [
    "Вы должны увидеть, что фоновая тема имеет большую вероятность в почти каждом документе, и это логично. Кроме того, есть еще одна тема, которая чаще других встречается в документах. Судя по всему, это тема содержит много слов по науку в целом, а каждый документ (видео) в нашей коллекции связан с наукой. Можно (необязательно) дать этой теме название \"Наука\".\n",
    "\n",
    "Помимо этих двух тем, фоновой и общенаучной, каждый документ характеризуется малым числом других тем."
   ]
  },
  {
   "cell_type": "markdown",
   "metadata": {},
   "source": [
    "Оценим $p(t)$ - долю каждой темы во всей коллекции. По формуле полной вероятности вычислять эти величины нужно как\n",
    "$p(t) = \\sum_d p(t|d) p(d)$. Согласно вероятностной модели, $p(d)$ пропорционально длине документа d. Поступим проще: будем полагать, что все документы равновероятны. Тогда оценить $p(t)$ можно, просуммировав $p(t|d)$ по всем документам, а затем разделив полученный вектор на его сумму. \n",
    "\n",
    "Создайте переменную-датафрейм с T строками, индексированными названиями тем, и 1 столбцом, содержащим оценки $p(t)$. Выведите датафрейм на печать."
   ]
  },
  {
   "cell_type": "code",
   "execution_count": 287,
   "metadata": {
    "collapsed": true
   },
   "outputs": [],
   "source": [
    "# Ваш код\n",
    "pt = pd.DataFrame(theta.sum(axis = 1), columns = [\"p(t)\"])\n",
    "pt['name'] = topic_labels"
   ]
  },
  {
   "cell_type": "code",
   "execution_count": 288,
   "metadata": {},
   "outputs": [
    {
     "name": "stdout",
     "output_type": "stream",
     "text": [
      "              p(t)           name\n",
      "sbj0     17.879719        церковь\n",
      "sbj1     18.769295        планета\n",
      "sbj2     10.201237        система\n",
      "sbj3     71.317863          наука\n",
      "sbj4     13.265549          право\n",
      "sbj5     17.161865       материал\n",
      "sbj6     12.343420     литература\n",
      "sbj7      6.642914         смерть\n",
      "sbj8     18.617874      структура\n",
      "sbj9     36.205658        частица\n",
      "sbj10    24.468779          война\n",
      "sbj11    12.680084        ребенок\n",
      "sbj12    17.572470           мозг\n",
      "sbj13    23.705215     территория\n",
      "sbj14    27.043015         звезда\n",
      "sbj15    17.786732         задача\n",
      "sbj16    10.008101           раса\n",
      "sbj17    23.651505      философия\n",
      "sbj18    22.864277           язык\n",
      "sbj19    10.134291      революция\n",
      "sbj20    15.138359          город\n",
      "sbj21    16.685764        болезнь\n",
      "sbj22    16.060551         знание\n",
      "sbj23    10.220034  микроорганизм\n",
      "sbj24    14.222286            бог\n",
      "sbj25     6.882545           звук\n",
      "sbj26    18.865986         страна\n",
      "sbj27    38.263702         клетка\n",
      "sbj28     9.046089    температура\n",
      "bcg    1170.294922   Фоновая тема\n"
     ]
    }
   ],
   "source": [
    "print(pt)"
   ]
  },
  {
   "cell_type": "markdown",
   "metadata": {},
   "source": [
    "Найдите 5 самых распространенных и 3 наименее освещенных темы в коллекции (наибольшие и наименьшие $p(t)$ соответственно), не считая фоновую и общенаучную. Укажите названия, которые вы дали этим темам."
   ]
  },
  {
   "cell_type": "code",
   "execution_count": 290,
   "metadata": {},
   "outputs": [
    {
     "name": "stdout",
     "output_type": "stream",
     "text": [
      "              p(t)           name\n",
      "sbj7      6.642914         смерть\n",
      "sbj25     6.882545           звук\n",
      "sbj28     9.046089    температура\n",
      "sbj16    10.008101           раса\n",
      "sbj19    10.134291      революция\n",
      "sbj2     10.201237        система\n",
      "sbj23    10.220034  микроорганизм\n",
      "sbj6     12.343420     литература\n",
      "sbj11    12.680084        ребенок\n",
      "sbj4     13.265549          право\n",
      "sbj24    14.222286            бог\n",
      "sbj20    15.138359          город\n",
      "sbj22    16.060551         знание\n",
      "sbj21    16.685764        болезнь\n",
      "sbj5     17.161865       материал\n",
      "sbj12    17.572470           мозг\n",
      "sbj15    17.786732         задача\n",
      "sbj0     17.879719        церковь\n",
      "sbj8     18.617874      структура\n",
      "sbj1     18.769295        планета\n",
      "sbj26    18.865986         страна\n",
      "sbj18    22.864277           язык\n",
      "sbj17    23.651505      философия\n",
      "sbj13    23.705215     территория\n",
      "sbj10    24.468779          война\n",
      "sbj14    27.043015         звезда\n",
      "sbj9     36.205658        частица\n",
      "sbj27    38.263702         клетка\n",
      "sbj3     71.317863          наука\n",
      "bcg    1170.294922   Фоновая тема\n"
     ]
    }
   ],
   "source": [
    "print(pt.sort_values(by = \"p(t)\"))"
   ]
  },
  {
   "cell_type": "raw",
   "metadata": {},
   "source": [
    "Ваш ответ:\n",
    "5 тем с max p(t): sbj27 (клетка), sbj9 (частица), sbj14 (звезда), sbj10 (война), sbj13 (территория)\n",
    "3 темы с min p(t): sbj7 (смерть), sbj25 (гласный), sbj28 (температура)"
   ]
  },
  {
   "cell_type": "markdown",
   "metadata": {},
   "source": [
    "Визуализируйте матрицу $\\Phi$ модальности авторов в виде изображения. Рекомендация: установите yticklabels=False в heatmap."
   ]
  },
  {
   "cell_type": "code",
   "execution_count": 111,
   "metadata": {},
   "outputs": [
    {
     "name": "stderr",
     "output_type": "stream",
     "text": [
      "C:\\Anaconda3\\lib\\site-packages\\seaborn\\matrix.py:143: DeprecationWarning: elementwise == comparison failed; this will raise an error in the future.\n",
      "  if xticklabels == []:\n"
     ]
    },
    {
     "data": {
      "text/plain": [
       "<matplotlib.axes._subplots.AxesSubplot at 0x1a8ad8d0>"
      ]
     },
     "execution_count": 111,
     "metadata": {},
     "output_type": "execute_result"
    },
    {
     "data": {
      "image/png": "[encoded data removed]",
      "text/plain": [
       "<matplotlib.figure.Figure at 0xc288898>"
      ]
     },
     "metadata": {},
     "output_type": "display_data"
    }
   ],
   "source": [
    "# Ваш код\n",
    "plt.figure(figsize=(20,10))\n",
    "seaborn.heatmap(phi_a, yticklabels=False)"
   ]
  },
  {
   "cell_type": "markdown",
   "metadata": {},
   "source": [
    "Каждой теме соответствует не очень большое число авторов - матрица достаточно разреженная. Кроме того, некоторые темы имеют доминирующего автора $a$, имеющего большую вероятность $p(a|t)$ - этот автор записал больше всего лекций по теме. "
   ]
  },
  {
   "cell_type": "markdown",
   "metadata": {},
   "source": [
    "Будем считать, что автор $a$ значим в теме, если $p(a|t) > 0.01$. Для каждого автора посчитайте, в скольких темах он значим. Найдите авторов-рекордсменов, которые значимы (а значит, читали лекции) в >= 3 темах."
   ]
  },
  {
   "cell_type": "code",
   "execution_count": 129,
   "metadata": {
    "collapsed": true
   },
   "outputs": [],
   "source": [
    "#наверное естьболее красивый способ это найти, чем указанный ниже\n",
    "#считаем количество тем, где у автора p(a|t)>0.01\n",
    "a = {}\n",
    "for i in range(phi_a.shape[0]):\n",
    "    a[i] = 0\n",
    "    for j in phi_a.iloc[i]:\n",
    "        if (j > 0.01):\n",
    "            a[i] += 1"
   ]
  },
  {
   "cell_type": "code",
   "execution_count": 143,
   "metadata": {},
   "outputs": [
    {
     "name": "stdout",
     "output_type": "stream",
     "text": [
      "Алина_Бодрова 3\n",
      "Илья_Иткин 3\n",
      "Александр_Воеводский 3\n",
      "Ольга_Вайнштейн 5\n",
      "Ольга_Тогоева 3\n"
     ]
    }
   ],
   "source": [
    "#Получаем авторов, где тем >= 3:\n",
    "for k,v in a.items():\n",
    "    if (v >= 3):\n",
    "        print(phi_a.index[k], v)"
   ]
  },
  {
   "cell_type": "raw",
   "metadata": {},
   "source": [
    "Ваш ответ:\n",
    "авторы, значимые в не менее чем 3 темах: Алина_Бодрова, Илья_Иткин, Александр_Воеводский, Ольга_Вайнштейн, Ольга_Тогоева"
   ]
  },
  {
   "cell_type": "markdown",
   "metadata": {},
   "source": [
    "Большинство авторов значимы в 1 теме, что логично."
   ]
  },
  {
   "cell_type": "markdown",
   "metadata": {},
   "source": [
    "##### Построение тематической карты авторов"
   ]
  },
  {
   "cell_type": "markdown",
   "metadata": {},
   "source": [
    "По сути, в матрице $\\Phi$, соответствующей модальности авторов, записаны тематические кластеры авторов. Для любого автора мы можем составить его тематический круг - авторов, разбирающихся в той же теме, что и данный. Интересующиеся слушатели могут попробовать выполнить эту процедуру для ученых, читающих лекции на Постнауке, которых они знают (например, на Постнауке есть лекции с К. В. Воронцовым - лектором текущего модуля :)\n",
    "\n",
    "Составим карту близости авторов по тематике их исследований. Для этого применим метод понижения размерности MDS к тематическим профилям авторов.\n",
    "\n",
    "Чтобы получить тематический профиль автора, распределение $p(t|a)$, нужно воспользоваться формулой Байеса: \n",
    "$p(t|a) = \\frac {p(a|t) p(t)} {\\sum_t' p(a|t') p(t')}$. Все необходимые для этого величины у вас есть и записаны в переменных phi и pt. \n",
    "\n",
    "Передайте матрицу тематических профилей авторов, записанных по строкам, в метод MDS с n_components=2. Используйте косинусную метрику (она хорошо подходит для поиска расстояний между векторами, имеющими фиксированную сумму компонент)."
   ]
  },
  {
   "cell_type": "code",
   "execution_count": 144,
   "metadata": {
    "collapsed": true
   },
   "outputs": [],
   "source": [
    "from sklearn.manifold import MDS\n",
    "from sklearn.metrics import pairwise_distances"
   ]
  },
  {
   "cell_type": "code",
   "execution_count": 292,
   "metadata": {},
   "outputs": [
    {
     "data": {
      "text/plain": [
       "sbj0       17.879719\n",
       "sbj1       18.769295\n",
       "sbj2       10.201237\n",
       "sbj3       71.317863\n",
       "sbj4       13.265549\n",
       "sbj5       17.161865\n",
       "sbj6       12.343420\n",
       "sbj7        6.642914\n",
       "sbj8       18.617874\n",
       "sbj9       36.205658\n",
       "sbj10      24.468779\n",
       "sbj11      12.680084\n",
       "sbj12      17.572470\n",
       "sbj13      23.705215\n",
       "sbj14      27.043015\n",
       "sbj15      17.786732\n",
       "sbj16      10.008101\n",
       "sbj17      23.651505\n",
       "sbj18      22.864277\n",
       "sbj19      10.134291\n",
       "sbj20      15.138359\n",
       "sbj21      16.685764\n",
       "sbj22      16.060551\n",
       "sbj23      10.220034\n",
       "sbj24      14.222286\n",
       "sbj25       6.882545\n",
       "sbj26      18.865986\n",
       "sbj27      38.263702\n",
       "sbj28       9.046089\n",
       "bcg      1170.294922\n",
       "Name: p(t), dtype: float32"
      ]
     },
     "execution_count": 292,
     "metadata": {},
     "output_type": "execute_result"
    }
   ],
   "source": [
    "pt[\"p(t)\"]"
   ]
  },
  {
   "cell_type": "code",
   "execution_count": 294,
   "metadata": {
    "collapsed": true
   },
   "outputs": [],
   "source": [
    "# расчет p(a), p(t|a)\n",
    "pa = np.matmul(phi_a, pt[\"p(t)\"])\n",
    "pta = np.ndarray((phi_a.shape[1], phi_a.shape[0]))\n",
    "for i in range(pta.shape[0]):\n",
    "    for j in range(pta.shape[1]):\n",
    "        pta[i][j] = phi_a.iloc[j, i] * pt.iloc[i, 0] / pa[j]"
   ]
  },
  {
   "cell_type": "code",
   "execution_count": 297,
   "metadata": {
    "collapsed": true
   },
   "outputs": [],
   "source": [
    "# Запуск модели\n",
    "mds = MDS(n_components=2)\n",
    "dist_a = pairwise_distances(phi_a, metric='cosine')\n",
    "#если передавать просто phi_a, то вываливается ошибка \"Array must be symmetric\", нашел решение на просторах интернета\n",
    "dist_a_trans = mds.fit_transform(np.array(pta.T, dtype=\"float64\"))"
   ]
  },
  {
   "cell_type": "markdown",
   "metadata": {},
   "source": [
    "Визуализируйте найденные двумерные представления с помощью функции scatter. "
   ]
  },
  {
   "cell_type": "code",
   "execution_count": 298,
   "metadata": {},
   "outputs": [
    {
     "data": {
      "text/plain": [
       "<matplotlib.collections.PathCollection at 0x17961cf8>"
      ]
     },
     "execution_count": 298,
     "metadata": {},
     "output_type": "execute_result"
    },
    {
     "data": {
      "image/png": "[encoded data removed]",
      "text/plain": [
       "<matplotlib.figure.Figure at 0x1acb9cc0>"
      ]
     },
     "metadata": {},
     "output_type": "display_data"
    }
   ],
   "source": [
    "# Постоение графика\n",
    "plt.figure(figsize=(20,10))\n",
    "plt.scatter(x=dist_a_trans.T[0], y=dist_a_trans.T[1])"
   ]
  },
  {
   "cell_type": "markdown",
   "metadata": {},
   "source": [
    "Должно получиться, что некоторые грппы авторов формируют сгустки, которые можно считать тематическими группами авторов.\n",
    "\n",
    "Раскрасим точки следующим образом: для каждого автора выберем наиболее вероятную для него тему ($\\max_t p(t|a)$), и каждой теме сопоставим цвет. Кроме того, добавим на карту имена и фамилии авторов, это можно сделать в цикле по всем точкам с помощью функции plt.annotate, указывая метку точки первым аргументом и ее координаты в аргументе xy. Рекомендуется сделать размер изображения большим, тогда маркеры точек тоже придется увеличить (s=100 в plt.scatter). Изобразите карту авторов и сохраните в pdf-файл с помощью функции plt.savefig. \n",
    "\n",
    "Метки авторов будут пересекаться. Будет очень хорошо, если вы найдете способ, как этого можно избежать."
   ]
  },
  {
   "cell_type": "code",
   "execution_count": 301,
   "metadata": {
    "collapsed": true
   },
   "outputs": [],
   "source": [
    "import matplotlib.cm as cm\n",
    "colors = cm.rainbow(np.linspace(0, 1, T)) # цвета для тем"
   ]
  },
  {
   "cell_type": "code",
   "execution_count": 304,
   "metadata": {},
   "outputs": [
    {
     "data": {
      "image/png": "[encoded data removed]",
      "text/plain": [
       "<matplotlib.figure.Figure at 0x1131f6a0>"
      ]
     },
     "metadata": {},
     "output_type": "display_data"
    }
   ],
   "source": [
    "max_prob_topics = np.argmax(pta.T, axis=1)\n",
    "author_names = phi_a.index.tolist()\n",
    "fig, ax = plt.subplots(figsize=(20, 10))\n",
    "for i in range(len(author_names)):\n",
    "    plt.annotate(author_names[i], xy=dist_a_trans[i])\n",
    "    plt.scatter(dist_a_trans[i, 0], dist_a_trans[i, 1],\n",
    "                c=colors[max_prob_topics[i]], alpha=0.7, s=100)\n",
    "plt.savefig('authors.pdf')"
   ]
  },
  {
   "cell_type": "markdown",
   "metadata": {},
   "source": [
    "##### Создание простого тематического навигатора по Постнауке"
   ]
  },
  {
   "cell_type": "markdown",
   "metadata": {},
   "source": [
    "Наш тематический навигатор будет для каждой темы показывать ее список слов, а также список релевантных теме документов. \n",
    "\n",
    "Нам понадобятся распределения $p(d|t)$. По формуле Байеса $p(d|t) = \\frac{p(t|d)p(d)}{\\sum_{d'}p(t|d')p(d')}$, но поскольку мы считаем документы равновероятными, достаточно разделить каждую строку $\\Theta$ на ее сумму, чтобы оценить распределение. \n",
    "\n",
    "Отсортируйте матрицу $p(d|t)$ по убыванию $p(d|t)$ в каждой теме (то есть построчно). Нам понадобятся индексы наиболее вероятных документов в каждой теме, поэтому используйте функцию argmax."
   ]
  },
  {
   "cell_type": "code",
   "execution_count": 305,
   "metadata": {
    "collapsed": true
   },
   "outputs": [],
   "source": [
    "# Ваш код\n",
    "pdt = theta / np.sum(theta)\n",
    "doc_indexes = (-np.array(pdt)).argsort(axis=1)"
   ]
  },
  {
   "cell_type": "markdown",
   "metadata": {},
   "source": [
    "Создавать навигатор мы будем прямо в jupiter notebook: это возможно благодаря тому факту, что при печати ссылки она автоматически превращается в гиперссылку."
   ]
  },
  {
   "cell_type": "code",
   "execution_count": 228,
   "metadata": {},
   "outputs": [
    {
     "name": "stdout",
     "output_type": "stream",
     "text": [
      "http://yandex.ru\n"
     ]
    }
   ],
   "source": [
    "print (\"http://yandex.ru\")   # получится кликабельная ссылка"
   ]
  },
  {
   "cell_type": "markdown",
   "metadata": {},
   "source": [
    "Кроме того, подключив модуль [ipython.core.display](https://ipython.org/ipython-doc/2/api/generated/IPython.core.display.html), можно использовать html-разметку в выводе. Например:"
   ]
  },
  {
   "cell_type": "code",
   "execution_count": 308,
   "metadata": {},
   "outputs": [
    {
     "data": {
      "text/html": [
       "<h1>Заголовок</h1>"
      ],
      "text/plain": [
       "<IPython.core.display.HTML object>"
      ]
     },
     "metadata": {},
     "output_type": "display_data"
    },
    {
     "data": {
      "text/html": [
       "<ul><li>Пункт 1</li><li>Пункт 2</li></ul>"
      ],
      "text/plain": [
       "<IPython.core.display.HTML object>"
      ]
     },
     "metadata": {},
     "output_type": "display_data"
    },
    {
     "data": {
      "text/html": [
       "<font color=\"green\">Зеленый!</font>"
      ],
      "text/plain": [
       "<IPython.core.display.HTML object>"
      ]
     },
     "metadata": {},
     "output_type": "display_data"
    },
    {
     "data": {
      "text/html": [
       "<a href=\"http://yandex.ru\">Еще один вариант вывода ссылки</a>"
      ],
      "text/plain": [
       "<IPython.core.display.HTML object>"
      ]
     },
     "metadata": {},
     "output_type": "display_data"
    }
   ],
   "source": [
    "from IPython.core.display import display, HTML\n",
    "display(HTML(u\"<h1>Заголовок</h1>\"))   # также <h2>, <h3>\n",
    "display(HTML(u\"<ul><li>Пункт 1</li><li>Пункт 2</li></ul>\"))\n",
    "display(HTML(u'<font color=\"green\">Зеленый!</font>'))\n",
    "display(HTML(u'<a href=\"http://yandex.ru\">Еще один вариант вывода ссылки</a>'))"
   ]
  },
  {
   "cell_type": "markdown",
   "metadata": {},
   "source": [
    "В цикле для каждой темы выведите ее заголовок, в следующей строке - топ-10 слов темы, затем в виде списка ссылки на 10 наиболее релевантных (по $p(d|t)$) теме документов. Используйте html-разметку. Творчество приветствуется :)"
   ]
  },
  {
   "cell_type": "code",
   "execution_count": 314,
   "metadata": {},
   "outputs": [
    {
     "data": {
      "text/html": [
       "<h1>церковь</h1>"
      ],
      "text/plain": [
       "<IPython.core.display.HTML object>"
      ]
     },
     "metadata": {},
     "output_type": "display_data"
    },
    {
     "data": {
      "text/html": [
       "<b>Ключевые слова: </b>церковь русь средневековый император святой власть сага князь папа византийский поэзия церковный рим вера король"
      ],
      "text/plain": [
       "<IPython.core.display.HTML object>"
      ]
     },
     "metadata": {},
     "output_type": "display_data"
    },
    {
     "data": {
      "text/html": [
       "<ul><li><a href=\"http://postnauka.ru/video/3348\">http://postnauka.ru/video/3348</a></li><li><a href=\"http://postnauka.ru/video/24034\">http://postnauka.ru/video/24034</a></li><li><a href=\"http://postnauka.ru/video/9968\">http://postnauka.ru/video/9968</a></li><li><a href=\"http://postnauka.ru/video/9299\">http://postnauka.ru/video/9299</a></li><li><a href=\"http://postnauka.ru/video/24039\">http://postnauka.ru/video/24039</a></li><li><a href=\"http://postnauka.ru/video/24030\">http://postnauka.ru/video/24030</a></li><li><a href=\"http://postnauka.ru/video/28942\">http://postnauka.ru/video/28942</a></li><li><a href=\"http://postnauka.ru/video/23472\">http://postnauka.ru/video/23472</a></li><li><a href=\"http://postnauka.ru/video/50350\">http://postnauka.ru/video/50350</a></li><li><a href=\"http://postnauka.ru/video/5464\">http://postnauka.ru/video/5464</a></li></ul>"
      ],
      "text/plain": [
       "<IPython.core.display.HTML object>"
      ]
     },
     "metadata": {},
     "output_type": "display_data"
    },
    {
     "data": {
      "text/html": [
       "<h1>планета</h1>"
      ],
      "text/plain": [
       "<IPython.core.display.HTML object>"
      ]
     },
     "metadata": {},
     "output_type": "display_data"
    },
    {
     "data": {
      "text/html": [
       "<b>Ключевые слова: </b>планета земля атмосфера вода солнце солнечный белый карлик газ вокруг образовываться поверхность спутник радиус метр"
      ],
      "text/plain": [
       "<IPython.core.display.HTML object>"
      ]
     },
     "metadata": {},
     "output_type": "display_data"
    },
    {
     "data": {
      "text/html": [
       "<ul><li><a href=\"http://postnauka.ru/video/53693\">http://postnauka.ru/video/53693</a></li><li><a href=\"http://postnauka.ru/video/24245\">http://postnauka.ru/video/24245</a></li><li><a href=\"http://postnauka.ru/video/32889\">http://postnauka.ru/video/32889</a></li><li><a href=\"http://postnauka.ru/video/9835\">http://postnauka.ru/video/9835</a></li><li><a href=\"http://postnauka.ru/video/31695\">http://postnauka.ru/video/31695</a></li><li><a href=\"http://postnauka.ru/video/13098\">http://postnauka.ru/video/13098</a></li><li><a href=\"http://postnauka.ru/video/12971\">http://postnauka.ru/video/12971</a></li><li><a href=\"http://postnauka.ru/video/49261\">http://postnauka.ru/video/49261</a></li><li><a href=\"http://postnauka.ru/video/36249\">http://postnauka.ru/video/36249</a></li><li><a href=\"http://postnauka.ru/video/3381\">http://postnauka.ru/video/3381</a></li></ul>"
      ],
      "text/plain": [
       "<IPython.core.display.HTML object>"
      ]
     },
     "metadata": {},
     "output_type": "display_data"
    },
    {
     "data": {
      "text/html": [
       "<h1>система</h1>"
      ],
      "text/plain": [
       "<IPython.core.display.HTML object>"
      ]
     },
     "metadata": {},
     "output_type": "display_data"
    },
    {
     "data": {
      "text/html": [
       "<b>Ключевые слова: </b>система трудность относительность тест задание преподавание отсчет системный научение компетенция адаптивный обществознание подготовка моделирование спиновый"
      ],
      "text/plain": [
       "<IPython.core.display.HTML object>"
      ]
     },
     "metadata": {},
     "output_type": "display_data"
    },
    {
     "data": {
      "text/html": [
       "<ul><li><a href=\"http://postnauka.ru/video/46317\">http://postnauka.ru/video/46317</a></li><li><a href=\"http://postnauka.ru/video/34426\">http://postnauka.ru/video/34426</a></li><li><a href=\"http://postnauka.ru/video/1856\">http://postnauka.ru/video/1856</a></li><li><a href=\"http://postnauka.ru/video/50347\">http://postnauka.ru/video/50347</a></li><li><a href=\"http://postnauka.ru/video/37982\">http://postnauka.ru/video/37982</a></li><li><a href=\"http://postnauka.ru/video/19570\">http://postnauka.ru/video/19570</a></li><li><a href=\"http://postnauka.ru/video/53415\">http://postnauka.ru/video/53415</a></li><li><a href=\"http://postnauka.ru/video/56618\">http://postnauka.ru/video/56618</a></li><li><a href=\"http://postnauka.ru/video/47457\">http://postnauka.ru/video/47457</a></li><li><a href=\"http://postnauka.ru/video/52548\">http://postnauka.ru/video/52548</a></li></ul>"
      ],
      "text/plain": [
       "<IPython.core.display.HTML object>"
      ]
     },
     "metadata": {},
     "output_type": "display_data"
    },
    {
     "data": {
      "text/html": [
       "<h1>наука</h1>"
      ],
      "text/plain": [
       "<IPython.core.display.HTML object>"
      ]
     },
     "metadata": {},
     "output_type": "display_data"
    },
    {
     "data": {
      "text/html": [
       "<b>Ключевые слова: </b>культура наука рассказывать понятие кандидат исторический каков доктор культурный сознание восприятие филологический феномен владимир личность"
      ],
      "text/plain": [
       "<IPython.core.display.HTML object>"
      ]
     },
     "metadata": {},
     "output_type": "display_data"
    },
    {
     "data": {
      "text/html": [
       "<ul><li><a href=\"http://postnauka.ru/video/11034\">http://postnauka.ru/video/11034</a></li><li><a href=\"http://postnauka.ru/video/10749\">http://postnauka.ru/video/10749</a></li><li><a href=\"http://postnauka.ru/video/7549\">http://postnauka.ru/video/7549</a></li><li><a href=\"http://postnauka.ru/video/5891\">http://postnauka.ru/video/5891</a></li><li><a href=\"http://postnauka.ru/video/3602\">http://postnauka.ru/video/3602</a></li><li><a href=\"http://postnauka.ru/video/7757\">http://postnauka.ru/video/7757</a></li><li><a href=\"http://postnauka.ru/video/12524\">http://postnauka.ru/video/12524</a></li><li><a href=\"http://postnauka.ru/video/7351\">http://postnauka.ru/video/7351</a></li><li><a href=\"http://postnauka.ru/video/7065\">http://postnauka.ru/video/7065</a></li><li><a href=\"http://postnauka.ru/video/2524\">http://postnauka.ru/video/2524</a></li></ul>"
      ],
      "text/plain": [
       "<IPython.core.display.HTML object>"
      ]
     },
     "metadata": {},
     "output_type": "display_data"
    },
    {
     "data": {
      "text/html": [
       "<h1>право</h1>"
      ],
      "text/plain": [
       "<IPython.core.display.HTML object>"
      ]
     },
     "metadata": {},
     "output_type": "display_data"
    },
    {
     "data": {
      "text/html": [
       "<b>Ключевые слова: </b>право правовой римский юрист искусство суд юридический должник собственность обязательство договор владение собственник исполнение имущество"
      ],
      "text/plain": [
       "<IPython.core.display.HTML object>"
      ]
     },
     "metadata": {},
     "output_type": "display_data"
    },
    {
     "data": {
      "text/html": [
       "<ul><li><a href=\"http://postnauka.ru/video/17913\">http://postnauka.ru/video/17913</a></li><li><a href=\"http://postnauka.ru/video/31688\">http://postnauka.ru/video/31688</a></li><li><a href=\"http://postnauka.ru/video/17825\">http://postnauka.ru/video/17825</a></li><li><a href=\"http://postnauka.ru/video/38009\">http://postnauka.ru/video/38009</a></li><li><a href=\"http://postnauka.ru/video/34414\">http://postnauka.ru/video/34414</a></li><li><a href=\"http://postnauka.ru/video/49455\">http://postnauka.ru/video/49455</a></li><li><a href=\"http://postnauka.ru/video/42221\">http://postnauka.ru/video/42221</a></li><li><a href=\"http://postnauka.ru/video/31666\">http://postnauka.ru/video/31666</a></li><li><a href=\"http://postnauka.ru/video/16822\">http://postnauka.ru/video/16822</a></li><li><a href=\"http://postnauka.ru/video/42220\">http://postnauka.ru/video/42220</a></li></ul>"
      ],
      "text/plain": [
       "<IPython.core.display.HTML object>"
      ]
     },
     "metadata": {},
     "output_type": "display_data"
    },
    {
     "data": {
      "text/html": [
       "<h1>материал</h1>"
      ],
      "text/plain": [
       "<IPython.core.display.HTML object>"
      ]
     },
     "metadata": {},
     "output_type": "display_data"
    },
    {
     "data": {
      "text/html": [
       "<b>Ключевые слова: </b>материал свет оптический полимер применение импульс поверхность электронный использование лазерный углеродный прибор электроника бор трехмерный"
      ],
      "text/plain": [
       "<IPython.core.display.HTML object>"
      ]
     },
     "metadata": {},
     "output_type": "display_data"
    },
    {
     "data": {
      "text/html": [
       "<ul><li><a href=\"http://postnauka.ru/video/35065\">http://postnauka.ru/video/35065</a></li><li><a href=\"http://postnauka.ru/video/36187\">http://postnauka.ru/video/36187</a></li><li><a href=\"http://postnauka.ru/video/36655\">http://postnauka.ru/video/36655</a></li><li><a href=\"http://postnauka.ru/video/59579\">http://postnauka.ru/video/59579</a></li><li><a href=\"http://postnauka.ru/video/41686\">http://postnauka.ru/video/41686</a></li><li><a href=\"http://postnauka.ru/video/47818\">http://postnauka.ru/video/47818</a></li><li><a href=\"http://postnauka.ru/video/31182\">http://postnauka.ru/video/31182</a></li><li><a href=\"http://postnauka.ru/video/9144\">http://postnauka.ru/video/9144</a></li><li><a href=\"http://postnauka.ru/video/10379\">http://postnauka.ru/video/10379</a></li><li><a href=\"http://postnauka.ru/video/36490\">http://postnauka.ru/video/36490</a></li></ul>"
      ],
      "text/plain": [
       "<IPython.core.display.HTML object>"
      ]
     },
     "metadata": {},
     "output_type": "display_data"
    },
    {
     "data": {
      "text/html": [
       "<h1>литература</h1>"
      ],
      "text/plain": [
       "<IPython.core.display.HTML object>"
      ]
     },
     "metadata": {},
     "output_type": "display_data"
    },
    {
     "data": {
      "text/html": [
       "<b>Ключевые слова: </b>литература фильм текст литературный кино произведение автор герой жанр кинематограф поэт анекдот писатель читатель культовый"
      ],
      "text/plain": [
       "<IPython.core.display.HTML object>"
      ]
     },
     "metadata": {},
     "output_type": "display_data"
    },
    {
     "data": {
      "text/html": [
       "<ul><li><a href=\"http://postnauka.ru/video/14297\">http://postnauka.ru/video/14297</a></li><li><a href=\"http://postnauka.ru/video/39723\">http://postnauka.ru/video/39723</a></li><li><a href=\"http://postnauka.ru/video/7551\">http://postnauka.ru/video/7551</a></li><li><a href=\"http://postnauka.ru/video/10759\">http://postnauka.ru/video/10759</a></li><li><a href=\"http://postnauka.ru/video/2946\">http://postnauka.ru/video/2946</a></li><li><a href=\"http://postnauka.ru/video/57127\">http://postnauka.ru/video/57127</a></li><li><a href=\"http://postnauka.ru/video/13541\">http://postnauka.ru/video/13541</a></li><li><a href=\"http://postnauka.ru/video/52416\">http://postnauka.ru/video/52416</a></li><li><a href=\"http://postnauka.ru/video/38510\">http://postnauka.ru/video/38510</a></li><li><a href=\"http://postnauka.ru/video/42807\">http://postnauka.ru/video/42807</a></li></ul>"
      ],
      "text/plain": [
       "<IPython.core.display.HTML object>"
      ]
     },
     "metadata": {},
     "output_type": "display_data"
    },
    {
     "data": {
      "text/html": [
       "<h1>смерть</h1>"
      ],
      "text/plain": [
       "<IPython.core.display.HTML object>"
      ]
     },
     "metadata": {},
     "output_type": "display_data"
    },
    {
     "data": {
      "text/html": [
       "<b>Ключевые слова: </b>смерть ритуал диктатура государь обряд правитель конвент орден террор монтаньяр баратынский подданный насилие похоронный якобинский"
      ],
      "text/plain": [
       "<IPython.core.display.HTML object>"
      ]
     },
     "metadata": {},
     "output_type": "display_data"
    },
    {
     "data": {
      "text/html": [
       "<ul><li><a href=\"http://postnauka.ru/video/1893\">http://postnauka.ru/video/1893</a></li><li><a href=\"http://postnauka.ru/video/1899\">http://postnauka.ru/video/1899</a></li><li><a href=\"http://postnauka.ru/video/12374\">http://postnauka.ru/video/12374</a></li><li><a href=\"http://postnauka.ru/video/34963\">http://postnauka.ru/video/34963</a></li><li><a href=\"http://postnauka.ru/video/41680\">http://postnauka.ru/video/41680</a></li><li><a href=\"http://postnauka.ru/video/19472\">http://postnauka.ru/video/19472</a></li><li><a href=\"http://postnauka.ru/video/37958\">http://postnauka.ru/video/37958</a></li><li><a href=\"http://postnauka.ru/video/48480\">http://postnauka.ru/video/48480</a></li><li><a href=\"http://postnauka.ru/video/37992\">http://postnauka.ru/video/37992</a></li><li><a href=\"http://postnauka.ru/video/32882\">http://postnauka.ru/video/32882</a></li></ul>"
      ],
      "text/plain": [
       "<IPython.core.display.HTML object>"
      ]
     },
     "metadata": {},
     "output_type": "display_data"
    },
    {
     "data": {
      "text/html": [
       "<h1>структура</h1>"
      ],
      "text/plain": [
       "<IPython.core.display.HTML object>"
      ]
     },
     "metadata": {},
     "output_type": "display_data"
    },
    {
     "data": {
      "text/html": [
       "<b>Ключевые слова: </b>структура вещество химический соединение химия давление углерод реакция металл органический кристалл водород алмаз кристаллический кислород"
      ],
      "text/plain": [
       "<IPython.core.display.HTML object>"
      ]
     },
     "metadata": {},
     "output_type": "display_data"
    },
    {
     "data": {
      "text/html": [
       "<ul><li><a href=\"http://postnauka.ru/video/8953\">http://postnauka.ru/video/8953</a></li><li><a href=\"http://postnauka.ru/video/48107\">http://postnauka.ru/video/48107</a></li><li><a href=\"http://postnauka.ru/video/18048\">http://postnauka.ru/video/18048</a></li><li><a href=\"http://postnauka.ru/video/51490\">http://postnauka.ru/video/51490</a></li><li><a href=\"http://postnauka.ru/video/32668\">http://postnauka.ru/video/32668</a></li><li><a href=\"http://postnauka.ru/video/13700\">http://postnauka.ru/video/13700</a></li><li><a href=\"http://postnauka.ru/video/19086\">http://postnauka.ru/video/19086</a></li><li><a href=\"http://postnauka.ru/video/16171\">http://postnauka.ru/video/16171</a></li><li><a href=\"http://postnauka.ru/video/23253\">http://postnauka.ru/video/23253</a></li><li><a href=\"http://postnauka.ru/video/3645\">http://postnauka.ru/video/3645</a></li></ul>"
      ],
      "text/plain": [
       "<IPython.core.display.HTML object>"
      ]
     },
     "metadata": {},
     "output_type": "display_data"
    },
    {
     "data": {
      "text/html": [
       "<h1>частица</h1>"
      ],
      "text/plain": [
       "<IPython.core.display.HTML object>"
      ]
     },
     "metadata": {},
     "output_type": "display_data"
    },
    {
     "data": {
      "text/html": [
       "<b>Ключевые слова: </b>частица энергия квантовый поле физика атом взаимодействие магнитный электрон кварк теория симметрия фотон элементарный нейтрино"
      ],
      "text/plain": [
       "<IPython.core.display.HTML object>"
      ]
     },
     "metadata": {},
     "output_type": "display_data"
    },
    {
     "data": {
      "text/html": [
       "<ul><li><a href=\"http://postnauka.ru/video/13043\">http://postnauka.ru/video/13043</a></li><li><a href=\"http://postnauka.ru/video/18870\">http://postnauka.ru/video/18870</a></li><li><a href=\"http://postnauka.ru/video/22760\">http://postnauka.ru/video/22760</a></li><li><a href=\"http://postnauka.ru/video/2945\">http://postnauka.ru/video/2945</a></li><li><a href=\"http://postnauka.ru/video/18873\">http://postnauka.ru/video/18873</a></li><li><a href=\"http://postnauka.ru/video/14283\">http://postnauka.ru/video/14283</a></li><li><a href=\"http://postnauka.ru/video/7753\">http://postnauka.ru/video/7753</a></li><li><a href=\"http://postnauka.ru/video/7311\">http://postnauka.ru/video/7311</a></li><li><a href=\"http://postnauka.ru/video/19457\">http://postnauka.ru/video/19457</a></li><li><a href=\"http://postnauka.ru/video/11651\">http://postnauka.ru/video/11651</a></li></ul>"
      ],
      "text/plain": [
       "<IPython.core.display.HTML object>"
      ]
     },
     "metadata": {},
     "output_type": "display_data"
    },
    {
     "data": {
      "text/html": [
       "<h1>война</h1>"
      ],
      "text/plain": [
       "<IPython.core.display.HTML object>"
      ]
     },
     "metadata": {},
     "output_type": "display_data"
    },
    {
     "data": {
      "text/html": [
       "<b>Ключевые слова: </b>война россия советский русский власть российский германия мировой реформа историк петр немецкий против гражданский военный"
      ],
      "text/plain": [
       "<IPython.core.display.HTML object>"
      ]
     },
     "metadata": {},
     "output_type": "display_data"
    },
    {
     "data": {
      "text/html": [
       "<ul><li><a href=\"http://postnauka.ru/video/19574\">http://postnauka.ru/video/19574</a></li><li><a href=\"http://postnauka.ru/video/46939\">http://postnauka.ru/video/46939</a></li><li><a href=\"http://postnauka.ru/video/25906\">http://postnauka.ru/video/25906</a></li><li><a href=\"http://postnauka.ru/video/31183\">http://postnauka.ru/video/31183</a></li><li><a href=\"http://postnauka.ru/video/35041\">http://postnauka.ru/video/35041</a></li><li><a href=\"http://postnauka.ru/video/36246\">http://postnauka.ru/video/36246</a></li><li><a href=\"http://postnauka.ru/video/34936\">http://postnauka.ru/video/34936</a></li><li><a href=\"http://postnauka.ru/video/25283\">http://postnauka.ru/video/25283</a></li><li><a href=\"http://postnauka.ru/video/52936\">http://postnauka.ru/video/52936</a></li><li><a href=\"http://postnauka.ru/video/36581\">http://postnauka.ru/video/36581</a></li></ul>"
      ],
      "text/plain": [
       "<IPython.core.display.HTML object>"
      ]
     },
     "metadata": {},
     "output_type": "display_data"
    },
    {
     "data": {
      "text/html": [
       "<h1>ребенок</h1>"
      ],
      "text/plain": [
       "<IPython.core.display.HTML object>"
      ]
     },
     "metadata": {},
     "output_type": "display_data"
    },
    {
     "data": {
      "text/html": [
       "<b>Ключевые слова: </b>ребенок женщина семья мужчина возраст взрослый сон мать родитель старение конфликт женский травма катастрофа идентичность"
      ],
      "text/plain": [
       "<IPython.core.display.HTML object>"
      ]
     },
     "metadata": {},
     "output_type": "display_data"
    },
    {
     "data": {
      "text/html": [
       "<ul><li><a href=\"http://postnauka.ru/video/22892\">http://postnauka.ru/video/22892</a></li><li><a href=\"http://postnauka.ru/video/11361\">http://postnauka.ru/video/11361</a></li><li><a href=\"http://postnauka.ru/video/30678\">http://postnauka.ru/video/30678</a></li><li><a href=\"http://postnauka.ru/video/10753\">http://postnauka.ru/video/10753</a></li><li><a href=\"http://postnauka.ru/video/59638\">http://postnauka.ru/video/59638</a></li><li><a href=\"http://postnauka.ru/video/31220\">http://postnauka.ru/video/31220</a></li><li><a href=\"http://postnauka.ru/video/60527\">http://postnauka.ru/video/60527</a></li><li><a href=\"http://postnauka.ru/video/52948\">http://postnauka.ru/video/52948</a></li><li><a href=\"http://postnauka.ru/video/40266\">http://postnauka.ru/video/40266</a></li><li><a href=\"http://postnauka.ru/video/57866\">http://postnauka.ru/video/57866</a></li></ul>"
      ],
      "text/plain": [
       "<IPython.core.display.HTML object>"
      ]
     },
     "metadata": {},
     "output_type": "display_data"
    },
    {
     "data": {
      "text/html": [
       "<h1>мозг</h1>"
      ],
      "text/plain": [
       "<IPython.core.display.HTML object>"
      ]
     },
     "metadata": {},
     "output_type": "display_data"
    },
    {
     "data": {
      "text/html": [
       "<b>Ключевые слова: </b>мозг животное нейрон растение эволюция отбор озеро эволюционный песня сердце популяция мышца птица нейронный сигнал"
      ],
      "text/plain": [
       "<IPython.core.display.HTML object>"
      ]
     },
     "metadata": {},
     "output_type": "display_data"
    },
    {
     "data": {
      "text/html": [
       "<ul><li><a href=\"http://postnauka.ru/video/25097\">http://postnauka.ru/video/25097</a></li><li><a href=\"http://postnauka.ru/video/34413\">http://postnauka.ru/video/34413</a></li><li><a href=\"http://postnauka.ru/video/16821\">http://postnauka.ru/video/16821</a></li><li><a href=\"http://postnauka.ru/video/18007\">http://postnauka.ru/video/18007</a></li><li><a href=\"http://postnauka.ru/video/25890\">http://postnauka.ru/video/25890</a></li><li><a href=\"http://postnauka.ru/video/30261\">http://postnauka.ru/video/30261</a></li><li><a href=\"http://postnauka.ru/video/36350\">http://postnauka.ru/video/36350</a></li><li><a href=\"http://postnauka.ru/video/25321\">http://postnauka.ru/video/25321</a></li><li><a href=\"http://postnauka.ru/video/22077\">http://postnauka.ru/video/22077</a></li><li><a href=\"http://postnauka.ru/video/23172\">http://postnauka.ru/video/23172</a></li></ul>"
      ],
      "text/plain": [
       "<IPython.core.display.HTML object>"
      ]
     },
     "metadata": {},
     "output_type": "display_data"
    },
    {
     "data": {
      "text/html": [
       "<h1>территория</h1>"
      ],
      "text/plain": [
       "<IPython.core.display.HTML object>"
      ]
     },
     "metadata": {},
     "output_type": "display_data"
    },
    {
     "data": {
      "text/html": [
       "<b>Ключевые слова: </b>территория христианский империя восток народ древний письменность христианство государство памятник цивилизация традиция китай восточный северный"
      ],
      "text/plain": [
       "<IPython.core.display.HTML object>"
      ]
     },
     "metadata": {},
     "output_type": "display_data"
    },
    {
     "data": {
      "text/html": [
       "<ul><li><a href=\"http://postnauka.ru/video/53171\">http://postnauka.ru/video/53171</a></li><li><a href=\"http://postnauka.ru/video/2527\">http://postnauka.ru/video/2527</a></li><li><a href=\"http://postnauka.ru/video/50071\">http://postnauka.ru/video/50071</a></li><li><a href=\"http://postnauka.ru/video/59201\">http://postnauka.ru/video/59201</a></li><li><a href=\"http://postnauka.ru/video/58742\">http://postnauka.ru/video/58742</a></li><li><a href=\"http://postnauka.ru/video/50066\">http://postnauka.ru/video/50066</a></li><li><a href=\"http://postnauka.ru/video/49203\">http://postnauka.ru/video/49203</a></li><li><a href=\"http://postnauka.ru/video/48959\">http://postnauka.ru/video/48959</a></li><li><a href=\"http://postnauka.ru/video/10751\">http://postnauka.ru/video/10751</a></li><li><a href=\"http://postnauka.ru/video/46313\">http://postnauka.ru/video/46313</a></li></ul>"
      ],
      "text/plain": [
       "<IPython.core.display.HTML object>"
      ]
     },
     "metadata": {},
     "output_type": "display_data"
    },
    {
     "data": {
      "text/html": [
       "<h1>звезда</h1>"
      ],
      "text/plain": [
       "<IPython.core.display.HTML object>"
      ]
     },
     "metadata": {},
     "output_type": "display_data"
    },
    {
     "data": {
      "text/html": [
       "<b>Ключевые слова: </b>звезда галактика масса вселенная черный дыра волна излучение скорость телескоп объект расстояние диск скопление гравитационный"
      ],
      "text/plain": [
       "<IPython.core.display.HTML object>"
      ]
     },
     "metadata": {},
     "output_type": "display_data"
    },
    {
     "data": {
      "text/html": [
       "<ul><li><a href=\"http://postnauka.ru/video/31193\">http://postnauka.ru/video/31193</a></li><li><a href=\"http://postnauka.ru/video/17780\">http://postnauka.ru/video/17780</a></li><li><a href=\"http://postnauka.ru/video/2971\">http://postnauka.ru/video/2971</a></li><li><a href=\"http://postnauka.ru/video/45644\">http://postnauka.ru/video/45644</a></li><li><a href=\"http://postnauka.ru/video/48109\">http://postnauka.ru/video/48109</a></li><li><a href=\"http://postnauka.ru/video/30015\">http://postnauka.ru/video/30015</a></li><li><a href=\"http://postnauka.ru/video/57338\">http://postnauka.ru/video/57338</a></li><li><a href=\"http://postnauka.ru/video/17779\">http://postnauka.ru/video/17779</a></li><li><a href=\"http://postnauka.ru/video/23506\">http://postnauka.ru/video/23506</a></li><li><a href=\"http://postnauka.ru/video/23502\">http://postnauka.ru/video/23502</a></li></ul>"
      ],
      "text/plain": [
       "<IPython.core.display.HTML object>"
      ]
     },
     "metadata": {},
     "output_type": "display_data"
    },
    {
     "data": {
      "text/html": [
       "<h1>задача</h1>"
      ],
      "text/plain": [
       "<IPython.core.display.HTML object>"
      ]
     },
     "metadata": {},
     "output_type": "display_data"
    },
    {
     "data": {
      "text/html": [
       "<b>Ключевые слова: </b>задача информация память решение данные компьютер психология мышление когнитивный внимание психолог ошибка компьютерный зрительный психологический"
      ],
      "text/plain": [
       "<IPython.core.display.HTML object>"
      ]
     },
     "metadata": {},
     "output_type": "display_data"
    },
    {
     "data": {
      "text/html": [
       "<ul><li><a href=\"http://postnauka.ru/video/56052\">http://postnauka.ru/video/56052</a></li><li><a href=\"http://postnauka.ru/video/24451\">http://postnauka.ru/video/24451</a></li><li><a href=\"http://postnauka.ru/video/24182\">http://postnauka.ru/video/24182</a></li><li><a href=\"http://postnauka.ru/video/5181\">http://postnauka.ru/video/5181</a></li><li><a href=\"http://postnauka.ru/video/26633\">http://postnauka.ru/video/26633</a></li><li><a href=\"http://postnauka.ru/video/57336\">http://postnauka.ru/video/57336</a></li><li><a href=\"http://postnauka.ru/video/53949\">http://postnauka.ru/video/53949</a></li><li><a href=\"http://postnauka.ru/video/19577\">http://postnauka.ru/video/19577</a></li><li><a href=\"http://postnauka.ru/video/17421\">http://postnauka.ru/video/17421</a></li><li><a href=\"http://postnauka.ru/video/34960\">http://postnauka.ru/video/34960</a></li></ul>"
      ],
      "text/plain": [
       "<IPython.core.display.HTML object>"
      ]
     },
     "metadata": {},
     "output_type": "display_data"
    },
    {
     "data": {
      "text/html": [
       "<h1>раса</h1>"
      ],
      "text/plain": [
       "<IPython.core.display.HTML object>"
      ]
     },
     "metadata": {},
     "output_type": "display_data"
    },
    {
     "data": {
      "text/html": [
       "<b>Ключевые слова: </b>раса океан африка остров америка южный станислав географический монголоид дробышевский индия вакцина нос штамм индеец"
      ],
      "text/plain": [
       "<IPython.core.display.HTML object>"
      ]
     },
     "metadata": {},
     "output_type": "display_data"
    },
    {
     "data": {
      "text/html": [
       "<ul><li><a href=\"http://postnauka.ru/video/17397\">http://postnauka.ru/video/17397</a></li><li><a href=\"http://postnauka.ru/video/31707\">http://postnauka.ru/video/31707</a></li><li><a href=\"http://postnauka.ru/video/37732\">http://postnauka.ru/video/37732</a></li><li><a href=\"http://postnauka.ru/video/49262\">http://postnauka.ru/video/49262</a></li><li><a href=\"http://postnauka.ru/video/32898\">http://postnauka.ru/video/32898</a></li><li><a href=\"http://postnauka.ru/video/42735\">http://postnauka.ru/video/42735</a></li><li><a href=\"http://postnauka.ru/video/42707\">http://postnauka.ru/video/42707</a></li><li><a href=\"http://postnauka.ru/video/35150\">http://postnauka.ru/video/35150</a></li><li><a href=\"http://postnauka.ru/video/40880\">http://postnauka.ru/video/40880</a></li><li><a href=\"http://postnauka.ru/video/36253\">http://postnauka.ru/video/36253</a></li></ul>"
      ],
      "text/plain": [
       "<IPython.core.display.HTML object>"
      ]
     },
     "metadata": {},
     "output_type": "display_data"
    },
    {
     "data": {
      "text/html": [
       "<h1>философия</h1>"
      ],
      "text/plain": [
       "<IPython.core.display.HTML object>"
      ]
     },
     "metadata": {},
     "output_type": "display_data"
    },
    {
     "data": {
      "text/html": [
       "<b>Ключевые слова: </b>политический философия государство философский философ свобода идеология платон мысль враг критика партия чтение шмитт дух"
      ],
      "text/plain": [
       "<IPython.core.display.HTML object>"
      ]
     },
     "metadata": {},
     "output_type": "display_data"
    },
    {
     "data": {
      "text/html": [
       "<ul><li><a href=\"http://postnauka.ru/video/12738\">http://postnauka.ru/video/12738</a></li><li><a href=\"http://postnauka.ru/video/3418\">http://postnauka.ru/video/3418</a></li><li><a href=\"http://postnauka.ru/video/32906\">http://postnauka.ru/video/32906</a></li><li><a href=\"http://postnauka.ru/video/37965\">http://postnauka.ru/video/37965</a></li><li><a href=\"http://postnauka.ru/video/53513\">http://postnauka.ru/video/53513</a></li><li><a href=\"http://postnauka.ru/video/42088\">http://postnauka.ru/video/42088</a></li><li><a href=\"http://postnauka.ru/video/2526\">http://postnauka.ru/video/2526</a></li><li><a href=\"http://postnauka.ru/video/36976\">http://postnauka.ru/video/36976</a></li><li><a href=\"http://postnauka.ru/video/9728\">http://postnauka.ru/video/9728</a></li><li><a href=\"http://postnauka.ru/video/31690\">http://postnauka.ru/video/31690</a></li></ul>"
      ],
      "text/plain": [
       "<IPython.core.display.HTML object>"
      ]
     },
     "metadata": {},
     "output_type": "display_data"
    },
    {
     "data": {
      "text/html": [
       "<h1>язык</h1>"
      ],
      "text/plain": [
       "<IPython.core.display.HTML object>"
      ]
     },
     "metadata": {},
     "output_type": "display_data"
    },
    {
     "data": {
      "text/html": [
       "<b>Ключевые слова: </b>язык слово русский словарь текст предложение лингвист значение категория глагол корпус перевод лингвистика языковой грамматика"
      ],
      "text/plain": [
       "<IPython.core.display.HTML object>"
      ]
     },
     "metadata": {},
     "output_type": "display_data"
    },
    {
     "data": {
      "text/html": [
       "<ul><li><a href=\"http://postnauka.ru/video/22433\">http://postnauka.ru/video/22433</a></li><li><a href=\"http://postnauka.ru/video/36272\">http://postnauka.ru/video/36272</a></li><li><a href=\"http://postnauka.ru/video/3403\">http://postnauka.ru/video/3403</a></li><li><a href=\"http://postnauka.ru/video/2961\">http://postnauka.ru/video/2961</a></li><li><a href=\"http://postnauka.ru/video/1898\">http://postnauka.ru/video/1898</a></li><li><a href=\"http://postnauka.ru/video/51374\">http://postnauka.ru/video/51374</a></li><li><a href=\"http://postnauka.ru/video/53644\">http://postnauka.ru/video/53644</a></li><li><a href=\"http://postnauka.ru/video/56616\">http://postnauka.ru/video/56616</a></li><li><a href=\"http://postnauka.ru/video/30017\">http://postnauka.ru/video/30017</a></li><li><a href=\"http://postnauka.ru/video/51499\">http://postnauka.ru/video/51499</a></li></ul>"
      ],
      "text/plain": [
       "<IPython.core.display.HTML object>"
      ]
     },
     "metadata": {},
     "output_type": "display_data"
    },
    {
     "data": {
      "text/html": [
       "<h1>революция</h1>"
      ],
      "text/plain": [
       "<IPython.core.display.HTML object>"
      ]
     },
     "metadata": {},
     "output_type": "display_data"
    },
    {
     "data": {
      "text/html": [
       "<b>Ключевые слова: </b>революция французский франция театр король роман костюм нация национальный актер аргумент депутат конституция париж монархия"
      ],
      "text/plain": [
       "<IPython.core.display.HTML object>"
      ]
     },
     "metadata": {},
     "output_type": "display_data"
    },
    {
     "data": {
      "text/html": [
       "<ul><li><a href=\"http://postnauka.ru/video/24279\">http://postnauka.ru/video/24279</a></li><li><a href=\"http://postnauka.ru/video/48492\">http://postnauka.ru/video/48492</a></li><li><a href=\"http://postnauka.ru/video/40004\">http://postnauka.ru/video/40004</a></li><li><a href=\"http://postnauka.ru/video/47823\">http://postnauka.ru/video/47823</a></li><li><a href=\"http://postnauka.ru/video/43843\">http://postnauka.ru/video/43843</a></li><li><a href=\"http://postnauka.ru/video/54175\">http://postnauka.ru/video/54175</a></li><li><a href=\"http://postnauka.ru/video/48455\">http://postnauka.ru/video/48455</a></li><li><a href=\"http://postnauka.ru/video/58542\">http://postnauka.ru/video/58542</a></li><li><a href=\"http://postnauka.ru/video/22079\">http://postnauka.ru/video/22079</a></li><li><a href=\"http://postnauka.ru/video/23470\">http://postnauka.ru/video/23470</a></li></ul>"
      ],
      "text/plain": [
       "<IPython.core.display.HTML object>"
      ]
     },
     "metadata": {},
     "output_type": "display_data"
    },
    {
     "data": {
      "text/html": [
       "<h1>город</h1>"
      ],
      "text/plain": [
       "<IPython.core.display.HTML object>"
      ]
     },
     "metadata": {},
     "output_type": "display_data"
    },
    {
     "data": {
      "text/html": [
       "<b>Ключевые слова: </b>город сеть робот городской интернет пользователь компания музей медиа горожанин технология программный библиотека метро цифровой"
      ],
      "text/plain": [
       "<IPython.core.display.HTML object>"
      ]
     },
     "metadata": {},
     "output_type": "display_data"
    },
    {
     "data": {
      "text/html": [
       "<ul><li><a href=\"http://postnauka.ru/video/13742\">http://postnauka.ru/video/13742</a></li><li><a href=\"http://postnauka.ru/video/12515\">http://postnauka.ru/video/12515</a></li><li><a href=\"http://postnauka.ru/video/11634\">http://postnauka.ru/video/11634</a></li><li><a href=\"http://postnauka.ru/video/34424\">http://postnauka.ru/video/34424</a></li><li><a href=\"http://postnauka.ru/video/9998\">http://postnauka.ru/video/9998</a></li><li><a href=\"http://postnauka.ru/video/7068\">http://postnauka.ru/video/7068</a></li><li><a href=\"http://postnauka.ru/video/17604\">http://postnauka.ru/video/17604</a></li><li><a href=\"http://postnauka.ru/video/47301\">http://postnauka.ru/video/47301</a></li><li><a href=\"http://postnauka.ru/video/8313\">http://postnauka.ru/video/8313</a></li><li><a href=\"http://postnauka.ru/video/25253\">http://postnauka.ru/video/25253</a></li></ul>"
      ],
      "text/plain": [
       "<IPython.core.display.HTML object>"
      ]
     },
     "metadata": {},
     "output_type": "display_data"
    },
    {
     "data": {
      "text/html": [
       "<h1>болезнь</h1>"
      ],
      "text/plain": [
       "<IPython.core.display.HTML object>"
      ]
     },
     "metadata": {},
     "output_type": "display_data"
    },
    {
     "data": {
      "text/html": [
       "<b>Ключевые слова: </b>болезнь заболевание пациент лечение медицина врач боль препарат медицинский операция лекарство опухоль рак кровь нарушение"
      ],
      "text/plain": [
       "<IPython.core.display.HTML object>"
      ]
     },
     "metadata": {},
     "output_type": "display_data"
    },
    {
     "data": {
      "text/html": [
       "<ul><li><a href=\"http://postnauka.ru/video/2541\">http://postnauka.ru/video/2541</a></li><li><a href=\"http://postnauka.ru/video/54325\">http://postnauka.ru/video/54325</a></li><li><a href=\"http://postnauka.ru/video/12974\">http://postnauka.ru/video/12974</a></li><li><a href=\"http://postnauka.ru/video/49206\">http://postnauka.ru/video/49206</a></li><li><a href=\"http://postnauka.ru/video/13746\">http://postnauka.ru/video/13746</a></li><li><a href=\"http://postnauka.ru/video/45961\">http://postnauka.ru/video/45961</a></li><li><a href=\"http://postnauka.ru/video/532\">http://postnauka.ru/video/532</a></li><li><a href=\"http://postnauka.ru/video/51384\">http://postnauka.ru/video/51384</a></li><li><a href=\"http://postnauka.ru/video/27925\">http://postnauka.ru/video/27925</a></li><li><a href=\"http://postnauka.ru/video/17049\">http://postnauka.ru/video/17049</a></li></ul>"
      ],
      "text/plain": [
       "<IPython.core.display.HTML object>"
      ]
     },
     "metadata": {},
     "output_type": "display_data"
    },
    {
     "data": {
      "text/html": [
       "<h1>знание</h1>"
      ],
      "text/plain": [
       "<IPython.core.display.HTML object>"
      ]
     },
     "metadata": {},
     "output_type": "display_data"
    },
    {
     "data": {
      "text/html": [
       "<b>Ключевые слова: </b>социальный знание социология социологический дисциплина познание социолог повседневный виктор машинный обучение общественный концепт повседневность фрейм"
      ],
      "text/plain": [
       "<IPython.core.display.HTML object>"
      ]
     },
     "metadata": {},
     "output_type": "display_data"
    },
    {
     "data": {
      "text/html": [
       "<ul><li><a href=\"http://postnauka.ru/video/10783\">http://postnauka.ru/video/10783</a></li><li><a href=\"http://postnauka.ru/video/434\">http://postnauka.ru/video/434</a></li><li><a href=\"http://postnauka.ru/video/12083\">http://postnauka.ru/video/12083</a></li><li><a href=\"http://postnauka.ru/video/17491\">http://postnauka.ru/video/17491</a></li><li><a href=\"http://postnauka.ru/video/6380\">http://postnauka.ru/video/6380</a></li><li><a href=\"http://postnauka.ru/video/20720\">http://postnauka.ru/video/20720</a></li><li><a href=\"http://postnauka.ru/video/2530\">http://postnauka.ru/video/2530</a></li><li><a href=\"http://postnauka.ru/video/3628\">http://postnauka.ru/video/3628</a></li><li><a href=\"http://postnauka.ru/video/11640\">http://postnauka.ru/video/11640</a></li><li><a href=\"http://postnauka.ru/video/14295\">http://postnauka.ru/video/14295</a></li></ul>"
      ],
      "text/plain": [
       "<IPython.core.display.HTML object>"
      ]
     },
     "metadata": {},
     "output_type": "display_data"
    },
    {
     "data": {
      "text/html": [
       "<h1>микроорганизм</h1>"
      ],
      "text/plain": [
       "<IPython.core.display.HTML object>"
      ]
     },
     "metadata": {},
     "output_type": "display_data"
    },
    {
     "data": {
      "text/html": [
       "<b>Ключевые слова: </b>микроорганизм матрица интеллект эмоция алгоритм вычислительный эмоциональный схема искусственный микроб глубина хищник микробный многоклеточный экология"
      ],
      "text/plain": [
       "<IPython.core.display.HTML object>"
      ]
     },
     "metadata": {},
     "output_type": "display_data"
    },
    {
     "data": {
      "text/html": [
       "<ul><li><a href=\"http://postnauka.ru/video/31671\">http://postnauka.ru/video/31671</a></li><li><a href=\"http://postnauka.ru/video/2531\">http://postnauka.ru/video/2531</a></li><li><a href=\"http://postnauka.ru/video/49437\">http://postnauka.ru/video/49437</a></li><li><a href=\"http://postnauka.ru/video/42416\">http://postnauka.ru/video/42416</a></li><li><a href=\"http://postnauka.ru/video/15981\">http://postnauka.ru/video/15981</a></li><li><a href=\"http://postnauka.ru/video/52738\">http://postnauka.ru/video/52738</a></li><li><a href=\"http://postnauka.ru/video/33788\">http://postnauka.ru/video/33788</a></li><li><a href=\"http://postnauka.ru/video/3352\">http://postnauka.ru/video/3352</a></li><li><a href=\"http://postnauka.ru/video/34964\">http://postnauka.ru/video/34964</a></li><li><a href=\"http://postnauka.ru/video/38018\">http://postnauka.ru/video/38018</a></li></ul>"
      ],
      "text/plain": [
       "<IPython.core.display.HTML object>"
      ]
     },
     "metadata": {},
     "output_type": "display_data"
    },
    {
     "data": {
      "text/html": [
       "<h1>бог</h1>"
      ],
      "text/plain": [
       "<IPython.core.display.HTML object>"
      ]
     },
     "metadata": {},
     "output_type": "display_data"
    },
    {
     "data": {
      "text/html": [
       "<b>Ключевые слова: </b>бог миф царь греческий море мифология душа грек андрей египетский египет мифологический фольклор гусейнов божество"
      ],
      "text/plain": [
       "<IPython.core.display.HTML object>"
      ]
     },
     "metadata": {},
     "output_type": "display_data"
    },
    {
     "data": {
      "text/html": [
       "<ul><li><a href=\"http://postnauka.ru/video/10779\">http://postnauka.ru/video/10779</a></li><li><a href=\"http://postnauka.ru/video/9997\">http://postnauka.ru/video/9997</a></li><li><a href=\"http://postnauka.ru/video/12527\">http://postnauka.ru/video/12527</a></li><li><a href=\"http://postnauka.ru/video/21631\">http://postnauka.ru/video/21631</a></li><li><a href=\"http://postnauka.ru/video/43664\">http://postnauka.ru/video/43664</a></li><li><a href=\"http://postnauka.ru/video/31580\">http://postnauka.ru/video/31580</a></li><li><a href=\"http://postnauka.ru/video/5999\">http://postnauka.ru/video/5999</a></li><li><a href=\"http://postnauka.ru/video/46429\">http://postnauka.ru/video/46429</a></li><li><a href=\"http://postnauka.ru/video/54238\">http://postnauka.ru/video/54238</a></li><li><a href=\"http://postnauka.ru/video/42796\">http://postnauka.ru/video/42796</a></li></ul>"
      ],
      "text/plain": [
       "<IPython.core.display.HTML object>"
      ]
     },
     "metadata": {},
     "output_type": "display_data"
    },
    {
     "data": {
      "text/html": [
       "<h1>звук</h1>"
      ],
      "text/plain": [
       "<IPython.core.display.HTML object>"
      ]
     },
     "metadata": {},
     "output_type": "display_data"
    },
    {
     "data": {
      "text/html": [
       "<b>Ключевые слова: </b>гласный согласный звук говор компилятор программирование мягкий диалект твердость столыпин древнерусский слог шахматы жест диалектный"
      ],
      "text/plain": [
       "<IPython.core.display.HTML object>"
      ]
     },
     "metadata": {},
     "output_type": "display_data"
    },
    {
     "data": {
      "text/html": [
       "<ul><li><a href=\"http://postnauka.ru/video/48114\">http://postnauka.ru/video/48114</a></li><li><a href=\"http://postnauka.ru/video/13041\">http://postnauka.ru/video/13041</a></li><li><a href=\"http://postnauka.ru/video/51171\">http://postnauka.ru/video/51171</a></li><li><a href=\"http://postnauka.ru/video/8964\">http://postnauka.ru/video/8964</a></li><li><a href=\"http://postnauka.ru/video/15341\">http://postnauka.ru/video/15341</a></li><li><a href=\"http://postnauka.ru/video/10773\">http://postnauka.ru/video/10773</a></li><li><a href=\"http://postnauka.ru/video/40001\">http://postnauka.ru/video/40001</a></li><li><a href=\"http://postnauka.ru/video/14284\">http://postnauka.ru/video/14284</a></li><li><a href=\"http://postnauka.ru/video/27944\">http://postnauka.ru/video/27944</a></li><li><a href=\"http://postnauka.ru/video/15343\">http://postnauka.ru/video/15343</a></li></ul>"
      ],
      "text/plain": [
       "<IPython.core.display.HTML object>"
      ]
     },
     "metadata": {},
     "output_type": "display_data"
    },
    {
     "data": {
      "text/html": [
       "<h1>страна</h1>"
      ],
      "text/plain": [
       "<IPython.core.display.HTML object>"
      ]
     },
     "metadata": {},
     "output_type": "display_data"
    },
    {
     "data": {
      "text/html": [
       "<b>Ключевые слова: </b>страна политика экономический экономика сталин кризис праздник крестьянин коллективный принятие государственный экономист прошлое благо деревня"
      ],
      "text/plain": [
       "<IPython.core.display.HTML object>"
      ]
     },
     "metadata": {},
     "output_type": "display_data"
    },
    {
     "data": {
      "text/html": [
       "<ul><li><a href=\"http://postnauka.ru/video/9389\">http://postnauka.ru/video/9389</a></li><li><a href=\"http://postnauka.ru/video/7781\">http://postnauka.ru/video/7781</a></li><li><a href=\"http://postnauka.ru/video/31684\">http://postnauka.ru/video/31684</a></li><li><a href=\"http://postnauka.ru/video/10380\">http://postnauka.ru/video/10380</a></li><li><a href=\"http://postnauka.ru/video/6758\">http://postnauka.ru/video/6758</a></li><li><a href=\"http://postnauka.ru/video/13152\">http://postnauka.ru/video/13152</a></li><li><a href=\"http://postnauka.ru/video/30601\">http://postnauka.ru/video/30601</a></li><li><a href=\"http://postnauka.ru/video/36242\">http://postnauka.ru/video/36242</a></li><li><a href=\"http://postnauka.ru/video/9429\">http://postnauka.ru/video/9429</a></li><li><a href=\"http://postnauka.ru/video/26616\">http://postnauka.ru/video/26616</a></li></ul>"
      ],
      "text/plain": [
       "<IPython.core.display.HTML object>"
      ]
     },
     "metadata": {},
     "output_type": "display_data"
    },
    {
     "data": {
      "text/html": [
       "<h1>клетка</h1>"
      ],
      "text/plain": [
       "<IPython.core.display.HTML object>"
      ]
     },
     "metadata": {},
     "output_type": "display_data"
    },
    {
     "data": {
      "text/html": [
       "<b>Ключевые слова: </b>клетка ген днк белок организм молекула биологический генетический геном бактерия рнк мутация молекулярный ткань вирус"
      ],
      "text/plain": [
       "<IPython.core.display.HTML object>"
      ]
     },
     "metadata": {},
     "output_type": "display_data"
    },
    {
     "data": {
      "text/html": [
       "<ul><li><a href=\"http://postnauka.ru/video/7113\">http://postnauka.ru/video/7113</a></li><li><a href=\"http://postnauka.ru/video/5915\">http://postnauka.ru/video/5915</a></li><li><a href=\"http://postnauka.ru/video/5390\">http://postnauka.ru/video/5390</a></li><li><a href=\"http://postnauka.ru/video/19436\">http://postnauka.ru/video/19436</a></li><li><a href=\"http://postnauka.ru/video/10754\">http://postnauka.ru/video/10754</a></li><li><a href=\"http://postnauka.ru/video/10475\">http://postnauka.ru/video/10475</a></li><li><a href=\"http://postnauka.ru/video/17051\">http://postnauka.ru/video/17051</a></li><li><a href=\"http://postnauka.ru/video/35051\">http://postnauka.ru/video/35051</a></li><li><a href=\"http://postnauka.ru/video/9854\">http://postnauka.ru/video/9854</a></li><li><a href=\"http://postnauka.ru/video/32881\">http://postnauka.ru/video/32881</a></li></ul>"
      ],
      "text/plain": [
       "<IPython.core.display.HTML object>"
      ]
     },
     "metadata": {},
     "output_type": "display_data"
    },
    {
     "data": {
      "text/html": [
       "<h1>температура</h1>"
      ],
      "text/plain": [
       "<IPython.core.display.HTML object>"
      ]
     },
     "metadata": {},
     "output_type": "display_data"
    },
    {
     "data": {
      "text/html": [
       "<b>Ключевые слова: </b>температура университет сверхпроводимость сверхпроводник сверхпроводящий частота переход заимствование гумбольдт точность магнит профессор кельвин жидкий булгарский"
      ],
      "text/plain": [
       "<IPython.core.display.HTML object>"
      ]
     },
     "metadata": {},
     "output_type": "display_data"
    },
    {
     "data": {
      "text/html": [
       "<ul><li><a href=\"http://postnauka.ru/video/2973\">http://postnauka.ru/video/2973</a></li><li><a href=\"http://postnauka.ru/video/49448\">http://postnauka.ru/video/49448</a></li><li><a href=\"http://postnauka.ru/video/51380\">http://postnauka.ru/video/51380</a></li><li><a href=\"http://postnauka.ru/video/50340\">http://postnauka.ru/video/50340</a></li><li><a href=\"http://postnauka.ru/video/31198\">http://postnauka.ru/video/31198</a></li><li><a href=\"http://postnauka.ru/video/55756\">http://postnauka.ru/video/55756</a></li><li><a href=\"http://postnauka.ru/video/51174\">http://postnauka.ru/video/51174</a></li><li><a href=\"http://postnauka.ru/video/50699\">http://postnauka.ru/video/50699</a></li><li><a href=\"http://postnauka.ru/video/19461\">http://postnauka.ru/video/19461</a></li><li><a href=\"http://postnauka.ru/video/40889\">http://postnauka.ru/video/40889</a></li></ul>"
      ],
      "text/plain": [
       "<IPython.core.display.HTML object>"
      ]
     },
     "metadata": {},
     "output_type": "display_data"
    }
   ],
   "source": [
    "# Ваш код\n",
    "doc_links = pdt.columns.tolist()\n",
    "for i, t_name in enumerate(model_artm.topic_names[:-1]):\n",
    "    display(HTML(u\"<h1>{}</h1>\".format(topic_labels[i])))\n",
    "    display(HTML(u'<b>Ключевые слова: </b>' + ' '.join(words[t_name])))\n",
    "    doc_list = ''\n",
    "    for i in doc_indexes[i][:10]:\n",
    "        doc_list = doc_list + '<li><a href=\"' + doc_links[i] + '\">' + doc_links[i] + '</a></li>'        \n",
    "    display(HTML('<ul>' + doc_list + '</ul>'))"
   ]
  },
  {
   "cell_type": "markdown",
   "metadata": {},
   "source": [
    "##### Заключение"
   ]
  },
  {
   "cell_type": "markdown",
   "metadata": {},
   "source": [
    "В этом Peer Review мы познакомились с базовыми возможностями библиотеки BigARTM и с методами визуализации тематических моделей. Визуализация тематических моделей - это широкая и активно развивающаяся область научных исследований. Мы рассмотрели только самые простые приемы. Желающие могут попробовать применить [Serendip](http://vep.cs.wisc.edu/serendip/#serendipHero), разработанный в  University of Wisconsin-Madison, к построенной модели. Эта библиотека позволяет максимально полно охарактеризовать темы и написана для языка python. \n",
    "\n",
    "Сделав задание, вы можете выбрать в навигаторе наиболее интересную для вас тему и посмотреть видеолекции :) На Постнауке очень много интересных материалов. "
   ]
  }
 ],
 "metadata": {
  "kernelspec": {
   "display_name": "Python 3",
   "language": "python",
   "name": "python3"
  },
  "language_info": {
   "codemirror_mode": {
    "name": "ipython",
    "version": 3
   },
   "file_extension": ".py",
   "mimetype": "text/x-python",
   "name": "python",
   "nbconvert_exporter": "python",
   "pygments_lexer": "ipython3",
   "version": "3.6.3"
  }
 },
 "nbformat": 4,
 "nbformat_minor": 1
}
